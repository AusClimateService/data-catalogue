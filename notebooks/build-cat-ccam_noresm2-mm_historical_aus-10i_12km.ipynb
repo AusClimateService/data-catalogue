{
 "cells": [
  {
   "cell_type": "markdown",
   "id": "a3c7829f-9399-4bfb-adf4-63851ba5fba2",
   "metadata": {},
   "source": [
    "# build-cat-ccam_noresm2-mm_historical_aus-10i_12km"
   ]
  },
  {
   "cell_type": "code",
   "execution_count": 1,
   "id": "dbfd2435-2231-4a62-aa70-d5fd531a259d",
   "metadata": {},
   "outputs": [],
   "source": [
    "import glob\n",
    "import pathlib\n",
    "import traceback\n",
    "from datetime import datetime\n",
    "\n",
    "import xarray as xr\n",
    "\n",
    "from ecgtools import Builder\n",
    "from ecgtools.builder import INVALID_ASSET, TRACEBACK\n",
    "\n",
    "from matplotlib import pyplot as plt"
   ]
  },
  {
   "cell_type": "raw",
   "id": "6ee27ae2-b757-43f9-8973-7e3a93f33733",
   "metadata": {
    "tags": []
   },
   "source": [
    "import os\n",
    "import dask.config\n",
    "from dask.distributed import Client,LocalCluster\n",
    "from dask_jobqueue import PBSCluster\n",
    "walltime = '01:00:00'\n",
    "cores = 48\n",
    "memory = '192GB'\n",
    "  \n",
    "cluster = PBSCluster(walltime=str(walltime), cores=cores, memory=str(memory),processes=cores,\n",
    "                     job_extra=['-q normal','-P xv83','-l ncpus='+str(cores),'-l mem='+str(memory),\n",
    "                                '-l storage=gdata/xv83+gdata/v14+gdata/ux62+scratch/xv83+gdata/rt52+gdata/ik11+gdata/cj50+gdata/jk72+gdata/hh5'],\n",
    "                     local_directory='$TMPDIR',\n",
    "                     header_skip=[\"select\"])\n",
    "cluster.scale(jobs=1)"
   ]
  },
  {
   "cell_type": "raw",
   "id": "a0f6956d-2ba2-49b1-a39b-afa7d0b0204e",
   "metadata": {
    "tags": []
   },
   "source": [
    "cluster"
   ]
  },
  {
   "cell_type": "raw",
   "id": "24112962-687d-4c64-88aa-ed7fc9893f27",
   "metadata": {
    "tags": []
   },
   "source": [
    "from dask.distributed import Client\n",
    "client = Client()\n",
    "client"
   ]
  },
  {
   "cell_type": "code",
   "execution_count": null,
   "id": "d9344668-234f-4133-9e08-77c244e7c52f",
   "metadata": {},
   "outputs": [],
   "source": []
  },
  {
   "cell_type": "markdown",
   "id": "885de51b-27ab-4167-bc36-a84bbfa773ba",
   "metadata": {},
   "source": [
    "# build the catalogue"
   ]
  },
  {
   "cell_type": "code",
   "execution_count": 2,
   "id": "83f04ece-46ad-4f2f-b048-bb30495fd886",
   "metadata": {
    "tags": []
   },
   "outputs": [],
   "source": [
    "root = '/g/data/xv83/mxt599/ccam_noresm2-mm_historical_aus-10i_12km/drs_cordex/CORDEX/output/AUS-10i/CSIRO/NCC-NorESM2-MM/historical/r1i1p1f1/CSIRO-CCAM-2203/v1/'"
   ]
  },
  {
   "cell_type": "code",
   "execution_count": 3,
   "id": "9991bf33-b797-4ae9-baa0-1983ecf1a16c",
   "metadata": {
    "tags": []
   },
   "outputs": [
    {
     "data": {
      "text/plain": [
       "32964"
      ]
     },
     "execution_count": 3,
     "metadata": {},
     "output_type": "execute_result"
    }
   ],
   "source": [
    "files = sorted(glob.glob(root+'*/*/*'))\n",
    "len(files)"
   ]
  },
  {
   "cell_type": "code",
   "execution_count": 4,
   "id": "85a6d760-157a-4902-a3ee-84448ecb095f",
   "metadata": {
    "tags": []
   },
   "outputs": [
    {
     "data": {
      "text/plain": [
       "'/g/data/xv83/mxt599/ccam_noresm2-mm_historical_aus-10i_12km/drs_cordex/CORDEX/output/AUS-10i/CSIRO/NCC-NorESM2-MM/historical/r1i1p1f1/CSIRO-CCAM-2203/v1/1hr/CAPE/CAPE_AUS-10i_NCC-NorESM2-MM_historical_r1i1p1f1_CSIRO-CCAM-2203_v1_1hr_19510101-19511231.nc'"
      ]
     },
     "execution_count": 4,
     "metadata": {},
     "output_type": "execute_result"
    }
   ],
   "source": [
    "files[0]"
   ]
  },
  {
   "cell_type": "raw",
   "id": "97fd590f-d0cc-48d4-9571-5b7b9f830a29",
   "metadata": {
    "tags": []
   },
   "source": [
    "ds = xr.open_mfdataset(files[0:11],parallel=True)\n",
    "ds"
   ]
  },
  {
   "cell_type": "code",
   "execution_count": 5,
   "id": "b2e8bd50-9e46-4c97-a117-8a314499f690",
   "metadata": {
    "tags": []
   },
   "outputs": [
    {
     "data": {
      "text/plain": [
       "['CAPE',\n",
       " 'AUS-10i',\n",
       " 'NCC-NorESM2-MM',\n",
       " 'historical',\n",
       " 'r1i1p1f1',\n",
       " 'CSIRO-CCAM-2203',\n",
       " 'v1',\n",
       " '1hr',\n",
       " '19510101-19511231']"
      ]
     },
     "execution_count": 5,
     "metadata": {},
     "output_type": "execute_result"
    }
   ],
   "source": [
    "path = pathlib.Path(files[0])\n",
    "path.stem.split('_')"
   ]
  },
  {
   "cell_type": "markdown",
   "id": "0a3feebf-c2f8-49c8-abba-69a64525ebbc",
   "metadata": {},
   "source": [
    "# NOTES from Marcus chat"
   ]
  },
  {
   "cell_type": "raw",
   "id": "70e5062d-2ddd-4814-9789-2b391762c68b",
   "metadata": {},
   "source": [
    "Host GCM ensemble = \"r1i1p1f1\" - \"at the moment single ensemble\"\n",
    "AUS-10i = \"the domain & grid . . . 0.1 degree . . . . i = interpolated\" - \"NO metadata variability\"\n",
    "CAPE = variable name\n",
    "v1 = \"there will be a v2 eventually - not yet\""
   ]
  },
  {
   "cell_type": "markdown",
   "id": "181b918d-4cc8-435f-9bba-7f094bee7493",
   "metadata": {},
   "source": [
    "## use this as an error check?"
   ]
  },
  {
   "cell_type": "raw",
   "id": "c4cf724c-83e5-432e-a4f7-d9aaec428f1c",
   "metadata": {},
   "source": [
    "variable_list = [var for var in ds if 'long_name' in ds[var].attrs]\n",
    "variable_list"
   ]
  },
  {
   "cell_type": "raw",
   "id": "20b21e89-f20f-402d-bffd-a0533cf0c7fe",
   "metadata": {
    "tags": []
   },
   "source": [
    "split = path.stem.split('_')"
   ]
  },
  {
   "cell_type": "raw",
   "id": "f7e82b15-6a2f-4d83-8824-4a1f1f5ca2f8",
   "metadata": {
    "tags": []
   },
   "source": [
    "split[0]"
   ]
  },
  {
   "cell_type": "raw",
   "id": "e97074ac-71a0-4df8-803f-17dcf5d3cbcd",
   "metadata": {},
   "source": [
    "def parse_CCAM(file):\n",
    "    \"\"\"CCAM data stored in\"\"\"\n",
    "    file = pathlib.Path(file)\n",
    "    info = {}\n",
    "\n",
    "    try:\n",
    "        stem = file.stem\n",
    "        split = stem.split('_')\n",
    "        variable = split[0]\n",
    "        domain = split[1]\n",
    "        host_GCM = split[2]\n",
    "        run_type = split[3]\n",
    "        host_ensemble = split[4]\n",
    "        downscale_model = split[5]\n",
    "        downscale_version = split[6]\n",
    "        period = split[7]\n",
    "        if period == '1hr':\n",
    "            time_period = 'hourly'\n",
    "        elif period == '6hr':\n",
    "            time_period = 'six_hourly'\n",
    "        elif period == 'day':\n",
    "            time_period = 'daily'\n",
    "        elif period == 'mon':\n",
    "            time_period = 'monthly'\n",
    "        else:\n",
    "            time_period = 'fixed'    \n",
    "\n",
    "        with xr.open_dataset(file, chunks={}, decode_times=False) as ds:\n",
    "            variable_list = [var for var in ds if 'long_name' in ds[var].attrs]\n",
    "            # if exception check on vars here?\n",
    "            info = {\n",
    "                'variable': variable,\n",
    "                'domain': domain,\n",
    "                'host_GCM':host_GCM,\n",
    "                'run_type':run_type,\n",
    "                'host_ensemble':host_ensemble,\n",
    "                'downscale_model':downscale_model,\n",
    "                'downscale_version':downscale_version,\n",
    "                'period': period,\n",
    "                'time_period': time_period,\n",
    "                'path': str(file),\n",
    "            }\n",
    "\n",
    "        return info\n",
    "\n",
    "    except Exception:\n",
    "        return {INVALID_ASSET: file, TRACEBACK: traceback.format_exc()}"
   ]
  },
  {
   "cell_type": "markdown",
   "id": "d05ff543-bb70-445f-88fb-b8c96ad006f7",
   "metadata": {},
   "source": [
    "# do we really need to open all the files?  Given variable name is in the filename?"
   ]
  },
  {
   "cell_type": "code",
   "execution_count": 6,
   "id": "8bc37bbf-05ad-4ad8-9b7f-3f741eccbc3a",
   "metadata": {
    "tags": []
   },
   "outputs": [],
   "source": [
    "def parse_CCAM(file):\n",
    "    \"\"\"CCAM data stored in\"\"\"\n",
    "    file = pathlib.Path(file)\n",
    "    info = {}\n",
    "\n",
    "    try:\n",
    "        stem = file.stem\n",
    "        split = stem.split('_')\n",
    "        variable = split[0]\n",
    "        domain = split[1]\n",
    "        host_GCM = split[2]\n",
    "        run_type = split[3]\n",
    "        host_ensemble = split[4]\n",
    "        downscale_model = split[5]\n",
    "        downscale_version = split[6]\n",
    "        period = split[7]\n",
    "        if period == '1hr':\n",
    "            time_period = 'hourly'\n",
    "        elif period == '6hr':\n",
    "            time_period = 'six_hourly'\n",
    "        elif period == 'day':\n",
    "            time_period = 'daily'\n",
    "        elif period == 'mon':\n",
    "            time_period = 'monthly'\n",
    "        else:\n",
    "            time_period = 'fixed'    \n",
    "\n",
    "        \n",
    "        info = {\n",
    "            'variable': variable,\n",
    "            'domain': domain,\n",
    "            'host_GCM':host_GCM,\n",
    "            'run_type':run_type,\n",
    "            'host_ensemble':host_ensemble,\n",
    "            'downscale_model':downscale_model,\n",
    "            'downscale_version':downscale_version,\n",
    "            'period': period,\n",
    "            'time_period': time_period,\n",
    "            'path': str(file),\n",
    "        }\n",
    "        return info\n",
    "    \n",
    "    except Exception:\n",
    "        return {INVALID_ASSET: file, TRACEBACK: traceback.format_exc()}"
   ]
  },
  {
   "cell_type": "code",
   "execution_count": 7,
   "id": "f998a082-f9ef-4885-9503-68fe9f87c6c8",
   "metadata": {},
   "outputs": [
    {
     "data": {
      "text/plain": [
       "{'variable': 'CAPE',\n",
       " 'domain': 'AUS-10i',\n",
       " 'host_GCM': 'NCC-NorESM2-MM',\n",
       " 'run_type': 'historical',\n",
       " 'host_ensemble': 'r1i1p1f1',\n",
       " 'downscale_model': 'CSIRO-CCAM-2203',\n",
       " 'downscale_version': 'v1',\n",
       " 'period': '1hr',\n",
       " 'time_period': 'hourly',\n",
       " 'path': '/g/data/xv83/mxt599/ccam_noresm2-mm_historical_aus-10i_12km/drs_cordex/CORDEX/output/AUS-10i/CSIRO/NCC-NorESM2-MM/historical/r1i1p1f1/CSIRO-CCAM-2203/v1/1hr/CAPE/CAPE_AUS-10i_NCC-NorESM2-MM_historical_r1i1p1f1_CSIRO-CCAM-2203_v1_1hr_19510101-19511231.nc'}"
      ]
     },
     "execution_count": 7,
     "metadata": {},
     "output_type": "execute_result"
    }
   ],
   "source": [
    "parse_CCAM(files[0])"
   ]
  },
  {
   "cell_type": "markdown",
   "id": "fee44837-094f-4de1-bebd-e6a73bd18b9a",
   "metadata": {},
   "source": [
    "# setup builder object"
   ]
  },
  {
   "cell_type": "code",
   "execution_count": 8,
   "id": "0cb64feb-483a-49df-acbc-394ed7599880",
   "metadata": {
    "tags": []
   },
   "outputs": [],
   "source": [
    "root2 = '/g/data/xv83/mxt599/ccam_noresm2-mm_historical_aus-10i_12km/drs_cordex/CORDEX/output/AUS-10i/CSIRO/NCC-NorESM2-MM/historical/r1i1p1f1/CSIRO-CCAM-2203/v1'"
   ]
  },
  {
   "cell_type": "code",
   "execution_count": 9,
   "id": "2b81bdfb-a469-4c17-ab46-06699a867418",
   "metadata": {
    "tags": []
   },
   "outputs": [
    {
     "name": "stdout",
     "output_type": "stream",
     "text": [
      "CPU times: user 1.53 ms, sys: 0 ns, total: 1.53 ms\n",
      "Wall time: 1.54 ms\n"
     ]
    }
   ],
   "source": [
    "%%time\n",
    "b = Builder([root2],depth=2)"
   ]
  },
  {
   "cell_type": "code",
   "execution_count": 10,
   "id": "67309be2-ed72-47fa-ba80-58a76916e6e8",
   "metadata": {
    "tags": []
   },
   "outputs": [
    {
     "data": {
      "text/plain": [
       "Builder(paths=['/g/data/xv83/mxt599/ccam_noresm2-mm_historical_aus-10i_12km/drs_cordex/CORDEX/output/AUS-10i/CSIRO/NCC-NorESM2-MM/historical/r1i1p1f1/CSIRO-CCAM-2203/v1'], storage_options={}, depth=2, exclude_patterns=[], include_patterns=[], joblib_parallel_kwargs={})"
      ]
     },
     "execution_count": 10,
     "metadata": {},
     "output_type": "execute_result"
    }
   ],
   "source": [
    "b"
   ]
  },
  {
   "cell_type": "code",
   "execution_count": 11,
   "id": "9ba190e2-8d45-4da8-82fb-150c53a3adf6",
   "metadata": {
    "tags": []
   },
   "outputs": [
    {
     "name": "stdout",
     "output_type": "stream",
     "text": [
      "CPU times: user 2.68 s, sys: 1.49 s, total: 4.17 s\n",
      "Wall time: 8.78 s\n"
     ]
    },
    {
     "name": "stderr",
     "output_type": "stream",
     "text": [
      "/g/data/v14/tm4888/miniconda3/envs/intake-stable-ecgtools/lib/python3.10/site-packages/ecgtools/builder.py:204: UserWarning: Unable to parse 4 assets. A list of these assets can be found in `.invalid_assets` attribute.\n",
      "  ).clean_dataframe()\n"
     ]
    },
    {
     "data": {
      "text/plain": [
       "Builder(paths=['/g/data/xv83/mxt599/ccam_noresm2-mm_historical_aus-10i_12km/drs_cordex/CORDEX/output/AUS-10i/CSIRO/NCC-NorESM2-MM/historical/r1i1p1f1/CSIRO-CCAM-2203/v1'], storage_options={}, depth=2, exclude_patterns=[], include_patterns=[], joblib_parallel_kwargs={})"
      ]
     },
     "execution_count": 11,
     "metadata": {},
     "output_type": "execute_result"
    }
   ],
   "source": [
    "%%time\n",
    "b.build(parsing_func = parse_CCAM)"
   ]
  },
  {
   "cell_type": "code",
   "execution_count": 12,
   "id": "15c410c9-f048-4930-88eb-78871ece3437",
   "metadata": {},
   "outputs": [
    {
     "data": {
      "text/html": [
       "<div>\n",
       "<style scoped>\n",
       "    .dataframe tbody tr th:only-of-type {\n",
       "        vertical-align: middle;\n",
       "    }\n",
       "\n",
       "    .dataframe tbody tr th {\n",
       "        vertical-align: top;\n",
       "    }\n",
       "\n",
       "    .dataframe thead th {\n",
       "        text-align: right;\n",
       "    }\n",
       "</style>\n",
       "<table border=\"1\" class=\"dataframe\">\n",
       "  <thead>\n",
       "    <tr style=\"text-align: right;\">\n",
       "      <th></th>\n",
       "      <th>variable</th>\n",
       "      <th>domain</th>\n",
       "      <th>host_GCM</th>\n",
       "      <th>run_type</th>\n",
       "      <th>host_ensemble</th>\n",
       "      <th>downscale_model</th>\n",
       "      <th>downscale_version</th>\n",
       "      <th>period</th>\n",
       "      <th>time_period</th>\n",
       "      <th>path</th>\n",
       "    </tr>\n",
       "  </thead>\n",
       "  <tbody>\n",
       "    <tr>\n",
       "      <th>0</th>\n",
       "      <td>CAPE</td>\n",
       "      <td>AUS-10i</td>\n",
       "      <td>NCC-NorESM2-MM</td>\n",
       "      <td>historical</td>\n",
       "      <td>r1i1p1f1</td>\n",
       "      <td>CSIRO-CCAM-2203</td>\n",
       "      <td>v1</td>\n",
       "      <td>1hr</td>\n",
       "      <td>hourly</td>\n",
       "      <td>/g/data/xv83/mxt599/ccam_noresm2-mm_historical...</td>\n",
       "    </tr>\n",
       "    <tr>\n",
       "      <th>1</th>\n",
       "      <td>CAPE</td>\n",
       "      <td>AUS-10i</td>\n",
       "      <td>NCC-NorESM2-MM</td>\n",
       "      <td>historical</td>\n",
       "      <td>r1i1p1f1</td>\n",
       "      <td>CSIRO-CCAM-2203</td>\n",
       "      <td>v1</td>\n",
       "      <td>1hr</td>\n",
       "      <td>hourly</td>\n",
       "      <td>/g/data/xv83/mxt599/ccam_noresm2-mm_historical...</td>\n",
       "    </tr>\n",
       "    <tr>\n",
       "      <th>2</th>\n",
       "      <td>CAPE</td>\n",
       "      <td>AUS-10i</td>\n",
       "      <td>NCC-NorESM2-MM</td>\n",
       "      <td>historical</td>\n",
       "      <td>r1i1p1f1</td>\n",
       "      <td>CSIRO-CCAM-2203</td>\n",
       "      <td>v1</td>\n",
       "      <td>1hr</td>\n",
       "      <td>hourly</td>\n",
       "      <td>/g/data/xv83/mxt599/ccam_noresm2-mm_historical...</td>\n",
       "    </tr>\n",
       "    <tr>\n",
       "      <th>3</th>\n",
       "      <td>CAPE</td>\n",
       "      <td>AUS-10i</td>\n",
       "      <td>NCC-NorESM2-MM</td>\n",
       "      <td>historical</td>\n",
       "      <td>r1i1p1f1</td>\n",
       "      <td>CSIRO-CCAM-2203</td>\n",
       "      <td>v1</td>\n",
       "      <td>1hr</td>\n",
       "      <td>hourly</td>\n",
       "      <td>/g/data/xv83/mxt599/ccam_noresm2-mm_historical...</td>\n",
       "    </tr>\n",
       "    <tr>\n",
       "      <th>4</th>\n",
       "      <td>CAPE</td>\n",
       "      <td>AUS-10i</td>\n",
       "      <td>NCC-NorESM2-MM</td>\n",
       "      <td>historical</td>\n",
       "      <td>r1i1p1f1</td>\n",
       "      <td>CSIRO-CCAM-2203</td>\n",
       "      <td>v1</td>\n",
       "      <td>1hr</td>\n",
       "      <td>hourly</td>\n",
       "      <td>/g/data/xv83/mxt599/ccam_noresm2-mm_historical...</td>\n",
       "    </tr>\n",
       "    <tr>\n",
       "      <th>...</th>\n",
       "      <td>...</td>\n",
       "      <td>...</td>\n",
       "      <td>...</td>\n",
       "      <td>...</td>\n",
       "      <td>...</td>\n",
       "      <td>...</td>\n",
       "      <td>...</td>\n",
       "      <td>...</td>\n",
       "      <td>...</td>\n",
       "      <td>...</td>\n",
       "    </tr>\n",
       "    <tr>\n",
       "      <th>32959</th>\n",
       "      <td>zmla</td>\n",
       "      <td>AUS-10i</td>\n",
       "      <td>NCC-NorESM2-MM</td>\n",
       "      <td>historical</td>\n",
       "      <td>r1i1p1f1</td>\n",
       "      <td>CSIRO-CCAM-2203</td>\n",
       "      <td>v1</td>\n",
       "      <td>mon</td>\n",
       "      <td>monthly</td>\n",
       "      <td>/g/data/xv83/mxt599/ccam_noresm2-mm_historical...</td>\n",
       "    </tr>\n",
       "    <tr>\n",
       "      <th>32960</th>\n",
       "      <td>zmla</td>\n",
       "      <td>AUS-10i</td>\n",
       "      <td>NCC-NorESM2-MM</td>\n",
       "      <td>historical</td>\n",
       "      <td>r1i1p1f1</td>\n",
       "      <td>CSIRO-CCAM-2203</td>\n",
       "      <td>v1</td>\n",
       "      <td>mon</td>\n",
       "      <td>monthly</td>\n",
       "      <td>/g/data/xv83/mxt599/ccam_noresm2-mm_historical...</td>\n",
       "    </tr>\n",
       "    <tr>\n",
       "      <th>32961</th>\n",
       "      <td>zmla</td>\n",
       "      <td>AUS-10i</td>\n",
       "      <td>NCC-NorESM2-MM</td>\n",
       "      <td>historical</td>\n",
       "      <td>r1i1p1f1</td>\n",
       "      <td>CSIRO-CCAM-2203</td>\n",
       "      <td>v1</td>\n",
       "      <td>mon</td>\n",
       "      <td>monthly</td>\n",
       "      <td>/g/data/xv83/mxt599/ccam_noresm2-mm_historical...</td>\n",
       "    </tr>\n",
       "    <tr>\n",
       "      <th>32962</th>\n",
       "      <td>zmla</td>\n",
       "      <td>AUS-10i</td>\n",
       "      <td>NCC-NorESM2-MM</td>\n",
       "      <td>historical</td>\n",
       "      <td>r1i1p1f1</td>\n",
       "      <td>CSIRO-CCAM-2203</td>\n",
       "      <td>v1</td>\n",
       "      <td>mon</td>\n",
       "      <td>monthly</td>\n",
       "      <td>/g/data/xv83/mxt599/ccam_noresm2-mm_historical...</td>\n",
       "    </tr>\n",
       "    <tr>\n",
       "      <th>32963</th>\n",
       "      <td>zmla</td>\n",
       "      <td>AUS-10i</td>\n",
       "      <td>NCC-NorESM2-MM</td>\n",
       "      <td>historical</td>\n",
       "      <td>r1i1p1f1</td>\n",
       "      <td>CSIRO-CCAM-2203</td>\n",
       "      <td>v1</td>\n",
       "      <td>mon</td>\n",
       "      <td>monthly</td>\n",
       "      <td>/g/data/xv83/mxt599/ccam_noresm2-mm_historical...</td>\n",
       "    </tr>\n",
       "  </tbody>\n",
       "</table>\n",
       "<p>32960 rows × 10 columns</p>\n",
       "</div>"
      ],
      "text/plain": [
       "      variable   domain        host_GCM    run_type host_ensemble  \\\n",
       "0         CAPE  AUS-10i  NCC-NorESM2-MM  historical      r1i1p1f1   \n",
       "1         CAPE  AUS-10i  NCC-NorESM2-MM  historical      r1i1p1f1   \n",
       "2         CAPE  AUS-10i  NCC-NorESM2-MM  historical      r1i1p1f1   \n",
       "3         CAPE  AUS-10i  NCC-NorESM2-MM  historical      r1i1p1f1   \n",
       "4         CAPE  AUS-10i  NCC-NorESM2-MM  historical      r1i1p1f1   \n",
       "...        ...      ...             ...         ...           ...   \n",
       "32959     zmla  AUS-10i  NCC-NorESM2-MM  historical      r1i1p1f1   \n",
       "32960     zmla  AUS-10i  NCC-NorESM2-MM  historical      r1i1p1f1   \n",
       "32961     zmla  AUS-10i  NCC-NorESM2-MM  historical      r1i1p1f1   \n",
       "32962     zmla  AUS-10i  NCC-NorESM2-MM  historical      r1i1p1f1   \n",
       "32963     zmla  AUS-10i  NCC-NorESM2-MM  historical      r1i1p1f1   \n",
       "\n",
       "       downscale_model downscale_version period time_period  \\\n",
       "0      CSIRO-CCAM-2203                v1    1hr      hourly   \n",
       "1      CSIRO-CCAM-2203                v1    1hr      hourly   \n",
       "2      CSIRO-CCAM-2203                v1    1hr      hourly   \n",
       "3      CSIRO-CCAM-2203                v1    1hr      hourly   \n",
       "4      CSIRO-CCAM-2203                v1    1hr      hourly   \n",
       "...                ...               ...    ...         ...   \n",
       "32959  CSIRO-CCAM-2203                v1    mon     monthly   \n",
       "32960  CSIRO-CCAM-2203                v1    mon     monthly   \n",
       "32961  CSIRO-CCAM-2203                v1    mon     monthly   \n",
       "32962  CSIRO-CCAM-2203                v1    mon     monthly   \n",
       "32963  CSIRO-CCAM-2203                v1    mon     monthly   \n",
       "\n",
       "                                                    path  \n",
       "0      /g/data/xv83/mxt599/ccam_noresm2-mm_historical...  \n",
       "1      /g/data/xv83/mxt599/ccam_noresm2-mm_historical...  \n",
       "2      /g/data/xv83/mxt599/ccam_noresm2-mm_historical...  \n",
       "3      /g/data/xv83/mxt599/ccam_noresm2-mm_historical...  \n",
       "4      /g/data/xv83/mxt599/ccam_noresm2-mm_historical...  \n",
       "...                                                  ...  \n",
       "32959  /g/data/xv83/mxt599/ccam_noresm2-mm_historical...  \n",
       "32960  /g/data/xv83/mxt599/ccam_noresm2-mm_historical...  \n",
       "32961  /g/data/xv83/mxt599/ccam_noresm2-mm_historical...  \n",
       "32962  /g/data/xv83/mxt599/ccam_noresm2-mm_historical...  \n",
       "32963  /g/data/xv83/mxt599/ccam_noresm2-mm_historical...  \n",
       "\n",
       "[32960 rows x 10 columns]"
      ]
     },
     "execution_count": 12,
     "metadata": {},
     "output_type": "execute_result"
    }
   ],
   "source": [
    "b.df"
   ]
  },
  {
   "cell_type": "code",
   "execution_count": 13,
   "id": "43e7aabd-f6e6-4377-8c80-7bc48f624bc5",
   "metadata": {},
   "outputs": [
    {
     "data": {
      "text/plain": [
       "['__annotations__',\n",
       " '__class__',\n",
       " '__dataclass_fields__',\n",
       " '__dataclass_params__',\n",
       " '__delattr__',\n",
       " '__dict__',\n",
       " '__dir__',\n",
       " '__doc__',\n",
       " '__eq__',\n",
       " '__format__',\n",
       " '__ge__',\n",
       " '__get_validators__',\n",
       " '__getattribute__',\n",
       " '__gt__',\n",
       " '__hash__',\n",
       " '__init__',\n",
       " '__init_subclass__',\n",
       " '__le__',\n",
       " '__lt__',\n",
       " '__match_args__',\n",
       " '__module__',\n",
       " '__ne__',\n",
       " '__new__',\n",
       " '__post_init_post_parse__',\n",
       " '__pydantic_initialised__',\n",
       " '__pydantic_model__',\n",
       " '__pydantic_run_validation__',\n",
       " '__pydantic_validate_values__',\n",
       " '__reduce__',\n",
       " '__reduce_ex__',\n",
       " '__repr__',\n",
       " '__setattr__',\n",
       " '__sizeof__',\n",
       " '__str__',\n",
       " '__subclasshook__',\n",
       " '__validate__',\n",
       " '__weakref__',\n",
       " '_root_dirs',\n",
       " 'assets',\n",
       " 'build',\n",
       " 'clean_dataframe',\n",
       " 'depth',\n",
       " 'df',\n",
       " 'entries',\n",
       " 'exclude_patterns',\n",
       " 'exclude_regex',\n",
       " 'get_assets',\n",
       " 'include_patterns',\n",
       " 'include_regex',\n",
       " 'invalid_assets',\n",
       " 'joblib_parallel_kwargs',\n",
       " 'parse',\n",
       " 'paths',\n",
       " 'save',\n",
       " 'storage_options']"
      ]
     },
     "execution_count": 13,
     "metadata": {},
     "output_type": "execute_result"
    }
   ],
   "source": [
    "dir(b)"
   ]
  },
  {
   "cell_type": "code",
   "execution_count": 14,
   "id": "6b747f95-cb89-41b6-9c7d-1d4297b315df",
   "metadata": {
    "tags": []
   },
   "outputs": [
    {
     "data": {
      "text/plain": [
       "array([PosixPath('/g/data/xv83/mxt599/ccam_noresm2-mm_historical_aus-10i_12km/drs_cordex/CORDEX/output/AUS-10i/CSIRO/NCC-NorESM2-MM/historical/r1i1p1f1/CSIRO-CCAM-2203/v1/fx/orog/orog_AUS-10i_NCC-NorESM2-MM_historical_r1i1p1f1_CSIRO-CCAM-2203_v1.nc'),\n",
       "       PosixPath('/g/data/xv83/mxt599/ccam_noresm2-mm_historical_aus-10i_12km/drs_cordex/CORDEX/output/AUS-10i/CSIRO/NCC-NorESM2-MM/historical/r1i1p1f1/CSIRO-CCAM-2203/v1/fx/sftlaf/sftlaf_AUS-10i_NCC-NorESM2-MM_historical_r1i1p1f1_CSIRO-CCAM-2203_v1.nc'),\n",
       "       PosixPath('/g/data/xv83/mxt599/ccam_noresm2-mm_historical_aus-10i_12km/drs_cordex/CORDEX/output/AUS-10i/CSIRO/NCC-NorESM2-MM/historical/r1i1p1f1/CSIRO-CCAM-2203/v1/fx/sftlf/sftlf_AUS-10i_NCC-NorESM2-MM_historical_r1i1p1f1_CSIRO-CCAM-2203_v1.nc'),\n",
       "       PosixPath('/g/data/xv83/mxt599/ccam_noresm2-mm_historical_aus-10i_12km/drs_cordex/CORDEX/output/AUS-10i/CSIRO/NCC-NorESM2-MM/historical/r1i1p1f1/CSIRO-CCAM-2203/v1/fx/sfturf/sfturf_AUS-10i_NCC-NorESM2-MM_historical_r1i1p1f1_CSIRO-CCAM-2203_v1.nc')],\n",
       "      dtype=object)"
      ]
     },
     "execution_count": 14,
     "metadata": {},
     "output_type": "execute_result"
    }
   ],
   "source": [
    "b.invalid_assets['INVALID_ASSET'].values"
   ]
  },
  {
   "cell_type": "markdown",
   "id": "9c5a1820-52c5-4263-991b-5f09774da0f0",
   "metadata": {},
   "source": [
    "## example from docs"
   ]
  },
  {
   "cell_type": "raw",
   "id": "2184d1e8-d3f3-41c9-bb56-ebe8aa8c80b3",
   "metadata": {},
   "source": [
    "b.save(\n",
    "    # File path - could save as .csv (uncompressed csv) or .csv.gz (compressed csv)\n",
    "    \"/glade/work/mgrover/cesm-hist-test.csv\",\n",
    "    # Column name including filepath\n",
    "    path_column_name='path',\n",
    "    # Column name including variables\n",
    "    variable_column_name='variables',\n",
    "    # Data file format - could be netcdf or zarr (in this case, netcdf)\n",
    "    data_format=\"netcdf\",\n",
    "    # Which attributes to groupby when reading in variables using intake-esm\n",
    "    groupby_attrs=[\"component\", \"stream\", \"case\"],\n",
    "    # Aggregations which are fed into xarray when reading in data using intake\n",
    "    aggregations=[\n",
    "        {\n",
    "            \"type\": \"join_existing\",\n",
    "            \"attribute_name\": \"date\",\n",
    "            \"options\": {\"dim\": \"time\", \"coords\": \"minimal\", \"compat\": \"override\"},\n",
    "        }\n",
    "    ],\n",
    ")"
   ]
  },
  {
   "cell_type": "code",
   "execution_count": 15,
   "id": "bc354dc9-f104-4070-a25e-3a8ddc520169",
   "metadata": {
    "tags": []
   },
   "outputs": [
    {
     "name": "stdout",
     "output_type": "stream",
     "text": [
      "/home/599/tm4888\n"
     ]
    }
   ],
   "source": [
    "!pwd -P"
   ]
  },
  {
   "cell_type": "code",
   "execution_count": 17,
   "id": "a9670cf3-e948-49d5-81ef-b3166245aaf0",
   "metadata": {
    "tags": []
   },
   "outputs": [
    {
     "name": "stdout",
     "output_type": "stream",
     "text": [
      "Successfully wrote ESM catalog json file to: file:///home/599/tm4888//intake-catalogues/hist-01052023-catalogue.json\n"
     ]
    },
    {
     "name": "stderr",
     "output_type": "stream",
     "text": [
      "/jobfs/82277945.gadi-pbs/ipykernel_3344215/992739043.py:1: UserWarning: Unable to parse 4 assets/files. A list of these assets can be found in /jobfs/82277945.gadi-pbs//intake-catalogues/hist-01052023-catalogue_invalid_assets.csv.\n",
      "  b.save(\n"
     ]
    },
    {
     "ename": "OSError",
     "evalue": "Cannot save file into a non-existent directory: '/jobfs/82277945.gadi-pbs/intake-catalogues'",
     "output_type": "error",
     "traceback": [
      "\u001b[0;31m---------------------------------------------------------------------------\u001b[0m",
      "\u001b[0;31mOSError\u001b[0m                                   Traceback (most recent call last)",
      "Cell \u001b[0;32mIn[17], line 1\u001b[0m\n\u001b[0;32m----> 1\u001b[0m \u001b[43mb\u001b[49m\u001b[38;5;241;43m.\u001b[39;49m\u001b[43msave\u001b[49m\u001b[43m(\u001b[49m\n\u001b[1;32m      2\u001b[0m \u001b[43m    \u001b[49m\u001b[38;5;66;43;03m# File path - could save as .csv (uncompressed csv) or .csv.gz (compressed csv)\u001b[39;49;00m\n\u001b[1;32m      3\u001b[0m \u001b[43m    \u001b[49m\u001b[43mname\u001b[49m\u001b[43m \u001b[49m\u001b[38;5;241;43m=\u001b[39;49m\u001b[43m \u001b[49m\u001b[38;5;124;43m\"\u001b[39;49m\u001b[38;5;124;43m/intake-catalogues/hist-01052023-catalogue\u001b[39;49m\u001b[38;5;124;43m\"\u001b[39;49m\u001b[43m,\u001b[49m\n\u001b[1;32m      4\u001b[0m \u001b[43m    \u001b[49m\u001b[38;5;66;43;03m# Column name including filepath\u001b[39;49;00m\n\u001b[1;32m      5\u001b[0m \u001b[43m    \u001b[49m\u001b[43mpath_column_name\u001b[49m\u001b[38;5;241;43m=\u001b[39;49m\u001b[38;5;124;43m'\u001b[39;49m\u001b[38;5;124;43mpath\u001b[39;49m\u001b[38;5;124;43m'\u001b[39;49m\u001b[43m,\u001b[49m\n\u001b[1;32m      6\u001b[0m \u001b[43m    \u001b[49m\u001b[38;5;66;43;03m# Column name including variables\u001b[39;49;00m\n\u001b[1;32m      7\u001b[0m \u001b[43m    \u001b[49m\u001b[43mvariable_column_name\u001b[49m\u001b[38;5;241;43m=\u001b[39;49m\u001b[38;5;124;43m'\u001b[39;49m\u001b[38;5;124;43mvariable\u001b[39;49m\u001b[38;5;124;43m'\u001b[39;49m\u001b[43m,\u001b[49m\n\u001b[1;32m      8\u001b[0m \u001b[43m    \u001b[49m\u001b[38;5;66;43;03m# Data file format - could be netcdf or zarr (in this case, netcdf)\u001b[39;49;00m\n\u001b[1;32m      9\u001b[0m \u001b[43m    \u001b[49m\u001b[43mdata_format\u001b[49m\u001b[38;5;241;43m=\u001b[39;49m\u001b[38;5;124;43m\"\u001b[39;49m\u001b[38;5;124;43mnetcdf\u001b[39;49m\u001b[38;5;124;43m\"\u001b[39;49m\u001b[43m,\u001b[49m\n\u001b[1;32m     10\u001b[0m \u001b[43m    \u001b[49m\u001b[38;5;66;43;03m# Which attributes to groupby when reading in variables using intake-esm\u001b[39;49;00m\n\u001b[1;32m     11\u001b[0m \u001b[43m    \u001b[49m\u001b[43mgroupby_attrs\u001b[49m\u001b[38;5;241;43m=\u001b[39;49m\u001b[43m[\u001b[49m\u001b[38;5;124;43m\"\u001b[39;49m\u001b[38;5;124;43mdomain\u001b[39;49m\u001b[38;5;124;43m\"\u001b[39;49m\u001b[43m,\u001b[49m\u001b[43m \u001b[49m\u001b[38;5;124;43m\"\u001b[39;49m\u001b[38;5;124;43mhost_GCM\u001b[39;49m\u001b[38;5;124;43m\"\u001b[39;49m\u001b[43m,\u001b[49m\u001b[43m \u001b[49m\u001b[38;5;124;43m\"\u001b[39;49m\u001b[38;5;124;43mrun_type\u001b[39;49m\u001b[38;5;124;43m\"\u001b[39;49m\u001b[43m,\u001b[49m\u001b[38;5;124;43m\"\u001b[39;49m\u001b[38;5;124;43mhost_ensemble\u001b[39;49m\u001b[38;5;124;43m\"\u001b[39;49m\u001b[43m,\u001b[49m\u001b[38;5;124;43m\"\u001b[39;49m\u001b[38;5;124;43mdownscale_model\u001b[39;49m\u001b[38;5;124;43m\"\u001b[39;49m\u001b[43m,\u001b[49m\u001b[38;5;124;43m\"\u001b[39;49m\u001b[38;5;124;43mdownscale_version\u001b[39;49m\u001b[38;5;124;43m\"\u001b[39;49m\u001b[43m,\u001b[49m\u001b[38;5;124;43m\"\u001b[39;49m\u001b[38;5;124;43mperiod\u001b[39;49m\u001b[38;5;124;43m\"\u001b[39;49m\u001b[43m]\u001b[49m\u001b[43m,\u001b[49m\n\u001b[1;32m     12\u001b[0m \u001b[43m    \u001b[49m\u001b[38;5;66;43;03m# Aggregations which are fed into xarray when reading in data using intake\u001b[39;49;00m\n\u001b[1;32m     13\u001b[0m \u001b[43m    \u001b[49m\u001b[43maggregations\u001b[49m\u001b[38;5;241;43m=\u001b[39;49m\u001b[43m[\u001b[49m\n\u001b[1;32m     14\u001b[0m \u001b[43m        \u001b[49m\u001b[43m{\u001b[49m\n\u001b[1;32m     15\u001b[0m \u001b[43m            \u001b[49m\u001b[38;5;124;43m\"\u001b[39;49m\u001b[38;5;124;43mtype\u001b[39;49m\u001b[38;5;124;43m\"\u001b[39;49m\u001b[43m:\u001b[49m\u001b[43m \u001b[49m\u001b[38;5;124;43m\"\u001b[39;49m\u001b[38;5;124;43mjoin_existing\u001b[39;49m\u001b[38;5;124;43m\"\u001b[39;49m\u001b[43m,\u001b[49m\n\u001b[1;32m     16\u001b[0m \u001b[43m            \u001b[49m\u001b[38;5;124;43m\"\u001b[39;49m\u001b[38;5;124;43mattribute_name\u001b[39;49m\u001b[38;5;124;43m\"\u001b[39;49m\u001b[43m:\u001b[49m\u001b[43m \u001b[49m\u001b[38;5;124;43m\"\u001b[39;49m\u001b[38;5;124;43mdate\u001b[39;49m\u001b[38;5;124;43m\"\u001b[39;49m\u001b[43m,\u001b[49m\n\u001b[1;32m     17\u001b[0m \u001b[43m            \u001b[49m\u001b[38;5;124;43m\"\u001b[39;49m\u001b[38;5;124;43moptions\u001b[39;49m\u001b[38;5;124;43m\"\u001b[39;49m\u001b[43m:\u001b[49m\u001b[43m \u001b[49m\u001b[43m{\u001b[49m\u001b[38;5;124;43m\"\u001b[39;49m\u001b[38;5;124;43mdim\u001b[39;49m\u001b[38;5;124;43m\"\u001b[39;49m\u001b[43m:\u001b[49m\u001b[43m \u001b[49m\u001b[38;5;124;43m\"\u001b[39;49m\u001b[38;5;124;43mtime\u001b[39;49m\u001b[38;5;124;43m\"\u001b[39;49m\u001b[43m,\u001b[49m\u001b[43m \u001b[49m\u001b[38;5;124;43m\"\u001b[39;49m\u001b[38;5;124;43mcoords\u001b[39;49m\u001b[38;5;124;43m\"\u001b[39;49m\u001b[43m:\u001b[49m\u001b[43m \u001b[49m\u001b[38;5;124;43m\"\u001b[39;49m\u001b[38;5;124;43mminimal\u001b[39;49m\u001b[38;5;124;43m\"\u001b[39;49m\u001b[43m,\u001b[49m\u001b[43m \u001b[49m\u001b[38;5;124;43m\"\u001b[39;49m\u001b[38;5;124;43mcompat\u001b[39;49m\u001b[38;5;124;43m\"\u001b[39;49m\u001b[43m:\u001b[49m\u001b[43m \u001b[49m\u001b[38;5;124;43m\"\u001b[39;49m\u001b[38;5;124;43moverride\u001b[39;49m\u001b[38;5;124;43m\"\u001b[39;49m\u001b[43m}\u001b[49m\u001b[43m,\u001b[49m\n\u001b[1;32m     18\u001b[0m \u001b[43m        \u001b[49m\u001b[43m}\u001b[49m\n\u001b[1;32m     19\u001b[0m \u001b[43m    \u001b[49m\u001b[43m]\u001b[49m\u001b[43m,\u001b[49m\n\u001b[1;32m     20\u001b[0m \u001b[43m)\u001b[49m\n",
      "File \u001b[0;32m/g/data/v14/tm4888/miniconda3/envs/intake-stable-ecgtools/lib/python3.10/site-packages/pydantic/decorator.py:40\u001b[0m, in \u001b[0;36mpydantic.decorator.validate_arguments.validate.wrapper_function\u001b[0;34m()\u001b[0m\n",
      "File \u001b[0;32m/g/data/v14/tm4888/miniconda3/envs/intake-stable-ecgtools/lib/python3.10/site-packages/pydantic/decorator.py:134\u001b[0m, in \u001b[0;36mpydantic.decorator.ValidatedFunction.call\u001b[0;34m()\u001b[0m\n",
      "File \u001b[0;32m/g/data/v14/tm4888/miniconda3/envs/intake-stable-ecgtools/lib/python3.10/site-packages/pydantic/decorator.py:206\u001b[0m, in \u001b[0;36mpydantic.decorator.ValidatedFunction.execute\u001b[0;34m()\u001b[0m\n",
      "File \u001b[0;32m/g/data/v14/tm4888/miniconda3/envs/intake-stable-ecgtools/lib/python3.10/site-packages/ecgtools/builder.py:305\u001b[0m, in \u001b[0;36mBuilder.save\u001b[0;34m(self, name, path_column_name, variable_column_name, data_format, groupby_attrs, aggregations, esmcat_version, description, directory, catalog_type, to_csv_kwargs, json_dump_kwargs)\u001b[0m\n\u001b[1;32m    300\u001b[0m invalid_assets_report_file \u001b[38;5;241m=\u001b[39m \u001b[38;5;124mf\u001b[39m\u001b[38;5;124m'\u001b[39m\u001b[38;5;132;01m{\u001b[39;00mtempfile\u001b[38;5;241m.\u001b[39mgettempdir()\u001b[38;5;132;01m}\u001b[39;00m\u001b[38;5;124m/\u001b[39m\u001b[38;5;132;01m{\u001b[39;00mname\u001b[38;5;132;01m}\u001b[39;00m\u001b[38;5;124m_invalid_assets.csv\u001b[39m\u001b[38;5;124m'\u001b[39m\n\u001b[1;32m    301\u001b[0m warnings\u001b[38;5;241m.\u001b[39mwarn(\n\u001b[1;32m    302\u001b[0m     \u001b[38;5;124mf\u001b[39m\u001b[38;5;124m'\u001b[39m\u001b[38;5;124mUnable to parse \u001b[39m\u001b[38;5;132;01m{\u001b[39;00m\u001b[38;5;28mlen\u001b[39m(\u001b[38;5;28mself\u001b[39m\u001b[38;5;241m.\u001b[39minvalid_assets)\u001b[38;5;132;01m}\u001b[39;00m\u001b[38;5;124m assets/files. A list of these assets can be found in \u001b[39m\u001b[38;5;132;01m{\u001b[39;00minvalid_assets_report_file\u001b[38;5;132;01m}\u001b[39;00m\u001b[38;5;124m.\u001b[39m\u001b[38;5;124m'\u001b[39m,\n\u001b[1;32m    303\u001b[0m     stacklevel\u001b[38;5;241m=\u001b[39m\u001b[38;5;241m2\u001b[39m,\n\u001b[1;32m    304\u001b[0m )\n\u001b[0;32m--> 305\u001b[0m \u001b[38;5;28;43mself\u001b[39;49m\u001b[38;5;241;43m.\u001b[39;49m\u001b[43minvalid_assets\u001b[49m\u001b[38;5;241;43m.\u001b[39;49m\u001b[43mto_csv\u001b[49m\u001b[43m(\u001b[49m\u001b[43minvalid_assets_report_file\u001b[49m\u001b[43m,\u001b[49m\u001b[43m \u001b[49m\u001b[43mindex\u001b[49m\u001b[38;5;241;43m=\u001b[39;49m\u001b[38;5;28;43;01mFalse\u001b[39;49;00m\u001b[43m)\u001b[49m\n",
      "File \u001b[0;32m/g/data/v14/tm4888/miniconda3/envs/intake-stable-ecgtools/lib/python3.10/site-packages/pandas/util/_decorators.py:211\u001b[0m, in \u001b[0;36mdeprecate_kwarg.<locals>._deprecate_kwarg.<locals>.wrapper\u001b[0;34m(*args, **kwargs)\u001b[0m\n\u001b[1;32m    209\u001b[0m     \u001b[38;5;28;01melse\u001b[39;00m:\n\u001b[1;32m    210\u001b[0m         kwargs[new_arg_name] \u001b[38;5;241m=\u001b[39m new_arg_value\n\u001b[0;32m--> 211\u001b[0m \u001b[38;5;28;01mreturn\u001b[39;00m \u001b[43mfunc\u001b[49m\u001b[43m(\u001b[49m\u001b[38;5;241;43m*\u001b[39;49m\u001b[43margs\u001b[49m\u001b[43m,\u001b[49m\u001b[43m \u001b[49m\u001b[38;5;241;43m*\u001b[39;49m\u001b[38;5;241;43m*\u001b[39;49m\u001b[43mkwargs\u001b[49m\u001b[43m)\u001b[49m\n",
      "File \u001b[0;32m/g/data/v14/tm4888/miniconda3/envs/intake-stable-ecgtools/lib/python3.10/site-packages/pandas/core/generic.py:3720\u001b[0m, in \u001b[0;36mNDFrame.to_csv\u001b[0;34m(self, path_or_buf, sep, na_rep, float_format, columns, header, index, index_label, mode, encoding, compression, quoting, quotechar, lineterminator, chunksize, date_format, doublequote, escapechar, decimal, errors, storage_options)\u001b[0m\n\u001b[1;32m   3709\u001b[0m df \u001b[38;5;241m=\u001b[39m \u001b[38;5;28mself\u001b[39m \u001b[38;5;28;01mif\u001b[39;00m \u001b[38;5;28misinstance\u001b[39m(\u001b[38;5;28mself\u001b[39m, ABCDataFrame) \u001b[38;5;28;01melse\u001b[39;00m \u001b[38;5;28mself\u001b[39m\u001b[38;5;241m.\u001b[39mto_frame()\n\u001b[1;32m   3711\u001b[0m formatter \u001b[38;5;241m=\u001b[39m DataFrameFormatter(\n\u001b[1;32m   3712\u001b[0m     frame\u001b[38;5;241m=\u001b[39mdf,\n\u001b[1;32m   3713\u001b[0m     header\u001b[38;5;241m=\u001b[39mheader,\n\u001b[0;32m   (...)\u001b[0m\n\u001b[1;32m   3717\u001b[0m     decimal\u001b[38;5;241m=\u001b[39mdecimal,\n\u001b[1;32m   3718\u001b[0m )\n\u001b[0;32m-> 3720\u001b[0m \u001b[38;5;28;01mreturn\u001b[39;00m \u001b[43mDataFrameRenderer\u001b[49m\u001b[43m(\u001b[49m\u001b[43mformatter\u001b[49m\u001b[43m)\u001b[49m\u001b[38;5;241;43m.\u001b[39;49m\u001b[43mto_csv\u001b[49m\u001b[43m(\u001b[49m\n\u001b[1;32m   3721\u001b[0m \u001b[43m    \u001b[49m\u001b[43mpath_or_buf\u001b[49m\u001b[43m,\u001b[49m\n\u001b[1;32m   3722\u001b[0m \u001b[43m    \u001b[49m\u001b[43mlineterminator\u001b[49m\u001b[38;5;241;43m=\u001b[39;49m\u001b[43mlineterminator\u001b[49m\u001b[43m,\u001b[49m\n\u001b[1;32m   3723\u001b[0m \u001b[43m    \u001b[49m\u001b[43msep\u001b[49m\u001b[38;5;241;43m=\u001b[39;49m\u001b[43msep\u001b[49m\u001b[43m,\u001b[49m\n\u001b[1;32m   3724\u001b[0m \u001b[43m    \u001b[49m\u001b[43mencoding\u001b[49m\u001b[38;5;241;43m=\u001b[39;49m\u001b[43mencoding\u001b[49m\u001b[43m,\u001b[49m\n\u001b[1;32m   3725\u001b[0m \u001b[43m    \u001b[49m\u001b[43merrors\u001b[49m\u001b[38;5;241;43m=\u001b[39;49m\u001b[43merrors\u001b[49m\u001b[43m,\u001b[49m\n\u001b[1;32m   3726\u001b[0m \u001b[43m    \u001b[49m\u001b[43mcompression\u001b[49m\u001b[38;5;241;43m=\u001b[39;49m\u001b[43mcompression\u001b[49m\u001b[43m,\u001b[49m\n\u001b[1;32m   3727\u001b[0m \u001b[43m    \u001b[49m\u001b[43mquoting\u001b[49m\u001b[38;5;241;43m=\u001b[39;49m\u001b[43mquoting\u001b[49m\u001b[43m,\u001b[49m\n\u001b[1;32m   3728\u001b[0m \u001b[43m    \u001b[49m\u001b[43mcolumns\u001b[49m\u001b[38;5;241;43m=\u001b[39;49m\u001b[43mcolumns\u001b[49m\u001b[43m,\u001b[49m\n\u001b[1;32m   3729\u001b[0m \u001b[43m    \u001b[49m\u001b[43mindex_label\u001b[49m\u001b[38;5;241;43m=\u001b[39;49m\u001b[43mindex_label\u001b[49m\u001b[43m,\u001b[49m\n\u001b[1;32m   3730\u001b[0m \u001b[43m    \u001b[49m\u001b[43mmode\u001b[49m\u001b[38;5;241;43m=\u001b[39;49m\u001b[43mmode\u001b[49m\u001b[43m,\u001b[49m\n\u001b[1;32m   3731\u001b[0m \u001b[43m    \u001b[49m\u001b[43mchunksize\u001b[49m\u001b[38;5;241;43m=\u001b[39;49m\u001b[43mchunksize\u001b[49m\u001b[43m,\u001b[49m\n\u001b[1;32m   3732\u001b[0m \u001b[43m    \u001b[49m\u001b[43mquotechar\u001b[49m\u001b[38;5;241;43m=\u001b[39;49m\u001b[43mquotechar\u001b[49m\u001b[43m,\u001b[49m\n\u001b[1;32m   3733\u001b[0m \u001b[43m    \u001b[49m\u001b[43mdate_format\u001b[49m\u001b[38;5;241;43m=\u001b[39;49m\u001b[43mdate_format\u001b[49m\u001b[43m,\u001b[49m\n\u001b[1;32m   3734\u001b[0m \u001b[43m    \u001b[49m\u001b[43mdoublequote\u001b[49m\u001b[38;5;241;43m=\u001b[39;49m\u001b[43mdoublequote\u001b[49m\u001b[43m,\u001b[49m\n\u001b[1;32m   3735\u001b[0m \u001b[43m    \u001b[49m\u001b[43mescapechar\u001b[49m\u001b[38;5;241;43m=\u001b[39;49m\u001b[43mescapechar\u001b[49m\u001b[43m,\u001b[49m\n\u001b[1;32m   3736\u001b[0m \u001b[43m    \u001b[49m\u001b[43mstorage_options\u001b[49m\u001b[38;5;241;43m=\u001b[39;49m\u001b[43mstorage_options\u001b[49m\u001b[43m,\u001b[49m\n\u001b[1;32m   3737\u001b[0m \u001b[43m\u001b[49m\u001b[43m)\u001b[49m\n",
      "File \u001b[0;32m/g/data/v14/tm4888/miniconda3/envs/intake-stable-ecgtools/lib/python3.10/site-packages/pandas/util/_decorators.py:211\u001b[0m, in \u001b[0;36mdeprecate_kwarg.<locals>._deprecate_kwarg.<locals>.wrapper\u001b[0;34m(*args, **kwargs)\u001b[0m\n\u001b[1;32m    209\u001b[0m     \u001b[38;5;28;01melse\u001b[39;00m:\n\u001b[1;32m    210\u001b[0m         kwargs[new_arg_name] \u001b[38;5;241m=\u001b[39m new_arg_value\n\u001b[0;32m--> 211\u001b[0m \u001b[38;5;28;01mreturn\u001b[39;00m \u001b[43mfunc\u001b[49m\u001b[43m(\u001b[49m\u001b[38;5;241;43m*\u001b[39;49m\u001b[43margs\u001b[49m\u001b[43m,\u001b[49m\u001b[43m \u001b[49m\u001b[38;5;241;43m*\u001b[39;49m\u001b[38;5;241;43m*\u001b[39;49m\u001b[43mkwargs\u001b[49m\u001b[43m)\u001b[49m\n",
      "File \u001b[0;32m/g/data/v14/tm4888/miniconda3/envs/intake-stable-ecgtools/lib/python3.10/site-packages/pandas/io/formats/format.py:1189\u001b[0m, in \u001b[0;36mDataFrameRenderer.to_csv\u001b[0;34m(self, path_or_buf, encoding, sep, columns, index_label, mode, compression, quoting, quotechar, lineterminator, chunksize, date_format, doublequote, escapechar, errors, storage_options)\u001b[0m\n\u001b[1;32m   1168\u001b[0m     created_buffer \u001b[38;5;241m=\u001b[39m \u001b[38;5;28;01mFalse\u001b[39;00m\n\u001b[1;32m   1170\u001b[0m csv_formatter \u001b[38;5;241m=\u001b[39m CSVFormatter(\n\u001b[1;32m   1171\u001b[0m     path_or_buf\u001b[38;5;241m=\u001b[39mpath_or_buf,\n\u001b[1;32m   1172\u001b[0m     lineterminator\u001b[38;5;241m=\u001b[39mlineterminator,\n\u001b[0;32m   (...)\u001b[0m\n\u001b[1;32m   1187\u001b[0m     formatter\u001b[38;5;241m=\u001b[39m\u001b[38;5;28mself\u001b[39m\u001b[38;5;241m.\u001b[39mfmt,\n\u001b[1;32m   1188\u001b[0m )\n\u001b[0;32m-> 1189\u001b[0m \u001b[43mcsv_formatter\u001b[49m\u001b[38;5;241;43m.\u001b[39;49m\u001b[43msave\u001b[49m\u001b[43m(\u001b[49m\u001b[43m)\u001b[49m\n\u001b[1;32m   1191\u001b[0m \u001b[38;5;28;01mif\u001b[39;00m created_buffer:\n\u001b[1;32m   1192\u001b[0m     \u001b[38;5;28;01massert\u001b[39;00m \u001b[38;5;28misinstance\u001b[39m(path_or_buf, StringIO)\n",
      "File \u001b[0;32m/g/data/v14/tm4888/miniconda3/envs/intake-stable-ecgtools/lib/python3.10/site-packages/pandas/io/formats/csvs.py:241\u001b[0m, in \u001b[0;36mCSVFormatter.save\u001b[0;34m(self)\u001b[0m\n\u001b[1;32m    237\u001b[0m \u001b[38;5;250m\u001b[39m\u001b[38;5;124;03m\"\"\"\u001b[39;00m\n\u001b[1;32m    238\u001b[0m \u001b[38;5;124;03mCreate the writer & save.\u001b[39;00m\n\u001b[1;32m    239\u001b[0m \u001b[38;5;124;03m\"\"\"\u001b[39;00m\n\u001b[1;32m    240\u001b[0m \u001b[38;5;66;03m# apply compression and byte/text conversion\u001b[39;00m\n\u001b[0;32m--> 241\u001b[0m \u001b[38;5;28;01mwith\u001b[39;00m \u001b[43mget_handle\u001b[49m\u001b[43m(\u001b[49m\n\u001b[1;32m    242\u001b[0m \u001b[43m    \u001b[49m\u001b[38;5;28;43mself\u001b[39;49m\u001b[38;5;241;43m.\u001b[39;49m\u001b[43mfilepath_or_buffer\u001b[49m\u001b[43m,\u001b[49m\n\u001b[1;32m    243\u001b[0m \u001b[43m    \u001b[49m\u001b[38;5;28;43mself\u001b[39;49m\u001b[38;5;241;43m.\u001b[39;49m\u001b[43mmode\u001b[49m\u001b[43m,\u001b[49m\n\u001b[1;32m    244\u001b[0m \u001b[43m    \u001b[49m\u001b[43mencoding\u001b[49m\u001b[38;5;241;43m=\u001b[39;49m\u001b[38;5;28;43mself\u001b[39;49m\u001b[38;5;241;43m.\u001b[39;49m\u001b[43mencoding\u001b[49m\u001b[43m,\u001b[49m\n\u001b[1;32m    245\u001b[0m \u001b[43m    \u001b[49m\u001b[43merrors\u001b[49m\u001b[38;5;241;43m=\u001b[39;49m\u001b[38;5;28;43mself\u001b[39;49m\u001b[38;5;241;43m.\u001b[39;49m\u001b[43merrors\u001b[49m\u001b[43m,\u001b[49m\n\u001b[1;32m    246\u001b[0m \u001b[43m    \u001b[49m\u001b[43mcompression\u001b[49m\u001b[38;5;241;43m=\u001b[39;49m\u001b[38;5;28;43mself\u001b[39;49m\u001b[38;5;241;43m.\u001b[39;49m\u001b[43mcompression\u001b[49m\u001b[43m,\u001b[49m\n\u001b[1;32m    247\u001b[0m \u001b[43m    \u001b[49m\u001b[43mstorage_options\u001b[49m\u001b[38;5;241;43m=\u001b[39;49m\u001b[38;5;28;43mself\u001b[39;49m\u001b[38;5;241;43m.\u001b[39;49m\u001b[43mstorage_options\u001b[49m\u001b[43m,\u001b[49m\n\u001b[1;32m    248\u001b[0m \u001b[43m\u001b[49m\u001b[43m)\u001b[49m \u001b[38;5;28;01mas\u001b[39;00m handles:\n\u001b[1;32m    249\u001b[0m \n\u001b[1;32m    250\u001b[0m     \u001b[38;5;66;03m# Note: self.encoding is irrelevant here\u001b[39;00m\n\u001b[1;32m    251\u001b[0m     \u001b[38;5;28mself\u001b[39m\u001b[38;5;241m.\u001b[39mwriter \u001b[38;5;241m=\u001b[39m csvlib\u001b[38;5;241m.\u001b[39mwriter(\n\u001b[1;32m    252\u001b[0m         handles\u001b[38;5;241m.\u001b[39mhandle,\n\u001b[1;32m    253\u001b[0m         lineterminator\u001b[38;5;241m=\u001b[39m\u001b[38;5;28mself\u001b[39m\u001b[38;5;241m.\u001b[39mlineterminator,\n\u001b[0;32m   (...)\u001b[0m\n\u001b[1;32m    258\u001b[0m         quotechar\u001b[38;5;241m=\u001b[39m\u001b[38;5;28mself\u001b[39m\u001b[38;5;241m.\u001b[39mquotechar,\n\u001b[1;32m    259\u001b[0m     )\n\u001b[1;32m    261\u001b[0m     \u001b[38;5;28mself\u001b[39m\u001b[38;5;241m.\u001b[39m_save()\n",
      "File \u001b[0;32m/g/data/v14/tm4888/miniconda3/envs/intake-stable-ecgtools/lib/python3.10/site-packages/pandas/io/common.py:734\u001b[0m, in \u001b[0;36mget_handle\u001b[0;34m(path_or_buf, mode, encoding, compression, memory_map, is_text, errors, storage_options)\u001b[0m\n\u001b[1;32m    732\u001b[0m \u001b[38;5;66;03m# Only for write methods\u001b[39;00m\n\u001b[1;32m    733\u001b[0m \u001b[38;5;28;01mif\u001b[39;00m \u001b[38;5;124m\"\u001b[39m\u001b[38;5;124mr\u001b[39m\u001b[38;5;124m\"\u001b[39m \u001b[38;5;129;01mnot\u001b[39;00m \u001b[38;5;129;01min\u001b[39;00m mode \u001b[38;5;129;01mand\u001b[39;00m is_path:\n\u001b[0;32m--> 734\u001b[0m     \u001b[43mcheck_parent_directory\u001b[49m\u001b[43m(\u001b[49m\u001b[38;5;28;43mstr\u001b[39;49m\u001b[43m(\u001b[49m\u001b[43mhandle\u001b[49m\u001b[43m)\u001b[49m\u001b[43m)\u001b[49m\n\u001b[1;32m    736\u001b[0m \u001b[38;5;28;01mif\u001b[39;00m compression:\n\u001b[1;32m    737\u001b[0m     \u001b[38;5;28;01mif\u001b[39;00m compression \u001b[38;5;241m!=\u001b[39m \u001b[38;5;124m\"\u001b[39m\u001b[38;5;124mzstd\u001b[39m\u001b[38;5;124m\"\u001b[39m:\n\u001b[1;32m    738\u001b[0m         \u001b[38;5;66;03m# compression libraries do not like an explicit text-mode\u001b[39;00m\n",
      "File \u001b[0;32m/g/data/v14/tm4888/miniconda3/envs/intake-stable-ecgtools/lib/python3.10/site-packages/pandas/io/common.py:597\u001b[0m, in \u001b[0;36mcheck_parent_directory\u001b[0;34m(path)\u001b[0m\n\u001b[1;32m    595\u001b[0m parent \u001b[38;5;241m=\u001b[39m Path(path)\u001b[38;5;241m.\u001b[39mparent\n\u001b[1;32m    596\u001b[0m \u001b[38;5;28;01mif\u001b[39;00m \u001b[38;5;129;01mnot\u001b[39;00m parent\u001b[38;5;241m.\u001b[39mis_dir():\n\u001b[0;32m--> 597\u001b[0m     \u001b[38;5;28;01mraise\u001b[39;00m \u001b[38;5;167;01mOSError\u001b[39;00m(\u001b[38;5;124mrf\u001b[39m\u001b[38;5;124m\"\u001b[39m\u001b[38;5;124mCannot save file into a non-existent directory: \u001b[39m\u001b[38;5;124m'\u001b[39m\u001b[38;5;132;01m{\u001b[39;00mparent\u001b[38;5;132;01m}\u001b[39;00m\u001b[38;5;124m'\u001b[39m\u001b[38;5;124m\"\u001b[39m)\n",
      "\u001b[0;31mOSError\u001b[0m: Cannot save file into a non-existent directory: '/jobfs/82277945.gadi-pbs/intake-catalogues'"
     ]
    }
   ],
   "source": [
    "b.save(\n",
    "    # File path - could save as .csv (uncompressed csv) or .csv.gz (compressed csv)\n",
    "    name = \"/intake-catalogues/hist-01052023-catalogue\",\n",
    "    # Column name including filepath\n",
    "    path_column_name='path',\n",
    "    # Column name including variables\n",
    "    variable_column_name='variable',\n",
    "    # Data file format - could be netcdf or zarr (in this case, netcdf)\n",
    "    data_format=\"netcdf\",\n",
    "    # Which attributes to groupby when reading in variables using intake-esm\n",
    "    groupby_attrs=[\"domain\", \"host_GCM\", \"run_type\",\"host_ensemble\",\"downscale_model\",\"downscale_version\",\"period\"],\n",
    "    # Aggregations which are fed into xarray when reading in data using intake\n",
    "    aggregations=[\n",
    "        {\n",
    "            \"type\": \"join_existing\",\n",
    "            \"attribute_name\": \"date\",\n",
    "            \"options\": {\"dim\": \"time\", \"coords\": \"minimal\", \"compat\": \"override\"},\n",
    "        }\n",
    "    ],\n",
    ")"
   ]
  },
  {
   "cell_type": "raw",
   "id": "20de3545-6357-420b-8d07-3bee68195d0d",
   "metadata": {},
   "source": [
    "b.save(\n",
    "    # File path - could save as .csv (uncompressed csv) or .csv.gz (compressed csv)\n",
    "    name = \"/intake-catalogues/test-CCAM-catalogue\",\n",
    "    # Column name including filepath\n",
    "    path_column_name='path',\n",
    "    # Column name including variables\n",
    "    variable_column_name='variable',\n",
    "    # Data file format - could be netcdf or zarr (in this case, netcdf)\n",
    "    data_format=\"netcdf\",\n",
    "    # Which attributes to groupby when reading in variables using intake-esm\n",
    "    groupby_attrs=[\"domain\", \"host_GCM\", \"run_type\",\"host_ensemble\",\"downscale_model\",\"downscale_version\",\"period\"],\n",
    "    # Aggregations which are fed into xarray when reading in data using intake\n",
    "    aggregations=[\n",
    "        {\n",
    "            \"type\": \"join_existing\",\n",
    "            \"attribute_name\": \"date\",\n",
    "            \"options\": {\"dim\": \"time\", \"coords\": \"minimal\", \"compat\": \"override\"},\n",
    "        }\n",
    "    ],\n",
    ")"
   ]
  },
  {
   "cell_type": "markdown",
   "id": "886fa078-6122-4189-be59-d139a7e2affe",
   "metadata": {},
   "source": [
    "# Can I querry the catalogue? YES!"
   ]
  },
  {
   "cell_type": "code",
   "execution_count": null,
   "id": "51911d69-41a5-46fc-a026-1928f6424bdd",
   "metadata": {
    "tags": []
   },
   "outputs": [],
   "source": [
    "import intake"
   ]
  },
  {
   "cell_type": "markdown",
   "id": "20d4d019-9600-4223-b181-91a2a645897a",
   "metadata": {},
   "source": [
    "### SICK OF ALL THESE WARNINGS?"
   ]
  },
  {
   "cell_type": "code",
   "execution_count": null,
   "id": "701040b6-201d-4bd9-be1d-2881778a7605",
   "metadata": {
    "tags": []
   },
   "outputs": [],
   "source": [
    "import warnings\n",
    "warnings.filterwarnings('ignore')"
   ]
  },
  {
   "cell_type": "code",
   "execution_count": null,
   "id": "e354b101-d369-49ea-a6b5-bbbfe9576f14",
   "metadata": {
    "tags": []
   },
   "outputs": [],
   "source": [
    "data_catalog = intake.open_esm_datastore('/g/data/v14/tm4888/code/ACS/data-catalogue/catalogues/test-CCAM-catalogue.json')\n",
    "data_catalog"
   ]
  },
  {
   "cell_type": "code",
   "execution_count": null,
   "id": "969dd6ea-75e2-45f2-99d3-bc7cad4ec84f",
   "metadata": {
    "tags": []
   },
   "outputs": [],
   "source": [
    "data_catalog.df"
   ]
  },
  {
   "cell_type": "code",
   "execution_count": null,
   "id": "b2e1f0bb-93c7-44f3-a3ff-0807b7555e42",
   "metadata": {
    "tags": []
   },
   "outputs": [],
   "source": [
    "data_catalog.df.variable.unique()"
   ]
  },
  {
   "cell_type": "code",
   "execution_count": null,
   "id": "7192e266-4f6c-41e7-b9d2-a83716bac72f",
   "metadata": {
    "tags": []
   },
   "outputs": [],
   "source": [
    "data_catalog.df.period.unique()"
   ]
  },
  {
   "cell_type": "code",
   "execution_count": null,
   "id": "90b39f80-0d80-41f3-83bf-74f53ecdfed1",
   "metadata": {
    "tags": []
   },
   "outputs": [],
   "source": [
    "search1 = data_catalog.search(variable=['tas'],period='mon')\n",
    "search1"
   ]
  },
  {
   "cell_type": "code",
   "execution_count": null,
   "id": "5009749d-03a5-4d3b-96a8-9259fbcb0bd7",
   "metadata": {
    "tags": []
   },
   "outputs": [],
   "source": [
    "search1.df"
   ]
  },
  {
   "cell_type": "code",
   "execution_count": null,
   "id": "538f263a-aa32-49e9-9572-74e9e378f068",
   "metadata": {
    "tags": []
   },
   "outputs": [],
   "source": [
    "%%time\n",
    "dsets = search1.to_dataset_dict()"
   ]
  },
  {
   "cell_type": "code",
   "execution_count": null,
   "id": "a8e0f114-61c5-4da1-8612-514b0c3948a2",
   "metadata": {
    "tags": []
   },
   "outputs": [],
   "source": [
    "dsets.keys()"
   ]
  },
  {
   "cell_type": "code",
   "execution_count": null,
   "id": "c685ed03-858b-4c63-b5a5-c78ed62189d6",
   "metadata": {
    "tags": []
   },
   "outputs": [],
   "source": [
    "search_DS = dsets['AUS-10i.NCC-NorESM2-MM.historical.r1i1p1f1.CSIRO-CCAM-2203.v1.mon']"
   ]
  },
  {
   "cell_type": "code",
   "execution_count": null,
   "id": "d86a227f-41fa-4dcd-828f-9bb272da1189",
   "metadata": {
    "tags": []
   },
   "outputs": [],
   "source": [
    "search_DS"
   ]
  },
  {
   "cell_type": "code",
   "execution_count": null,
   "id": "5cc6d8df-266d-43d4-9314-02f67c032c4b",
   "metadata": {
    "tags": []
   },
   "outputs": [],
   "source": [
    "mean_tas = search_DS.tas.mean(dim='time')\n",
    "mean_tas"
   ]
  },
  {
   "cell_type": "code",
   "execution_count": null,
   "id": "75a8cb1e-4668-4a8c-9264-e2c978eb0fbd",
   "metadata": {
    "tags": []
   },
   "outputs": [],
   "source": [
    "%%time\n",
    "mean_tas = mean_tas.compute()"
   ]
  },
  {
   "cell_type": "code",
   "execution_count": null,
   "id": "092dc321-b358-4020-a73b-0321930e057f",
   "metadata": {
    "tags": []
   },
   "outputs": [],
   "source": [
    "mean_temp = mean_tas - 273.15"
   ]
  },
  {
   "cell_type": "code",
   "execution_count": null,
   "id": "da320570-7613-4187-b2c1-d51e0f4887d9",
   "metadata": {
    "tags": []
   },
   "outputs": [],
   "source": [
    "mean_temp.plot(robust=True)\n",
    "plt.title('Mean Near-Surface Air Temperature in degrees C for \\n AUS-10i.NCC-NorESM2-MM.historical.r1i1p1f1.CSIRO-CCAM-2203.v1.mon')"
   ]
  },
  {
   "cell_type": "markdown",
   "id": "7c45e4e0-1bdb-4ff7-b2c1-ab1ce976f392",
   "metadata": {},
   "source": [
    "# seasonal climatology"
   ]
  },
  {
   "cell_type": "code",
   "execution_count": null,
   "id": "23ca1ead-0d4d-4b9e-b945-b8848c916a2e",
   "metadata": {
    "tags": []
   },
   "outputs": [],
   "source": [
    "tas_season_mean = search_DS.tas.groupby('time.season').mean('time')"
   ]
  },
  {
   "cell_type": "code",
   "execution_count": null,
   "id": "b97154ab-ce46-48ae-94bc-96d8a861ff5d",
   "metadata": {
    "tags": []
   },
   "outputs": [],
   "source": [
    "tas_season_mean"
   ]
  },
  {
   "cell_type": "code",
   "execution_count": null,
   "id": "d64eb5d0-d57c-4657-a272-55f92bff6a5c",
   "metadata": {
    "tags": []
   },
   "outputs": [],
   "source": [
    "temp_season_mean = tas_season_mean-273.15"
   ]
  },
  {
   "cell_type": "code",
   "execution_count": null,
   "id": "5ca3a6a1-9741-4050-b059-44e4b86f0289",
   "metadata": {
    "tags": []
   },
   "outputs": [],
   "source": [
    "temp_season_mean"
   ]
  },
  {
   "cell_type": "code",
   "execution_count": null,
   "id": "76d228e7-6f0c-49c2-8602-30f4a1b4074a",
   "metadata": {
    "tags": []
   },
   "outputs": [],
   "source": [
    "temp_season_mean.sel(season='JJA').plot(robust=True)\n",
    "plt.title('Winter(JJA) Near-Surface Air Temperature in degrees C for \\n AUS-10i.NCC-NorESM2-MM.historical.r1i1p1f1.CSIRO-CCAM-2203.v1.mon')"
   ]
  },
  {
   "cell_type": "code",
   "execution_count": null,
   "id": "d441c7e2-a826-4027-9c82-b38146f95f17",
   "metadata": {},
   "outputs": [],
   "source": [
    "client.close()"
   ]
  },
  {
   "cell_type": "code",
   "execution_count": null,
   "id": "e6ce60ca-6236-4451-9b2d-9d8b756ae122",
   "metadata": {},
   "outputs": [],
   "source": []
  }
 ],
 "metadata": {
  "kernelspec": {
   "display_name": "Python 3 (ipykernel)",
   "language": "python",
   "name": "python3"
  },
  "language_info": {
   "codemirror_mode": {
    "name": "ipython",
    "version": 3
   },
   "file_extension": ".py",
   "mimetype": "text/x-python",
   "name": "python",
   "nbconvert_exporter": "python",
   "pygments_lexer": "ipython3",
   "version": "3.10.9"
  }
 },
 "nbformat": 4,
 "nbformat_minor": 5
}

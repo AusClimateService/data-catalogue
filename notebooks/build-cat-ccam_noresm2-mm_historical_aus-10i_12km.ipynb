{
 "cells": [
  {
   "cell_type": "markdown",
   "id": "a3c7829f-9399-4bfb-adf4-63851ba5fba2",
   "metadata": {},
   "source": [
    "# build-cat-ccam_noresm2-mm_historical_aus-10i_12km"
   ]
  },
  {
   "cell_type": "markdown",
   "id": "e97bedd4-8777-4754-9e29-eb09e00b990d",
   "metadata": {},
   "source": [
    "### use `ecgtools` to build a custom `intake-esm` catalogue for ccam_noresm2-mm_historical_aus-10i_12km"
   ]
  },
  {
   "cell_type": "markdown",
   "id": "76ef54e3-f7a5-4c1a-a531-309d5429116b",
   "metadata": {},
   "source": [
    "Date: 19 May 2023"
   ]
  },
  {
   "cell_type": "markdown",
   "id": "7e15036a-7d6f-419a-830d-e1f558f0570a",
   "metadata": {},
   "source": [
    "Author = {\"name\": \"Thomas Moore\", \"affiliation\": \"CSIRO\", \"email\": \"thomas.moore@csiro.au\", \"orcid\": \"0000-0003-3930-1946\"}"
   ]
  },
  {
   "cell_type": "markdown",
   "id": "573d76d5-271a-4a61-9f35-42102bf5a13b",
   "metadata": {},
   "source": [
    "#### Reference documents: https://ecgtools.readthedocs.io/en/latest"
   ]
  },
  {
   "cell_type": "code",
   "execution_count": 1,
   "id": "dbfd2435-2231-4a62-aa70-d5fd531a259d",
   "metadata": {},
   "outputs": [],
   "source": [
    "import glob\n",
    "import pathlib\n",
    "import traceback\n",
    "from datetime import datetime\n",
    "\n",
    "import xarray as xr\n",
    "\n",
    "from ecgtools import Builder\n",
    "from ecgtools.builder import INVALID_ASSET, TRACEBACK\n",
    "\n",
    "from matplotlib import pyplot as plt"
   ]
  },
  {
   "cell_type": "code",
   "execution_count": 2,
   "id": "3a14cd68-6933-4fed-bc5d-f394b5ea1689",
   "metadata": {
    "tags": []
   },
   "outputs": [
    {
     "data": {
      "text/html": [
       "<div>\n",
       "    <div style=\"width: 24px; height: 24px; background-color: #e1e1e1; border: 3px solid #9D9D9D; border-radius: 5px; position: absolute;\"> </div>\n",
       "    <div style=\"margin-left: 48px;\">\n",
       "        <h3 style=\"margin-bottom: 0px;\">Client</h3>\n",
       "        <p style=\"color: #9D9D9D; margin-bottom: 0px;\">Client-cad1acfb-f851-11ed-b2e6-0000075ffe80</p>\n",
       "        <table style=\"width: 100%; text-align: left;\">\n",
       "\n",
       "        <tr>\n",
       "        \n",
       "            <td style=\"text-align: left;\"><strong>Connection method:</strong> Cluster object</td>\n",
       "            <td style=\"text-align: left;\"><strong>Cluster type:</strong> distributed.LocalCluster</td>\n",
       "        \n",
       "        </tr>\n",
       "\n",
       "        \n",
       "            <tr>\n",
       "                <td style=\"text-align: left;\">\n",
       "                    <strong>Dashboard: </strong> <a href=\"/proxy/8787/status\" target=\"_blank\">/proxy/8787/status</a>\n",
       "                </td>\n",
       "                <td style=\"text-align: left;\"></td>\n",
       "            </tr>\n",
       "        \n",
       "\n",
       "        </table>\n",
       "\n",
       "        \n",
       "            <button style=\"margin-bottom: 12px;\" data-commandlinker-command=\"dask:populate-and-launch-layout\" data-commandlinker-args='{\"url\": \"/proxy/8787/status\" }'>\n",
       "                Launch dashboard in JupyterLab\n",
       "            </button>\n",
       "        \n",
       "\n",
       "        \n",
       "            <details>\n",
       "            <summary style=\"margin-bottom: 20px;\"><h3 style=\"display: inline;\">Cluster Info</h3></summary>\n",
       "            <div class=\"jp-RenderedHTMLCommon jp-RenderedHTML jp-mod-trusted jp-OutputArea-output\">\n",
       "    <div style=\"width: 24px; height: 24px; background-color: #e1e1e1; border: 3px solid #9D9D9D; border-radius: 5px; position: absolute;\">\n",
       "    </div>\n",
       "    <div style=\"margin-left: 48px;\">\n",
       "        <h3 style=\"margin-bottom: 0px; margin-top: 0px;\">LocalCluster</h3>\n",
       "        <p style=\"color: #9D9D9D; margin-bottom: 0px;\">a7883ea5</p>\n",
       "        <table style=\"width: 100%; text-align: left;\">\n",
       "            <tr>\n",
       "                <td style=\"text-align: left;\">\n",
       "                    <strong>Dashboard:</strong> <a href=\"/proxy/8787/status\" target=\"_blank\">/proxy/8787/status</a>\n",
       "                </td>\n",
       "                <td style=\"text-align: left;\">\n",
       "                    <strong>Workers:</strong> 2\n",
       "                </td>\n",
       "            </tr>\n",
       "            <tr>\n",
       "                <td style=\"text-align: left;\">\n",
       "                    <strong>Total threads:</strong> 2\n",
       "                </td>\n",
       "                <td style=\"text-align: left;\">\n",
       "                    <strong>Total memory:</strong> 9.00 GiB\n",
       "                </td>\n",
       "            </tr>\n",
       "            \n",
       "            <tr>\n",
       "    <td style=\"text-align: left;\"><strong>Status:</strong> running</td>\n",
       "    <td style=\"text-align: left;\"><strong>Using processes:</strong> True</td>\n",
       "</tr>\n",
       "\n",
       "            \n",
       "        </table>\n",
       "\n",
       "        <details>\n",
       "            <summary style=\"margin-bottom: 20px;\">\n",
       "                <h3 style=\"display: inline;\">Scheduler Info</h3>\n",
       "            </summary>\n",
       "\n",
       "            <div style=\"\">\n",
       "    <div>\n",
       "        <div style=\"width: 24px; height: 24px; background-color: #FFF7E5; border: 3px solid #FF6132; border-radius: 5px; position: absolute;\"> </div>\n",
       "        <div style=\"margin-left: 48px;\">\n",
       "            <h3 style=\"margin-bottom: 0px;\">Scheduler</h3>\n",
       "            <p style=\"color: #9D9D9D; margin-bottom: 0px;\">Scheduler-6dc44dad-f8c1-4b14-b529-d153d13b1292</p>\n",
       "            <table style=\"width: 100%; text-align: left;\">\n",
       "                <tr>\n",
       "                    <td style=\"text-align: left;\">\n",
       "                        <strong>Comm:</strong> tcp://127.0.0.1:45937\n",
       "                    </td>\n",
       "                    <td style=\"text-align: left;\">\n",
       "                        <strong>Workers:</strong> 2\n",
       "                    </td>\n",
       "                </tr>\n",
       "                <tr>\n",
       "                    <td style=\"text-align: left;\">\n",
       "                        <strong>Dashboard:</strong> <a href=\"/proxy/8787/status\" target=\"_blank\">/proxy/8787/status</a>\n",
       "                    </td>\n",
       "                    <td style=\"text-align: left;\">\n",
       "                        <strong>Total threads:</strong> 2\n",
       "                    </td>\n",
       "                </tr>\n",
       "                <tr>\n",
       "                    <td style=\"text-align: left;\">\n",
       "                        <strong>Started:</strong> Just now\n",
       "                    </td>\n",
       "                    <td style=\"text-align: left;\">\n",
       "                        <strong>Total memory:</strong> 9.00 GiB\n",
       "                    </td>\n",
       "                </tr>\n",
       "            </table>\n",
       "        </div>\n",
       "    </div>\n",
       "\n",
       "    <details style=\"margin-left: 48px;\">\n",
       "        <summary style=\"margin-bottom: 20px;\">\n",
       "            <h3 style=\"display: inline;\">Workers</h3>\n",
       "        </summary>\n",
       "\n",
       "        \n",
       "        <div style=\"margin-bottom: 20px;\">\n",
       "            <div style=\"width: 24px; height: 24px; background-color: #DBF5FF; border: 3px solid #4CC9FF; border-radius: 5px; position: absolute;\"> </div>\n",
       "            <div style=\"margin-left: 48px;\">\n",
       "            <details>\n",
       "                <summary>\n",
       "                    <h4 style=\"margin-bottom: 0px; display: inline;\">Worker: 0</h4>\n",
       "                </summary>\n",
       "                <table style=\"width: 100%; text-align: left;\">\n",
       "                    <tr>\n",
       "                        <td style=\"text-align: left;\">\n",
       "                            <strong>Comm: </strong> tcp://127.0.0.1:37961\n",
       "                        </td>\n",
       "                        <td style=\"text-align: left;\">\n",
       "                            <strong>Total threads: </strong> 1\n",
       "                        </td>\n",
       "                    </tr>\n",
       "                    <tr>\n",
       "                        <td style=\"text-align: left;\">\n",
       "                            <strong>Dashboard: </strong> <a href=\"/proxy/44583/status\" target=\"_blank\">/proxy/44583/status</a>\n",
       "                        </td>\n",
       "                        <td style=\"text-align: left;\">\n",
       "                            <strong>Memory: </strong> 4.50 GiB\n",
       "                        </td>\n",
       "                    </tr>\n",
       "                    <tr>\n",
       "                        <td style=\"text-align: left;\">\n",
       "                            <strong>Nanny: </strong> tcp://127.0.0.1:41887\n",
       "                        </td>\n",
       "                        <td style=\"text-align: left;\"></td>\n",
       "                    </tr>\n",
       "                    <tr>\n",
       "                        <td colspan=\"2\" style=\"text-align: left;\">\n",
       "                            <strong>Local directory: </strong> /jobfs/84612829.gadi-pbs/dask-worker-space/worker-14p0e5x0\n",
       "                        </td>\n",
       "                    </tr>\n",
       "\n",
       "                    \n",
       "\n",
       "                    \n",
       "\n",
       "                </table>\n",
       "            </details>\n",
       "            </div>\n",
       "        </div>\n",
       "        \n",
       "        <div style=\"margin-bottom: 20px;\">\n",
       "            <div style=\"width: 24px; height: 24px; background-color: #DBF5FF; border: 3px solid #4CC9FF; border-radius: 5px; position: absolute;\"> </div>\n",
       "            <div style=\"margin-left: 48px;\">\n",
       "            <details>\n",
       "                <summary>\n",
       "                    <h4 style=\"margin-bottom: 0px; display: inline;\">Worker: 1</h4>\n",
       "                </summary>\n",
       "                <table style=\"width: 100%; text-align: left;\">\n",
       "                    <tr>\n",
       "                        <td style=\"text-align: left;\">\n",
       "                            <strong>Comm: </strong> tcp://127.0.0.1:39667\n",
       "                        </td>\n",
       "                        <td style=\"text-align: left;\">\n",
       "                            <strong>Total threads: </strong> 1\n",
       "                        </td>\n",
       "                    </tr>\n",
       "                    <tr>\n",
       "                        <td style=\"text-align: left;\">\n",
       "                            <strong>Dashboard: </strong> <a href=\"/proxy/32829/status\" target=\"_blank\">/proxy/32829/status</a>\n",
       "                        </td>\n",
       "                        <td style=\"text-align: left;\">\n",
       "                            <strong>Memory: </strong> 4.50 GiB\n",
       "                        </td>\n",
       "                    </tr>\n",
       "                    <tr>\n",
       "                        <td style=\"text-align: left;\">\n",
       "                            <strong>Nanny: </strong> tcp://127.0.0.1:38391\n",
       "                        </td>\n",
       "                        <td style=\"text-align: left;\"></td>\n",
       "                    </tr>\n",
       "                    <tr>\n",
       "                        <td colspan=\"2\" style=\"text-align: left;\">\n",
       "                            <strong>Local directory: </strong> /jobfs/84612829.gadi-pbs/dask-worker-space/worker-sn7b7lne\n",
       "                        </td>\n",
       "                    </tr>\n",
       "\n",
       "                    \n",
       "\n",
       "                    \n",
       "\n",
       "                </table>\n",
       "            </details>\n",
       "            </div>\n",
       "        </div>\n",
       "        \n",
       "\n",
       "    </details>\n",
       "</div>\n",
       "\n",
       "        </details>\n",
       "    </div>\n",
       "</div>\n",
       "            </details>\n",
       "        \n",
       "\n",
       "    </div>\n",
       "</div>"
      ],
      "text/plain": [
       "<Client: 'tcp://127.0.0.1:45937' processes=2 threads=2, memory=9.00 GiB>"
      ]
     },
     "execution_count": 2,
     "metadata": {},
     "output_type": "execute_result"
    }
   ],
   "source": [
    "from dask.distributed import Client\n",
    "client = Client()\n",
    "client"
   ]
  },
  {
   "cell_type": "markdown",
   "id": "885295dc-92ce-4f07-90df-ce5bf213e55e",
   "metadata": {},
   "source": [
    "### get catalogue path from config file"
   ]
  },
  {
   "cell_type": "code",
   "execution_count": 3,
   "id": "700a196e-f82e-4886-b343-f051d454a075",
   "metadata": {},
   "outputs": [],
   "source": [
    "import configparser\n",
    "\n",
    "# Create a ConfigParser object\n",
    "config = configparser.ConfigParser()\n",
    "\n",
    "# Read the config file\n",
    "#########\n",
    "#### you will need to specifiy your correct path the the `data-catalogue/config.ini` file \n",
    "#########\n",
    "config.read('./code/ACS/data-catalogue/config.ini')\n",
    "\n",
    "# Get the value of a variable\n",
    "catalogue_path = config.get('paths', 'catalogue_path')"
   ]
  },
  {
   "cell_type": "markdown",
   "id": "885de51b-27ab-4167-bc36-a84bbfa773ba",
   "metadata": {},
   "source": [
    "### build the catalogue from the listing of files on `xv83`"
   ]
  },
  {
   "cell_type": "code",
   "execution_count": 4,
   "id": "83f04ece-46ad-4f2f-b048-bb30495fd886",
   "metadata": {
    "tags": []
   },
   "outputs": [],
   "source": [
    "root_source_path = '/g/data/xv83/mxt599/ccam_noresm2-mm_historical_aus-10i_12km/drs_cordex/CORDEX/output/AUS-10i/CSIRO/NCC-NorESM2-MM/historical/r1i1p1f1/CSIRO-CCAM-2203/v1/'"
   ]
  },
  {
   "cell_type": "code",
   "execution_count": 5,
   "id": "9991bf33-b797-4ae9-baa0-1983ecf1a16c",
   "metadata": {
    "tags": []
   },
   "outputs": [
    {
     "data": {
      "text/plain": [
       "32964"
      ]
     },
     "execution_count": 5,
     "metadata": {},
     "output_type": "execute_result"
    }
   ],
   "source": [
    "files = sorted(glob.glob(root_source_path+'*/*/*'))\n",
    "len(files)"
   ]
  },
  {
   "cell_type": "markdown",
   "id": "d05ff543-bb70-445f-88fb-b8c96ad006f7",
   "metadata": {
    "tags": []
   },
   "source": [
    "### Write `ecgtools` parser, <br> see: https://ecgtools.readthedocs.io/en/latest/how-to/use-a-custom-parser.html\n",
    "#### we don't really need to open all the files, given variable name is in the filename."
   ]
  },
  {
   "cell_type": "code",
   "execution_count": 6,
   "id": "8bc37bbf-05ad-4ad8-9b7f-3f741eccbc3a",
   "metadata": {
    "tags": []
   },
   "outputs": [],
   "source": [
    "def parse_CCAM(file):\n",
    "    \"\"\"CCAM data stored in\"\"\"\n",
    "    file = pathlib.Path(file)\n",
    "    info = {}\n",
    "\n",
    "    try:\n",
    "        stem = file.stem\n",
    "        split = stem.split('_')\n",
    "        variable = split[0]\n",
    "        domain = split[1]\n",
    "        host_GCM = split[2]\n",
    "        run_type = split[3]\n",
    "        host_ensemble = split[4]\n",
    "        downscale_model = split[5]\n",
    "        downscale_version = split[6]\n",
    "        period = split[7]\n",
    "        if period == '1hr':\n",
    "            time_period = 'hourly'\n",
    "        elif period == '6hr':\n",
    "            time_period = 'six_hourly'\n",
    "        elif period == 'day':\n",
    "            time_period = 'daily'\n",
    "        elif period == 'mon':\n",
    "            time_period = 'monthly'\n",
    "        else:\n",
    "            time_period = 'fixed'    \n",
    "\n",
    "        \n",
    "        info = {\n",
    "            'variable': variable,\n",
    "            'domain': domain,\n",
    "            'host_GCM':host_GCM,\n",
    "            'run_type':run_type,\n",
    "            'host_ensemble':host_ensemble,\n",
    "            'downscale_model':downscale_model,\n",
    "            'downscale_version':downscale_version,\n",
    "            'period': period,\n",
    "            'time_period': time_period,\n",
    "            'path': str(file),\n",
    "        }\n",
    "        return info\n",
    "    \n",
    "    except Exception:\n",
    "        return {INVALID_ASSET: file, TRACEBACK: traceback.format_exc()}"
   ]
  },
  {
   "cell_type": "markdown",
   "id": "dde9b432-f4f9-41f9-b9ca-107727aa8388",
   "metadata": {},
   "source": [
    "#### test parser with single file"
   ]
  },
  {
   "cell_type": "code",
   "execution_count": 7,
   "id": "f998a082-f9ef-4885-9503-68fe9f87c6c8",
   "metadata": {},
   "outputs": [
    {
     "data": {
      "text/plain": [
       "{'variable': 'CAPE',\n",
       " 'domain': 'AUS-10i',\n",
       " 'host_GCM': 'NCC-NorESM2-MM',\n",
       " 'run_type': 'historical',\n",
       " 'host_ensemble': 'r1i1p1f1',\n",
       " 'downscale_model': 'CSIRO-CCAM-2203',\n",
       " 'downscale_version': 'v1',\n",
       " 'period': '1hr',\n",
       " 'time_period': 'hourly',\n",
       " 'path': '/g/data/xv83/mxt599/ccam_noresm2-mm_historical_aus-10i_12km/drs_cordex/CORDEX/output/AUS-10i/CSIRO/NCC-NorESM2-MM/historical/r1i1p1f1/CSIRO-CCAM-2203/v1/1hr/CAPE/CAPE_AUS-10i_NCC-NorESM2-MM_historical_r1i1p1f1_CSIRO-CCAM-2203_v1_1hr_19510101-19511231.nc'}"
      ]
     },
     "execution_count": 7,
     "metadata": {},
     "output_type": "execute_result"
    }
   ],
   "source": [
    "parse_CCAM(files[0])"
   ]
  },
  {
   "cell_type": "markdown",
   "id": "fee44837-094f-4de1-bebd-e6a73bd18b9a",
   "metadata": {},
   "source": [
    "# setup builder object"
   ]
  },
  {
   "cell_type": "code",
   "execution_count": 8,
   "id": "2b81bdfb-a469-4c17-ab46-06699a867418",
   "metadata": {
    "tags": []
   },
   "outputs": [
    {
     "name": "stdout",
     "output_type": "stream",
     "text": [
      "CPU times: user 1.17 ms, sys: 2.89 ms, total: 4.06 ms\n",
      "Wall time: 3.95 ms\n"
     ]
    }
   ],
   "source": [
    "%%time\n",
    "b = Builder([root_source_path],depth=2)"
   ]
  },
  {
   "cell_type": "code",
   "execution_count": 9,
   "id": "67309be2-ed72-47fa-ba80-58a76916e6e8",
   "metadata": {
    "tags": []
   },
   "outputs": [
    {
     "data": {
      "text/plain": [
       "Builder(paths=['/g/data/xv83/mxt599/ccam_noresm2-mm_historical_aus-10i_12km/drs_cordex/CORDEX/output/AUS-10i/CSIRO/NCC-NorESM2-MM/historical/r1i1p1f1/CSIRO-CCAM-2203/v1/'], storage_options={}, depth=2, exclude_patterns=[], include_patterns=[], joblib_parallel_kwargs={})"
      ]
     },
     "execution_count": 9,
     "metadata": {},
     "output_type": "execute_result"
    }
   ],
   "source": [
    "b"
   ]
  },
  {
   "cell_type": "code",
   "execution_count": 10,
   "id": "9ba190e2-8d45-4da8-82fb-150c53a3adf6",
   "metadata": {
    "tags": []
   },
   "outputs": [
    {
     "name": "stdout",
     "output_type": "stream",
     "text": [
      "CPU times: user 3.98 s, sys: 2.18 s, total: 6.17 s\n",
      "Wall time: 23.8 s\n"
     ]
    },
    {
     "name": "stderr",
     "output_type": "stream",
     "text": [
      "/g/data/v14/tm4888/miniconda3/envs/ACS-demo/lib/python3.10/site-packages/ecgtools/builder.py:204: UserWarning: Unable to parse 4 assets. A list of these assets can be found in `.invalid_assets` attribute.\n",
      "  ).clean_dataframe()\n"
     ]
    },
    {
     "data": {
      "text/plain": [
       "Builder(paths=['/g/data/xv83/mxt599/ccam_noresm2-mm_historical_aus-10i_12km/drs_cordex/CORDEX/output/AUS-10i/CSIRO/NCC-NorESM2-MM/historical/r1i1p1f1/CSIRO-CCAM-2203/v1/'], storage_options={}, depth=2, exclude_patterns=[], include_patterns=[], joblib_parallel_kwargs={})"
      ]
     },
     "execution_count": 10,
     "metadata": {},
     "output_type": "execute_result"
    }
   ],
   "source": [
    "%%time\n",
    "b.build(parsing_func = parse_CCAM)"
   ]
  },
  {
   "cell_type": "code",
   "execution_count": 11,
   "id": "15c410c9-f048-4930-88eb-78871ece3437",
   "metadata": {},
   "outputs": [
    {
     "data": {
      "text/html": [
       "<div>\n",
       "<style scoped>\n",
       "    .dataframe tbody tr th:only-of-type {\n",
       "        vertical-align: middle;\n",
       "    }\n",
       "\n",
       "    .dataframe tbody tr th {\n",
       "        vertical-align: top;\n",
       "    }\n",
       "\n",
       "    .dataframe thead th {\n",
       "        text-align: right;\n",
       "    }\n",
       "</style>\n",
       "<table border=\"1\" class=\"dataframe\">\n",
       "  <thead>\n",
       "    <tr style=\"text-align: right;\">\n",
       "      <th></th>\n",
       "      <th>variable</th>\n",
       "      <th>domain</th>\n",
       "      <th>host_GCM</th>\n",
       "      <th>run_type</th>\n",
       "      <th>host_ensemble</th>\n",
       "      <th>downscale_model</th>\n",
       "      <th>downscale_version</th>\n",
       "      <th>period</th>\n",
       "      <th>time_period</th>\n",
       "      <th>path</th>\n",
       "    </tr>\n",
       "  </thead>\n",
       "  <tbody>\n",
       "    <tr>\n",
       "      <th>0</th>\n",
       "      <td>CAPE</td>\n",
       "      <td>AUS-10i</td>\n",
       "      <td>NCC-NorESM2-MM</td>\n",
       "      <td>historical</td>\n",
       "      <td>r1i1p1f1</td>\n",
       "      <td>CSIRO-CCAM-2203</td>\n",
       "      <td>v1</td>\n",
       "      <td>1hr</td>\n",
       "      <td>hourly</td>\n",
       "      <td>/g/data/xv83/mxt599/ccam_noresm2-mm_historical...</td>\n",
       "    </tr>\n",
       "    <tr>\n",
       "      <th>1</th>\n",
       "      <td>CAPE</td>\n",
       "      <td>AUS-10i</td>\n",
       "      <td>NCC-NorESM2-MM</td>\n",
       "      <td>historical</td>\n",
       "      <td>r1i1p1f1</td>\n",
       "      <td>CSIRO-CCAM-2203</td>\n",
       "      <td>v1</td>\n",
       "      <td>1hr</td>\n",
       "      <td>hourly</td>\n",
       "      <td>/g/data/xv83/mxt599/ccam_noresm2-mm_historical...</td>\n",
       "    </tr>\n",
       "    <tr>\n",
       "      <th>2</th>\n",
       "      <td>CAPE</td>\n",
       "      <td>AUS-10i</td>\n",
       "      <td>NCC-NorESM2-MM</td>\n",
       "      <td>historical</td>\n",
       "      <td>r1i1p1f1</td>\n",
       "      <td>CSIRO-CCAM-2203</td>\n",
       "      <td>v1</td>\n",
       "      <td>1hr</td>\n",
       "      <td>hourly</td>\n",
       "      <td>/g/data/xv83/mxt599/ccam_noresm2-mm_historical...</td>\n",
       "    </tr>\n",
       "    <tr>\n",
       "      <th>3</th>\n",
       "      <td>CAPE</td>\n",
       "      <td>AUS-10i</td>\n",
       "      <td>NCC-NorESM2-MM</td>\n",
       "      <td>historical</td>\n",
       "      <td>r1i1p1f1</td>\n",
       "      <td>CSIRO-CCAM-2203</td>\n",
       "      <td>v1</td>\n",
       "      <td>1hr</td>\n",
       "      <td>hourly</td>\n",
       "      <td>/g/data/xv83/mxt599/ccam_noresm2-mm_historical...</td>\n",
       "    </tr>\n",
       "    <tr>\n",
       "      <th>4</th>\n",
       "      <td>CAPE</td>\n",
       "      <td>AUS-10i</td>\n",
       "      <td>NCC-NorESM2-MM</td>\n",
       "      <td>historical</td>\n",
       "      <td>r1i1p1f1</td>\n",
       "      <td>CSIRO-CCAM-2203</td>\n",
       "      <td>v1</td>\n",
       "      <td>1hr</td>\n",
       "      <td>hourly</td>\n",
       "      <td>/g/data/xv83/mxt599/ccam_noresm2-mm_historical...</td>\n",
       "    </tr>\n",
       "    <tr>\n",
       "      <th>...</th>\n",
       "      <td>...</td>\n",
       "      <td>...</td>\n",
       "      <td>...</td>\n",
       "      <td>...</td>\n",
       "      <td>...</td>\n",
       "      <td>...</td>\n",
       "      <td>...</td>\n",
       "      <td>...</td>\n",
       "      <td>...</td>\n",
       "      <td>...</td>\n",
       "    </tr>\n",
       "    <tr>\n",
       "      <th>32959</th>\n",
       "      <td>zmla</td>\n",
       "      <td>AUS-10i</td>\n",
       "      <td>NCC-NorESM2-MM</td>\n",
       "      <td>historical</td>\n",
       "      <td>r1i1p1f1</td>\n",
       "      <td>CSIRO-CCAM-2203</td>\n",
       "      <td>v1</td>\n",
       "      <td>mon</td>\n",
       "      <td>monthly</td>\n",
       "      <td>/g/data/xv83/mxt599/ccam_noresm2-mm_historical...</td>\n",
       "    </tr>\n",
       "    <tr>\n",
       "      <th>32960</th>\n",
       "      <td>zmla</td>\n",
       "      <td>AUS-10i</td>\n",
       "      <td>NCC-NorESM2-MM</td>\n",
       "      <td>historical</td>\n",
       "      <td>r1i1p1f1</td>\n",
       "      <td>CSIRO-CCAM-2203</td>\n",
       "      <td>v1</td>\n",
       "      <td>mon</td>\n",
       "      <td>monthly</td>\n",
       "      <td>/g/data/xv83/mxt599/ccam_noresm2-mm_historical...</td>\n",
       "    </tr>\n",
       "    <tr>\n",
       "      <th>32961</th>\n",
       "      <td>zmla</td>\n",
       "      <td>AUS-10i</td>\n",
       "      <td>NCC-NorESM2-MM</td>\n",
       "      <td>historical</td>\n",
       "      <td>r1i1p1f1</td>\n",
       "      <td>CSIRO-CCAM-2203</td>\n",
       "      <td>v1</td>\n",
       "      <td>mon</td>\n",
       "      <td>monthly</td>\n",
       "      <td>/g/data/xv83/mxt599/ccam_noresm2-mm_historical...</td>\n",
       "    </tr>\n",
       "    <tr>\n",
       "      <th>32962</th>\n",
       "      <td>zmla</td>\n",
       "      <td>AUS-10i</td>\n",
       "      <td>NCC-NorESM2-MM</td>\n",
       "      <td>historical</td>\n",
       "      <td>r1i1p1f1</td>\n",
       "      <td>CSIRO-CCAM-2203</td>\n",
       "      <td>v1</td>\n",
       "      <td>mon</td>\n",
       "      <td>monthly</td>\n",
       "      <td>/g/data/xv83/mxt599/ccam_noresm2-mm_historical...</td>\n",
       "    </tr>\n",
       "    <tr>\n",
       "      <th>32963</th>\n",
       "      <td>zmla</td>\n",
       "      <td>AUS-10i</td>\n",
       "      <td>NCC-NorESM2-MM</td>\n",
       "      <td>historical</td>\n",
       "      <td>r1i1p1f1</td>\n",
       "      <td>CSIRO-CCAM-2203</td>\n",
       "      <td>v1</td>\n",
       "      <td>mon</td>\n",
       "      <td>monthly</td>\n",
       "      <td>/g/data/xv83/mxt599/ccam_noresm2-mm_historical...</td>\n",
       "    </tr>\n",
       "  </tbody>\n",
       "</table>\n",
       "<p>32960 rows × 10 columns</p>\n",
       "</div>"
      ],
      "text/plain": [
       "      variable   domain        host_GCM    run_type host_ensemble  \\\n",
       "0         CAPE  AUS-10i  NCC-NorESM2-MM  historical      r1i1p1f1   \n",
       "1         CAPE  AUS-10i  NCC-NorESM2-MM  historical      r1i1p1f1   \n",
       "2         CAPE  AUS-10i  NCC-NorESM2-MM  historical      r1i1p1f1   \n",
       "3         CAPE  AUS-10i  NCC-NorESM2-MM  historical      r1i1p1f1   \n",
       "4         CAPE  AUS-10i  NCC-NorESM2-MM  historical      r1i1p1f1   \n",
       "...        ...      ...             ...         ...           ...   \n",
       "32959     zmla  AUS-10i  NCC-NorESM2-MM  historical      r1i1p1f1   \n",
       "32960     zmla  AUS-10i  NCC-NorESM2-MM  historical      r1i1p1f1   \n",
       "32961     zmla  AUS-10i  NCC-NorESM2-MM  historical      r1i1p1f1   \n",
       "32962     zmla  AUS-10i  NCC-NorESM2-MM  historical      r1i1p1f1   \n",
       "32963     zmla  AUS-10i  NCC-NorESM2-MM  historical      r1i1p1f1   \n",
       "\n",
       "       downscale_model downscale_version period time_period  \\\n",
       "0      CSIRO-CCAM-2203                v1    1hr      hourly   \n",
       "1      CSIRO-CCAM-2203                v1    1hr      hourly   \n",
       "2      CSIRO-CCAM-2203                v1    1hr      hourly   \n",
       "3      CSIRO-CCAM-2203                v1    1hr      hourly   \n",
       "4      CSIRO-CCAM-2203                v1    1hr      hourly   \n",
       "...                ...               ...    ...         ...   \n",
       "32959  CSIRO-CCAM-2203                v1    mon     monthly   \n",
       "32960  CSIRO-CCAM-2203                v1    mon     monthly   \n",
       "32961  CSIRO-CCAM-2203                v1    mon     monthly   \n",
       "32962  CSIRO-CCAM-2203                v1    mon     monthly   \n",
       "32963  CSIRO-CCAM-2203                v1    mon     monthly   \n",
       "\n",
       "                                                    path  \n",
       "0      /g/data/xv83/mxt599/ccam_noresm2-mm_historical...  \n",
       "1      /g/data/xv83/mxt599/ccam_noresm2-mm_historical...  \n",
       "2      /g/data/xv83/mxt599/ccam_noresm2-mm_historical...  \n",
       "3      /g/data/xv83/mxt599/ccam_noresm2-mm_historical...  \n",
       "4      /g/data/xv83/mxt599/ccam_noresm2-mm_historical...  \n",
       "...                                                  ...  \n",
       "32959  /g/data/xv83/mxt599/ccam_noresm2-mm_historical...  \n",
       "32960  /g/data/xv83/mxt599/ccam_noresm2-mm_historical...  \n",
       "32961  /g/data/xv83/mxt599/ccam_noresm2-mm_historical...  \n",
       "32962  /g/data/xv83/mxt599/ccam_noresm2-mm_historical...  \n",
       "32963  /g/data/xv83/mxt599/ccam_noresm2-mm_historical...  \n",
       "\n",
       "[32960 rows x 10 columns]"
      ]
     },
     "execution_count": 11,
     "metadata": {},
     "output_type": "execute_result"
    }
   ],
   "source": [
    "b.df"
   ]
  },
  {
   "cell_type": "markdown",
   "id": "d54d49e6-f7a5-42dc-a93e-2ae8ffc46f72",
   "metadata": {},
   "source": [
    "#### 4 `fx` \"fixed frequency\" `netcdf` files are excluded as \"invalid assets\""
   ]
  },
  {
   "cell_type": "code",
   "execution_count": 12,
   "id": "6b747f95-cb89-41b6-9c7d-1d4297b315df",
   "metadata": {
    "tags": []
   },
   "outputs": [
    {
     "data": {
      "text/plain": [
       "array([PosixPath('/g/data/xv83/mxt599/ccam_noresm2-mm_historical_aus-10i_12km/drs_cordex/CORDEX/output/AUS-10i/CSIRO/NCC-NorESM2-MM/historical/r1i1p1f1/CSIRO-CCAM-2203/v1/fx/orog/orog_AUS-10i_NCC-NorESM2-MM_historical_r1i1p1f1_CSIRO-CCAM-2203_v1.nc'),\n",
       "       PosixPath('/g/data/xv83/mxt599/ccam_noresm2-mm_historical_aus-10i_12km/drs_cordex/CORDEX/output/AUS-10i/CSIRO/NCC-NorESM2-MM/historical/r1i1p1f1/CSIRO-CCAM-2203/v1/fx/sftlaf/sftlaf_AUS-10i_NCC-NorESM2-MM_historical_r1i1p1f1_CSIRO-CCAM-2203_v1.nc'),\n",
       "       PosixPath('/g/data/xv83/mxt599/ccam_noresm2-mm_historical_aus-10i_12km/drs_cordex/CORDEX/output/AUS-10i/CSIRO/NCC-NorESM2-MM/historical/r1i1p1f1/CSIRO-CCAM-2203/v1/fx/sftlf/sftlf_AUS-10i_NCC-NorESM2-MM_historical_r1i1p1f1_CSIRO-CCAM-2203_v1.nc'),\n",
       "       PosixPath('/g/data/xv83/mxt599/ccam_noresm2-mm_historical_aus-10i_12km/drs_cordex/CORDEX/output/AUS-10i/CSIRO/NCC-NorESM2-MM/historical/r1i1p1f1/CSIRO-CCAM-2203/v1/fx/sfturf/sfturf_AUS-10i_NCC-NorESM2-MM_historical_r1i1p1f1_CSIRO-CCAM-2203_v1.nc')],\n",
       "      dtype=object)"
      ]
     },
     "execution_count": 12,
     "metadata": {},
     "output_type": "execute_result"
    }
   ],
   "source": [
    "b.invalid_assets['INVALID_ASSET'].values"
   ]
  },
  {
   "cell_type": "markdown",
   "id": "72aa30a5-9de0-4fed-a65b-d7ca83529416",
   "metadata": {},
   "source": [
    "## save your `intake-esm` catalogue"
   ]
  },
  {
   "cell_type": "code",
   "execution_count": 13,
   "id": "693c09e2-f3c6-41ef-8c75-3e6245475226",
   "metadata": {},
   "outputs": [
    {
     "name": "stdout",
     "output_type": "stream",
     "text": [
      "Successfully wrote ESM catalog json file to: file:///g/data/v14/tm4888/code/ACS/data-catalogue/catalogues/ccam_noresm2-mm_historical_aus-10i_12km.json\n"
     ]
    },
    {
     "name": "stderr",
     "output_type": "stream",
     "text": [
      "/jobfs/84612829.gadi-pbs/ipykernel_1209062/1166365249.py:1: UserWarning: Unable to parse 4 assets/files. A list of these assets can be found in /jobfs/84612829.gadi-pbs/ccam_noresm2-mm_historical_aus-10i_12km_invalid_assets.csv.\n",
      "  b.save(\n"
     ]
    }
   ],
   "source": [
    "b.save(\n",
    "    # File path - could save as .csv (uncompressed csv) or .csv.gz (compressed csv)\n",
    "    name = \"ccam_noresm2-mm_historical_aus-10i_12km\",\n",
    "    directory = catalogue_path,\n",
    "    # Column name including filepath\n",
    "    path_column_name='path',\n",
    "    # Column name including variables\n",
    "    variable_column_name='variable',\n",
    "    # Data file format - could be netcdf or zarr (in this case, netcdf)\n",
    "    data_format=\"netcdf\",\n",
    "    # Which attributes to groupby when reading in variables using intake-esm\n",
    "    groupby_attrs=[\"domain\", \"host_GCM\", \"run_type\",\"host_ensemble\",\"downscale_model\",\"downscale_version\",\"period\"],\n",
    "    # Aggregations which are fed into xarray when reading in data using intake\n",
    "    aggregations=[\n",
    "        {\n",
    "            \"type\": \"join_existing\",\n",
    "            \"attribute_name\": \"date\",\n",
    "            \"options\": {\"dim\": \"time\", \"coords\": \"minimal\", \"compat\": \"override\"},\n",
    "        }\n",
    "    ],\n",
    ")"
   ]
  },
  {
   "cell_type": "markdown",
   "id": "936c9c98-4799-4c94-bb65-345e2311371b",
   "metadata": {},
   "source": [
    "# THE END"
   ]
  },
  {
   "cell_type": "code",
   "execution_count": 14,
   "id": "dbc84294-2eb2-4a0d-bcdc-062888d597d2",
   "metadata": {},
   "outputs": [],
   "source": [
    "client.shutdown()"
   ]
  },
  {
   "cell_type": "code",
   "execution_count": null,
   "id": "3f1cf680-3e7a-45aa-9283-1aa49ca6fb88",
   "metadata": {},
   "outputs": [],
   "source": []
  }
 ],
 "metadata": {
  "kernelspec": {
   "display_name": "Python 3 (ipykernel)",
   "language": "python",
   "name": "python3"
  },
  "language_info": {
   "codemirror_mode": {
    "name": "ipython",
    "version": 3
   },
   "file_extension": ".py",
   "mimetype": "text/x-python",
   "name": "python",
   "nbconvert_exporter": "python",
   "pygments_lexer": "ipython3",
   "version": "3.10.9"
  }
 },
 "nbformat": 4,
 "nbformat_minor": 5
}

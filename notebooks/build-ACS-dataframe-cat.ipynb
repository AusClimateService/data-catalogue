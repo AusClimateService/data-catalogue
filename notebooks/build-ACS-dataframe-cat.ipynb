{
 "cells": [
  {
   "cell_type": "markdown",
   "id": "a3c7829f-9399-4bfb-adf4-63851ba5fba2",
   "metadata": {},
   "source": [
    "# make ACS intake dataframe catalogue"
   ]
  },
  {
   "cell_type": "markdown",
   "id": "afe2c653-bfe7-4e07-84a1-bbcf61edd859",
   "metadata": {},
   "source": [
    "Date: 19 May 2023"
   ]
  },
  {
   "cell_type": "markdown",
   "id": "2f19eebb-fd60-4fc5-85c9-01c41f7989c7",
   "metadata": {},
   "source": [
    "Author = {\"name\": \"Thomas Moore\", \"affiliation\": \"CSIRO\", \"email\": \"thomas.moore@csiro.au\", \"orcid\": \"0000-0003-3930-1946\"}"
   ]
  },
  {
   "cell_type": "markdown",
   "id": "1f41a28d-7966-420a-a2ba-5bb53ada1d9c",
   "metadata": {},
   "source": [
    "### Reference documents: https://intake-dataframe-catalog.readthedocs.io/en/latest/getting_started/quickstart.html"
   ]
  },
  {
   "cell_type": "code",
   "execution_count": 1,
   "id": "dbfd2435-2231-4a62-aa70-d5fd531a259d",
   "metadata": {},
   "outputs": [],
   "source": [
    "import intake"
   ]
  },
  {
   "cell_type": "markdown",
   "id": "e25d9c26-ad00-4e0a-b8dc-6fcfb15cfc71",
   "metadata": {},
   "source": [
    "### start a local Dask client"
   ]
  },
  {
   "cell_type": "code",
   "execution_count": 2,
   "id": "97accd08-fd64-47e2-b870-ed24ff71ad9e",
   "metadata": {
    "tags": []
   },
   "outputs": [
    {
     "data": {
      "text/html": [
       "<div>\n",
       "    <div style=\"width: 24px; height: 24px; background-color: #e1e1e1; border: 3px solid #9D9D9D; border-radius: 5px; position: absolute;\"> </div>\n",
       "    <div style=\"margin-left: 48px;\">\n",
       "        <h3 style=\"margin-bottom: 0px;\">Client</h3>\n",
       "        <p style=\"color: #9D9D9D; margin-bottom: 0px;\">Client-2282fcf4-f865-11ed-80d4-0000075ffe80</p>\n",
       "        <table style=\"width: 100%; text-align: left;\">\n",
       "\n",
       "        <tr>\n",
       "        \n",
       "            <td style=\"text-align: left;\"><strong>Connection method:</strong> Cluster object</td>\n",
       "            <td style=\"text-align: left;\"><strong>Cluster type:</strong> distributed.LocalCluster</td>\n",
       "        \n",
       "        </tr>\n",
       "\n",
       "        \n",
       "            <tr>\n",
       "                <td style=\"text-align: left;\">\n",
       "                    <strong>Dashboard: </strong> <a href=\"/proxy/8787/status\" target=\"_blank\">/proxy/8787/status</a>\n",
       "                </td>\n",
       "                <td style=\"text-align: left;\"></td>\n",
       "            </tr>\n",
       "        \n",
       "\n",
       "        </table>\n",
       "\n",
       "        \n",
       "            <button style=\"margin-bottom: 12px;\" data-commandlinker-command=\"dask:populate-and-launch-layout\" data-commandlinker-args='{\"url\": \"/proxy/8787/status\" }'>\n",
       "                Launch dashboard in JupyterLab\n",
       "            </button>\n",
       "        \n",
       "\n",
       "        \n",
       "            <details>\n",
       "            <summary style=\"margin-bottom: 20px;\"><h3 style=\"display: inline;\">Cluster Info</h3></summary>\n",
       "            <div class=\"jp-RenderedHTMLCommon jp-RenderedHTML jp-mod-trusted jp-OutputArea-output\">\n",
       "    <div style=\"width: 24px; height: 24px; background-color: #e1e1e1; border: 3px solid #9D9D9D; border-radius: 5px; position: absolute;\">\n",
       "    </div>\n",
       "    <div style=\"margin-left: 48px;\">\n",
       "        <h3 style=\"margin-bottom: 0px; margin-top: 0px;\">LocalCluster</h3>\n",
       "        <p style=\"color: #9D9D9D; margin-bottom: 0px;\">11bb446e</p>\n",
       "        <table style=\"width: 100%; text-align: left;\">\n",
       "            <tr>\n",
       "                <td style=\"text-align: left;\">\n",
       "                    <strong>Dashboard:</strong> <a href=\"/proxy/8787/status\" target=\"_blank\">/proxy/8787/status</a>\n",
       "                </td>\n",
       "                <td style=\"text-align: left;\">\n",
       "                    <strong>Workers:</strong> 2\n",
       "                </td>\n",
       "            </tr>\n",
       "            <tr>\n",
       "                <td style=\"text-align: left;\">\n",
       "                    <strong>Total threads:</strong> 2\n",
       "                </td>\n",
       "                <td style=\"text-align: left;\">\n",
       "                    <strong>Total memory:</strong> 9.00 GiB\n",
       "                </td>\n",
       "            </tr>\n",
       "            \n",
       "            <tr>\n",
       "    <td style=\"text-align: left;\"><strong>Status:</strong> running</td>\n",
       "    <td style=\"text-align: left;\"><strong>Using processes:</strong> True</td>\n",
       "</tr>\n",
       "\n",
       "            \n",
       "        </table>\n",
       "\n",
       "        <details>\n",
       "            <summary style=\"margin-bottom: 20px;\">\n",
       "                <h3 style=\"display: inline;\">Scheduler Info</h3>\n",
       "            </summary>\n",
       "\n",
       "            <div style=\"\">\n",
       "    <div>\n",
       "        <div style=\"width: 24px; height: 24px; background-color: #FFF7E5; border: 3px solid #FF6132; border-radius: 5px; position: absolute;\"> </div>\n",
       "        <div style=\"margin-left: 48px;\">\n",
       "            <h3 style=\"margin-bottom: 0px;\">Scheduler</h3>\n",
       "            <p style=\"color: #9D9D9D; margin-bottom: 0px;\">Scheduler-2a74b401-5b72-4fe6-afec-907e501672a9</p>\n",
       "            <table style=\"width: 100%; text-align: left;\">\n",
       "                <tr>\n",
       "                    <td style=\"text-align: left;\">\n",
       "                        <strong>Comm:</strong> tcp://127.0.0.1:42401\n",
       "                    </td>\n",
       "                    <td style=\"text-align: left;\">\n",
       "                        <strong>Workers:</strong> 2\n",
       "                    </td>\n",
       "                </tr>\n",
       "                <tr>\n",
       "                    <td style=\"text-align: left;\">\n",
       "                        <strong>Dashboard:</strong> <a href=\"/proxy/8787/status\" target=\"_blank\">/proxy/8787/status</a>\n",
       "                    </td>\n",
       "                    <td style=\"text-align: left;\">\n",
       "                        <strong>Total threads:</strong> 2\n",
       "                    </td>\n",
       "                </tr>\n",
       "                <tr>\n",
       "                    <td style=\"text-align: left;\">\n",
       "                        <strong>Started:</strong> Just now\n",
       "                    </td>\n",
       "                    <td style=\"text-align: left;\">\n",
       "                        <strong>Total memory:</strong> 9.00 GiB\n",
       "                    </td>\n",
       "                </tr>\n",
       "            </table>\n",
       "        </div>\n",
       "    </div>\n",
       "\n",
       "    <details style=\"margin-left: 48px;\">\n",
       "        <summary style=\"margin-bottom: 20px;\">\n",
       "            <h3 style=\"display: inline;\">Workers</h3>\n",
       "        </summary>\n",
       "\n",
       "        \n",
       "        <div style=\"margin-bottom: 20px;\">\n",
       "            <div style=\"width: 24px; height: 24px; background-color: #DBF5FF; border: 3px solid #4CC9FF; border-radius: 5px; position: absolute;\"> </div>\n",
       "            <div style=\"margin-left: 48px;\">\n",
       "            <details>\n",
       "                <summary>\n",
       "                    <h4 style=\"margin-bottom: 0px; display: inline;\">Worker: 0</h4>\n",
       "                </summary>\n",
       "                <table style=\"width: 100%; text-align: left;\">\n",
       "                    <tr>\n",
       "                        <td style=\"text-align: left;\">\n",
       "                            <strong>Comm: </strong> tcp://127.0.0.1:46679\n",
       "                        </td>\n",
       "                        <td style=\"text-align: left;\">\n",
       "                            <strong>Total threads: </strong> 1\n",
       "                        </td>\n",
       "                    </tr>\n",
       "                    <tr>\n",
       "                        <td style=\"text-align: left;\">\n",
       "                            <strong>Dashboard: </strong> <a href=\"/proxy/45709/status\" target=\"_blank\">/proxy/45709/status</a>\n",
       "                        </td>\n",
       "                        <td style=\"text-align: left;\">\n",
       "                            <strong>Memory: </strong> 4.50 GiB\n",
       "                        </td>\n",
       "                    </tr>\n",
       "                    <tr>\n",
       "                        <td style=\"text-align: left;\">\n",
       "                            <strong>Nanny: </strong> tcp://127.0.0.1:39177\n",
       "                        </td>\n",
       "                        <td style=\"text-align: left;\"></td>\n",
       "                    </tr>\n",
       "                    <tr>\n",
       "                        <td colspan=\"2\" style=\"text-align: left;\">\n",
       "                            <strong>Local directory: </strong> /jobfs/84612829.gadi-pbs/dask-worker-space/worker-wbvk9p9d\n",
       "                        </td>\n",
       "                    </tr>\n",
       "\n",
       "                    \n",
       "\n",
       "                    \n",
       "\n",
       "                </table>\n",
       "            </details>\n",
       "            </div>\n",
       "        </div>\n",
       "        \n",
       "        <div style=\"margin-bottom: 20px;\">\n",
       "            <div style=\"width: 24px; height: 24px; background-color: #DBF5FF; border: 3px solid #4CC9FF; border-radius: 5px; position: absolute;\"> </div>\n",
       "            <div style=\"margin-left: 48px;\">\n",
       "            <details>\n",
       "                <summary>\n",
       "                    <h4 style=\"margin-bottom: 0px; display: inline;\">Worker: 1</h4>\n",
       "                </summary>\n",
       "                <table style=\"width: 100%; text-align: left;\">\n",
       "                    <tr>\n",
       "                        <td style=\"text-align: left;\">\n",
       "                            <strong>Comm: </strong> tcp://127.0.0.1:37323\n",
       "                        </td>\n",
       "                        <td style=\"text-align: left;\">\n",
       "                            <strong>Total threads: </strong> 1\n",
       "                        </td>\n",
       "                    </tr>\n",
       "                    <tr>\n",
       "                        <td style=\"text-align: left;\">\n",
       "                            <strong>Dashboard: </strong> <a href=\"/proxy/41555/status\" target=\"_blank\">/proxy/41555/status</a>\n",
       "                        </td>\n",
       "                        <td style=\"text-align: left;\">\n",
       "                            <strong>Memory: </strong> 4.50 GiB\n",
       "                        </td>\n",
       "                    </tr>\n",
       "                    <tr>\n",
       "                        <td style=\"text-align: left;\">\n",
       "                            <strong>Nanny: </strong> tcp://127.0.0.1:44533\n",
       "                        </td>\n",
       "                        <td style=\"text-align: left;\"></td>\n",
       "                    </tr>\n",
       "                    <tr>\n",
       "                        <td colspan=\"2\" style=\"text-align: left;\">\n",
       "                            <strong>Local directory: </strong> /jobfs/84612829.gadi-pbs/dask-worker-space/worker-0om9qzek\n",
       "                        </td>\n",
       "                    </tr>\n",
       "\n",
       "                    \n",
       "\n",
       "                    \n",
       "\n",
       "                </table>\n",
       "            </details>\n",
       "            </div>\n",
       "        </div>\n",
       "        \n",
       "\n",
       "    </details>\n",
       "</div>\n",
       "\n",
       "        </details>\n",
       "    </div>\n",
       "</div>\n",
       "            </details>\n",
       "        \n",
       "\n",
       "    </div>\n",
       "</div>"
      ],
      "text/plain": [
       "<Client: 'tcp://127.0.0.1:42401' processes=2 threads=2, memory=9.00 GiB>"
      ]
     },
     "execution_count": 2,
     "metadata": {},
     "output_type": "execute_result"
    }
   ],
   "source": [
    "from dask.distributed import Client\n",
    "client = Client()\n",
    "client"
   ]
  },
  {
   "cell_type": "markdown",
   "id": "201493fb-90db-45ad-b936-1f2818b0a972",
   "metadata": {},
   "source": [
    "### get catalogue path from config file"
   ]
  },
  {
   "cell_type": "code",
   "execution_count": 3,
   "id": "e4e89742-5b8b-4b2a-8d3c-d8c69a9c3a93",
   "metadata": {},
   "outputs": [],
   "source": [
    "import configparser\n",
    "\n",
    "# Create a ConfigParser object\n",
    "config = configparser.ConfigParser()\n",
    "\n",
    "# Read the config file\n",
    "#########\n",
    "#### you will need to specifiy your correct path the the `data-catalogue/config.ini` file \n",
    "#########\n",
    "config.read('./code/ACS/data-catalogue/config.ini')\n",
    "\n",
    "# Get the value of a variable\n",
    "catalogue_path = config.get('paths', 'catalogue_path')"
   ]
  },
  {
   "cell_type": "markdown",
   "id": "7790c3e6-8f11-4ace-acf6-f3fa79667d3c",
   "metadata": {},
   "source": [
    "### load `intake-esm` sub-catalogues"
   ]
  },
  {
   "cell_type": "code",
   "execution_count": 4,
   "id": "8821fb52-7d89-4ad7-a7a2-3660a7053ecf",
   "metadata": {
    "tags": []
   },
   "outputs": [],
   "source": [
    "data_catalog_hist = intake.open_esm_datastore(catalogue_path+'ccam_noresm2-mm_historical_aus-10i_12km.json')\n",
    "data_catalog_ssp126 = intake.open_esm_datastore(catalogue_path+'ccam_noresm2-mm_ssp126_aus-10i_12km.json')"
   ]
  },
  {
   "cell_type": "markdown",
   "id": "c3ac585b-2b88-476b-9a15-299880138c34",
   "metadata": {},
   "source": [
    "### initialise our dataframe catalogue"
   ]
  },
  {
   "cell_type": "code",
   "execution_count": 5,
   "id": "914ebfb7-a609-49ff-abc7-1f9ff6831ea0",
   "metadata": {
    "tags": []
   },
   "outputs": [],
   "source": [
    "df_cat = intake.open_df_catalog(path=catalogue_path+'root_df_catalog.csv', mode=\"w\")"
   ]
  },
  {
   "cell_type": "markdown",
   "id": "573f14fa-d607-46fe-be93-25d3330d6b58",
   "metadata": {},
   "source": [
    "# add sources to df_cat"
   ]
  },
  {
   "cell_type": "code",
   "execution_count": 6,
   "id": "31c34371-bb8e-4b17-adfe-1155ca848da4",
   "metadata": {
    "tags": []
   },
   "outputs": [
    {
     "data": {
      "text/html": [
       "<p><strong>Intake dataframe catalog with 1 source(s) across 1 rows</strong>:</p> <div style='max-height: 300px; overflow: auto; width: fit-content'><div>\n",
       "<style scoped>\n",
       "    .dataframe tbody tr th:only-of-type {\n",
       "        vertical-align: middle;\n",
       "    }\n",
       "\n",
       "    .dataframe tbody tr th {\n",
       "        vertical-align: top;\n",
       "    }\n",
       "\n",
       "    .dataframe thead th {\n",
       "        text-align: right;\n",
       "    }\n",
       "</style>\n",
       "<table border=\"1\" class=\"dataframe\">\n",
       "  <thead>\n",
       "    <tr style=\"text-align: right;\">\n",
       "      <th></th>\n",
       "      <th>model</th>\n",
       "      <th>variable</th>\n",
       "    </tr>\n",
       "    <tr>\n",
       "      <th>name</th>\n",
       "      <th></th>\n",
       "      <th></th>\n",
       "    </tr>\n",
       "  </thead>\n",
       "  <tbody>\n",
       "    <tr>\n",
       "      <th>ccam_noresm2-mm_historical_aus-10i_12km</th>\n",
       "      <td>{ccam_noresm2-mm_historical_aus-10i_12km}</td>\n",
       "      <td>{wa10, zg10, clt, tas, hus400, cll, prhmax, ua50m, rsuscs, ua500, hus10, ta925, clwvi, ua600, evspsblpot, wa600, ta10, hus300, hus600, mrsos, wa925, va20, hfss, zg20, va200m, ta400, va925, va400, ...</td>\n",
       "    </tr>\n",
       "  </tbody>\n",
       "</table>\n",
       "</div></div>"
      ],
      "text/plain": [
       "<IPython.core.display.HTML object>"
      ]
     },
     "metadata": {},
     "output_type": "display_data"
    }
   ],
   "source": [
    "data_catalog_hist.name = \"ccam_noresm2-mm_historical_aus-10i_12km\"\n",
    "model = \"ccam_noresm2-mm_historical_aus-10i_12km\"\n",
    "variables = list(\n",
    "    set(\n",
    "        data_catalog_hist.df.variable.unique().astype(str)\n",
    "    )\n",
    ")\n",
    "\n",
    "df_cat.add(\n",
    "    data_catalog_hist,\n",
    "    metadata={\"model\": model, \"variable\": variables}\n",
    ")\n",
    "\n",
    "df_cat"
   ]
  },
  {
   "cell_type": "code",
   "execution_count": 7,
   "id": "b5242508-03aa-4e3f-9f29-0a17bc207bbe",
   "metadata": {
    "tags": []
   },
   "outputs": [
    {
     "data": {
      "text/html": [
       "<p><strong>Intake dataframe catalog with 2 source(s) across 2 rows</strong>:</p> <div style='max-height: 300px; overflow: auto; width: fit-content'><div>\n",
       "<style scoped>\n",
       "    .dataframe tbody tr th:only-of-type {\n",
       "        vertical-align: middle;\n",
       "    }\n",
       "\n",
       "    .dataframe tbody tr th {\n",
       "        vertical-align: top;\n",
       "    }\n",
       "\n",
       "    .dataframe thead th {\n",
       "        text-align: right;\n",
       "    }\n",
       "</style>\n",
       "<table border=\"1\" class=\"dataframe\">\n",
       "  <thead>\n",
       "    <tr style=\"text-align: right;\">\n",
       "      <th></th>\n",
       "      <th>model</th>\n",
       "      <th>variable</th>\n",
       "    </tr>\n",
       "    <tr>\n",
       "      <th>name</th>\n",
       "      <th></th>\n",
       "      <th></th>\n",
       "    </tr>\n",
       "  </thead>\n",
       "  <tbody>\n",
       "    <tr>\n",
       "      <th>ccam_noresm2-mm_historical_aus-10i_12km</th>\n",
       "      <td>{ccam_noresm2-mm_historical_aus-10i_12km}</td>\n",
       "      <td>{wa10, zg10, clt, tas, hus400, cll, prhmax, ua50m, rsuscs, ua500, hus10, ta925, clwvi, ua600, evspsblpot, wa600, ta10, hus300, hus600, mrsos, wa925, va20, hfss, zg20, va200m, ta400, va925, va400, ...</td>\n",
       "    </tr>\n",
       "    <tr>\n",
       "      <th>ccam_noresm2-mm_ssp126_aus-10i_12km</th>\n",
       "      <td>{ccam_noresm2-mm_ssp126_aus-10i_12km}</td>\n",
       "      <td>{wa10, zg10, clt, tas, hus400, cll, prhmax, ua50m, rsuscs, ua500, hus10, ta925, clwvi, ua600, evspsblpot, wa600, ta10, hus300, hus600, mrsos, wa925, va20, hfss, zg20, va200m, ta400, va925, va400, ...</td>\n",
       "    </tr>\n",
       "  </tbody>\n",
       "</table>\n",
       "</div></div>"
      ],
      "text/plain": [
       "<IPython.core.display.HTML object>"
      ]
     },
     "metadata": {},
     "output_type": "display_data"
    }
   ],
   "source": [
    "data_catalog_ssp126.name = \"ccam_noresm2-mm_ssp126_aus-10i_12km\"\n",
    "model = \"ccam_noresm2-mm_ssp126_aus-10i_12km\"\n",
    "variables = list(\n",
    "    set(\n",
    "        data_catalog_hist.df.variable.unique().astype(str)\n",
    "    )\n",
    ")\n",
    "\n",
    "df_cat.add(\n",
    "    data_catalog_ssp126,\n",
    "    metadata={\"model\": model, \"variable\": variables}\n",
    ")\n",
    "\n",
    "df_cat"
   ]
  },
  {
   "cell_type": "markdown",
   "id": "65443344-ad3f-4d37-acfa-c8b9bc292225",
   "metadata": {},
   "source": [
    "# save the df_cat"
   ]
  },
  {
   "cell_type": "code",
   "execution_count": 8,
   "id": "8fac3694-81ff-4122-b667-dcf38a624af7",
   "metadata": {
    "tags": []
   },
   "outputs": [],
   "source": [
    "df_cat.save()"
   ]
  },
  {
   "cell_type": "markdown",
   "id": "3ea1d239-9f9d-4031-b335-a1301aeee7fd",
   "metadata": {},
   "source": [
    "# THE END"
   ]
  },
  {
   "cell_type": "code",
   "execution_count": 9,
   "id": "4c4a672e-808d-4c9d-95f0-92aeb067d0a2",
   "metadata": {},
   "outputs": [],
   "source": [
    "client.shutdown()"
   ]
  },
  {
   "cell_type": "code",
   "execution_count": null,
   "id": "8bb02f9b-956a-4993-8c5c-bf966657c3ca",
   "metadata": {},
   "outputs": [],
   "source": []
  }
 ],
 "metadata": {
  "kernelspec": {
   "display_name": "Python 3 (ipykernel)",
   "language": "python",
   "name": "python3"
  },
  "language_info": {
   "codemirror_mode": {
    "name": "ipython",
    "version": 3
   },
   "file_extension": ".py",
   "mimetype": "text/x-python",
   "name": "python",
   "nbconvert_exporter": "python",
   "pygments_lexer": "ipython3",
   "version": "3.10.9"
  }
 },
 "nbformat": 4,
 "nbformat_minor": 5
}

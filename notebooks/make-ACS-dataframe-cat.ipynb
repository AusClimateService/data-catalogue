{
 "cells": [
  {
   "cell_type": "markdown",
   "id": "a3c7829f-9399-4bfb-adf4-63851ba5fba2",
   "metadata": {},
   "source": [
    "# make ACS intake dataframe catalogue"
   ]
  },
  {
   "cell_type": "markdown",
   "id": "1f41a28d-7966-420a-a2ba-5bb53ada1d9c",
   "metadata": {},
   "source": [
    "### required packages"
   ]
  },
  {
   "cell_type": "code",
   "execution_count": 1,
   "id": "dbfd2435-2231-4a62-aa70-d5fd531a259d",
   "metadata": {},
   "outputs": [],
   "source": [
    "import glob\n",
    "import pathlib\n",
    "import traceback\n",
    "from datetime import datetime\n",
    "import intake\n",
    "\n",
    "import xarray as xr\n",
    "from matplotlib import pyplot as plt"
   ]
  },
  {
   "cell_type": "markdown",
   "id": "e25d9c26-ad00-4e0a-b8dc-6fcfb15cfc71",
   "metadata": {},
   "source": [
    "### start a local Dask client"
   ]
  },
  {
   "cell_type": "code",
   "execution_count": 2,
   "id": "97accd08-fd64-47e2-b870-ed24ff71ad9e",
   "metadata": {
    "tags": []
   },
   "outputs": [
    {
     "name": "stderr",
     "output_type": "stream",
     "text": [
      "2023-05-15 14:53:35,866 - distributed.diskutils - INFO - Found stale lock file and directory '/jobfs/83682955.gadi-pbs/dask-worker-space/worker-juyideuu', purging\n",
      "2023-05-15 14:53:35,867 - distributed.diskutils - INFO - Found stale lock file and directory '/jobfs/83682955.gadi-pbs/dask-worker-space/worker-r1qyt1mq', purging\n",
      "2023-05-15 14:53:35,867 - distributed.diskutils - INFO - Found stale lock file and directory '/jobfs/83682955.gadi-pbs/dask-worker-space/worker-too59u5t', purging\n",
      "2023-05-15 14:53:35,867 - distributed.diskutils - INFO - Found stale lock file and directory '/jobfs/83682955.gadi-pbs/dask-worker-space/worker-55xr7kwv', purging\n"
     ]
    },
    {
     "data": {
      "text/html": [
       "<div>\n",
       "    <div style=\"width: 24px; height: 24px; background-color: #e1e1e1; border: 3px solid #9D9D9D; border-radius: 5px; position: absolute;\"> </div>\n",
       "    <div style=\"margin-left: 48px;\">\n",
       "        <h3 style=\"margin-bottom: 0px;\">Client</h3>\n",
       "        <p style=\"color: #9D9D9D; margin-bottom: 0px;\">Client-7180c54e-f2dc-11ed-a41e-00000766fe80</p>\n",
       "        <table style=\"width: 100%; text-align: left;\">\n",
       "\n",
       "        <tr>\n",
       "        \n",
       "            <td style=\"text-align: left;\"><strong>Connection method:</strong> Cluster object</td>\n",
       "            <td style=\"text-align: left;\"><strong>Cluster type:</strong> distributed.LocalCluster</td>\n",
       "        \n",
       "        </tr>\n",
       "\n",
       "        \n",
       "            <tr>\n",
       "                <td style=\"text-align: left;\">\n",
       "                    <strong>Dashboard: </strong> <a href=\"/proxy/8787/status\" target=\"_blank\">/proxy/8787/status</a>\n",
       "                </td>\n",
       "                <td style=\"text-align: left;\"></td>\n",
       "            </tr>\n",
       "        \n",
       "\n",
       "        </table>\n",
       "\n",
       "        \n",
       "            <button style=\"margin-bottom: 12px;\" data-commandlinker-command=\"dask:populate-and-launch-layout\" data-commandlinker-args='{\"url\": \"/proxy/8787/status\" }'>\n",
       "                Launch dashboard in JupyterLab\n",
       "            </button>\n",
       "        \n",
       "\n",
       "        \n",
       "            <details>\n",
       "            <summary style=\"margin-bottom: 20px;\"><h3 style=\"display: inline;\">Cluster Info</h3></summary>\n",
       "            <div class=\"jp-RenderedHTMLCommon jp-RenderedHTML jp-mod-trusted jp-OutputArea-output\">\n",
       "    <div style=\"width: 24px; height: 24px; background-color: #e1e1e1; border: 3px solid #9D9D9D; border-radius: 5px; position: absolute;\">\n",
       "    </div>\n",
       "    <div style=\"margin-left: 48px;\">\n",
       "        <h3 style=\"margin-bottom: 0px; margin-top: 0px;\">LocalCluster</h3>\n",
       "        <p style=\"color: #9D9D9D; margin-bottom: 0px;\">3b4c7bd5</p>\n",
       "        <table style=\"width: 100%; text-align: left;\">\n",
       "            <tr>\n",
       "                <td style=\"text-align: left;\">\n",
       "                    <strong>Dashboard:</strong> <a href=\"/proxy/8787/status\" target=\"_blank\">/proxy/8787/status</a>\n",
       "                </td>\n",
       "                <td style=\"text-align: left;\">\n",
       "                    <strong>Workers:</strong> 4\n",
       "                </td>\n",
       "            </tr>\n",
       "            <tr>\n",
       "                <td style=\"text-align: left;\">\n",
       "                    <strong>Total threads:</strong> 4\n",
       "                </td>\n",
       "                <td style=\"text-align: left;\">\n",
       "                    <strong>Total memory:</strong> 18.00 GiB\n",
       "                </td>\n",
       "            </tr>\n",
       "            \n",
       "            <tr>\n",
       "    <td style=\"text-align: left;\"><strong>Status:</strong> running</td>\n",
       "    <td style=\"text-align: left;\"><strong>Using processes:</strong> True</td>\n",
       "</tr>\n",
       "\n",
       "            \n",
       "        </table>\n",
       "\n",
       "        <details>\n",
       "            <summary style=\"margin-bottom: 20px;\">\n",
       "                <h3 style=\"display: inline;\">Scheduler Info</h3>\n",
       "            </summary>\n",
       "\n",
       "            <div style=\"\">\n",
       "    <div>\n",
       "        <div style=\"width: 24px; height: 24px; background-color: #FFF7E5; border: 3px solid #FF6132; border-radius: 5px; position: absolute;\"> </div>\n",
       "        <div style=\"margin-left: 48px;\">\n",
       "            <h3 style=\"margin-bottom: 0px;\">Scheduler</h3>\n",
       "            <p style=\"color: #9D9D9D; margin-bottom: 0px;\">Scheduler-b41d4c90-959a-4504-ae01-ab862b48b3f1</p>\n",
       "            <table style=\"width: 100%; text-align: left;\">\n",
       "                <tr>\n",
       "                    <td style=\"text-align: left;\">\n",
       "                        <strong>Comm:</strong> tcp://127.0.0.1:37213\n",
       "                    </td>\n",
       "                    <td style=\"text-align: left;\">\n",
       "                        <strong>Workers:</strong> 4\n",
       "                    </td>\n",
       "                </tr>\n",
       "                <tr>\n",
       "                    <td style=\"text-align: left;\">\n",
       "                        <strong>Dashboard:</strong> <a href=\"/proxy/8787/status\" target=\"_blank\">/proxy/8787/status</a>\n",
       "                    </td>\n",
       "                    <td style=\"text-align: left;\">\n",
       "                        <strong>Total threads:</strong> 4\n",
       "                    </td>\n",
       "                </tr>\n",
       "                <tr>\n",
       "                    <td style=\"text-align: left;\">\n",
       "                        <strong>Started:</strong> Just now\n",
       "                    </td>\n",
       "                    <td style=\"text-align: left;\">\n",
       "                        <strong>Total memory:</strong> 18.00 GiB\n",
       "                    </td>\n",
       "                </tr>\n",
       "            </table>\n",
       "        </div>\n",
       "    </div>\n",
       "\n",
       "    <details style=\"margin-left: 48px;\">\n",
       "        <summary style=\"margin-bottom: 20px;\">\n",
       "            <h3 style=\"display: inline;\">Workers</h3>\n",
       "        </summary>\n",
       "\n",
       "        \n",
       "        <div style=\"margin-bottom: 20px;\">\n",
       "            <div style=\"width: 24px; height: 24px; background-color: #DBF5FF; border: 3px solid #4CC9FF; border-radius: 5px; position: absolute;\"> </div>\n",
       "            <div style=\"margin-left: 48px;\">\n",
       "            <details>\n",
       "                <summary>\n",
       "                    <h4 style=\"margin-bottom: 0px; display: inline;\">Worker: 0</h4>\n",
       "                </summary>\n",
       "                <table style=\"width: 100%; text-align: left;\">\n",
       "                    <tr>\n",
       "                        <td style=\"text-align: left;\">\n",
       "                            <strong>Comm: </strong> tcp://127.0.0.1:44899\n",
       "                        </td>\n",
       "                        <td style=\"text-align: left;\">\n",
       "                            <strong>Total threads: </strong> 1\n",
       "                        </td>\n",
       "                    </tr>\n",
       "                    <tr>\n",
       "                        <td style=\"text-align: left;\">\n",
       "                            <strong>Dashboard: </strong> <a href=\"/proxy/36321/status\" target=\"_blank\">/proxy/36321/status</a>\n",
       "                        </td>\n",
       "                        <td style=\"text-align: left;\">\n",
       "                            <strong>Memory: </strong> 4.50 GiB\n",
       "                        </td>\n",
       "                    </tr>\n",
       "                    <tr>\n",
       "                        <td style=\"text-align: left;\">\n",
       "                            <strong>Nanny: </strong> tcp://127.0.0.1:43111\n",
       "                        </td>\n",
       "                        <td style=\"text-align: left;\"></td>\n",
       "                    </tr>\n",
       "                    <tr>\n",
       "                        <td colspan=\"2\" style=\"text-align: left;\">\n",
       "                            <strong>Local directory: </strong> /jobfs/83682955.gadi-pbs/dask-worker-space/worker-puyfns4r\n",
       "                        </td>\n",
       "                    </tr>\n",
       "\n",
       "                    \n",
       "\n",
       "                    \n",
       "\n",
       "                </table>\n",
       "            </details>\n",
       "            </div>\n",
       "        </div>\n",
       "        \n",
       "        <div style=\"margin-bottom: 20px;\">\n",
       "            <div style=\"width: 24px; height: 24px; background-color: #DBF5FF; border: 3px solid #4CC9FF; border-radius: 5px; position: absolute;\"> </div>\n",
       "            <div style=\"margin-left: 48px;\">\n",
       "            <details>\n",
       "                <summary>\n",
       "                    <h4 style=\"margin-bottom: 0px; display: inline;\">Worker: 1</h4>\n",
       "                </summary>\n",
       "                <table style=\"width: 100%; text-align: left;\">\n",
       "                    <tr>\n",
       "                        <td style=\"text-align: left;\">\n",
       "                            <strong>Comm: </strong> tcp://127.0.0.1:41171\n",
       "                        </td>\n",
       "                        <td style=\"text-align: left;\">\n",
       "                            <strong>Total threads: </strong> 1\n",
       "                        </td>\n",
       "                    </tr>\n",
       "                    <tr>\n",
       "                        <td style=\"text-align: left;\">\n",
       "                            <strong>Dashboard: </strong> <a href=\"/proxy/37891/status\" target=\"_blank\">/proxy/37891/status</a>\n",
       "                        </td>\n",
       "                        <td style=\"text-align: left;\">\n",
       "                            <strong>Memory: </strong> 4.50 GiB\n",
       "                        </td>\n",
       "                    </tr>\n",
       "                    <tr>\n",
       "                        <td style=\"text-align: left;\">\n",
       "                            <strong>Nanny: </strong> tcp://127.0.0.1:33165\n",
       "                        </td>\n",
       "                        <td style=\"text-align: left;\"></td>\n",
       "                    </tr>\n",
       "                    <tr>\n",
       "                        <td colspan=\"2\" style=\"text-align: left;\">\n",
       "                            <strong>Local directory: </strong> /jobfs/83682955.gadi-pbs/dask-worker-space/worker-yo6nmgza\n",
       "                        </td>\n",
       "                    </tr>\n",
       "\n",
       "                    \n",
       "\n",
       "                    \n",
       "\n",
       "                </table>\n",
       "            </details>\n",
       "            </div>\n",
       "        </div>\n",
       "        \n",
       "        <div style=\"margin-bottom: 20px;\">\n",
       "            <div style=\"width: 24px; height: 24px; background-color: #DBF5FF; border: 3px solid #4CC9FF; border-radius: 5px; position: absolute;\"> </div>\n",
       "            <div style=\"margin-left: 48px;\">\n",
       "            <details>\n",
       "                <summary>\n",
       "                    <h4 style=\"margin-bottom: 0px; display: inline;\">Worker: 2</h4>\n",
       "                </summary>\n",
       "                <table style=\"width: 100%; text-align: left;\">\n",
       "                    <tr>\n",
       "                        <td style=\"text-align: left;\">\n",
       "                            <strong>Comm: </strong> tcp://127.0.0.1:34541\n",
       "                        </td>\n",
       "                        <td style=\"text-align: left;\">\n",
       "                            <strong>Total threads: </strong> 1\n",
       "                        </td>\n",
       "                    </tr>\n",
       "                    <tr>\n",
       "                        <td style=\"text-align: left;\">\n",
       "                            <strong>Dashboard: </strong> <a href=\"/proxy/46261/status\" target=\"_blank\">/proxy/46261/status</a>\n",
       "                        </td>\n",
       "                        <td style=\"text-align: left;\">\n",
       "                            <strong>Memory: </strong> 4.50 GiB\n",
       "                        </td>\n",
       "                    </tr>\n",
       "                    <tr>\n",
       "                        <td style=\"text-align: left;\">\n",
       "                            <strong>Nanny: </strong> tcp://127.0.0.1:41459\n",
       "                        </td>\n",
       "                        <td style=\"text-align: left;\"></td>\n",
       "                    </tr>\n",
       "                    <tr>\n",
       "                        <td colspan=\"2\" style=\"text-align: left;\">\n",
       "                            <strong>Local directory: </strong> /jobfs/83682955.gadi-pbs/dask-worker-space/worker-_jhk__nd\n",
       "                        </td>\n",
       "                    </tr>\n",
       "\n",
       "                    \n",
       "\n",
       "                    \n",
       "\n",
       "                </table>\n",
       "            </details>\n",
       "            </div>\n",
       "        </div>\n",
       "        \n",
       "        <div style=\"margin-bottom: 20px;\">\n",
       "            <div style=\"width: 24px; height: 24px; background-color: #DBF5FF; border: 3px solid #4CC9FF; border-radius: 5px; position: absolute;\"> </div>\n",
       "            <div style=\"margin-left: 48px;\">\n",
       "            <details>\n",
       "                <summary>\n",
       "                    <h4 style=\"margin-bottom: 0px; display: inline;\">Worker: 3</h4>\n",
       "                </summary>\n",
       "                <table style=\"width: 100%; text-align: left;\">\n",
       "                    <tr>\n",
       "                        <td style=\"text-align: left;\">\n",
       "                            <strong>Comm: </strong> tcp://127.0.0.1:46055\n",
       "                        </td>\n",
       "                        <td style=\"text-align: left;\">\n",
       "                            <strong>Total threads: </strong> 1\n",
       "                        </td>\n",
       "                    </tr>\n",
       "                    <tr>\n",
       "                        <td style=\"text-align: left;\">\n",
       "                            <strong>Dashboard: </strong> <a href=\"/proxy/43863/status\" target=\"_blank\">/proxy/43863/status</a>\n",
       "                        </td>\n",
       "                        <td style=\"text-align: left;\">\n",
       "                            <strong>Memory: </strong> 4.50 GiB\n",
       "                        </td>\n",
       "                    </tr>\n",
       "                    <tr>\n",
       "                        <td style=\"text-align: left;\">\n",
       "                            <strong>Nanny: </strong> tcp://127.0.0.1:39637\n",
       "                        </td>\n",
       "                        <td style=\"text-align: left;\"></td>\n",
       "                    </tr>\n",
       "                    <tr>\n",
       "                        <td colspan=\"2\" style=\"text-align: left;\">\n",
       "                            <strong>Local directory: </strong> /jobfs/83682955.gadi-pbs/dask-worker-space/worker-s1nvllvq\n",
       "                        </td>\n",
       "                    </tr>\n",
       "\n",
       "                    \n",
       "\n",
       "                    \n",
       "\n",
       "                </table>\n",
       "            </details>\n",
       "            </div>\n",
       "        </div>\n",
       "        \n",
       "\n",
       "    </details>\n",
       "</div>\n",
       "\n",
       "        </details>\n",
       "    </div>\n",
       "</div>\n",
       "            </details>\n",
       "        \n",
       "\n",
       "    </div>\n",
       "</div>"
      ],
      "text/plain": [
       "<Client: 'tcp://127.0.0.1:37213' processes=4 threads=4, memory=18.00 GiB>"
      ]
     },
     "execution_count": 2,
     "metadata": {},
     "output_type": "execute_result"
    }
   ],
   "source": [
    "from dask.distributed import Client\n",
    "client = Client()\n",
    "client"
   ]
  },
  {
   "cell_type": "markdown",
   "id": "8935960c-d1ab-4b85-8bc4-e2b41de3e910",
   "metadata": {},
   "source": [
    "### ignore warnings"
   ]
  },
  {
   "cell_type": "code",
   "execution_count": 3,
   "id": "701040b6-201d-4bd9-be1d-2881778a7605",
   "metadata": {
    "tags": []
   },
   "outputs": [],
   "source": [
    "import warnings\n",
    "warnings.filterwarnings('ignore')"
   ]
  },
  {
   "cell_type": "markdown",
   "id": "58c8ee20-548e-43e8-9e69-65f2b3d07130",
   "metadata": {},
   "source": [
    "# Load individual catalogues"
   ]
  },
  {
   "cell_type": "code",
   "execution_count": 4,
   "id": "e354b101-d369-49ea-a6b5-bbbfe9576f14",
   "metadata": {
    "tags": []
   },
   "outputs": [
    {
     "data": {
      "text/html": [
       "<p><strong>ccam_noresm2-mm_historical_aus-10i_12km.csv catalog with 4 dataset(s) from 32960 asset(s)</strong>:</p> <div>\n",
       "<style scoped>\n",
       "    .dataframe tbody tr th:only-of-type {\n",
       "        vertical-align: middle;\n",
       "    }\n",
       "\n",
       "    .dataframe tbody tr th {\n",
       "        vertical-align: top;\n",
       "    }\n",
       "\n",
       "    .dataframe thead th {\n",
       "        text-align: right;\n",
       "    }\n",
       "</style>\n",
       "<table border=\"1\" class=\"dataframe\">\n",
       "  <thead>\n",
       "    <tr style=\"text-align: right;\">\n",
       "      <th></th>\n",
       "      <th>unique</th>\n",
       "    </tr>\n",
       "  </thead>\n",
       "  <tbody>\n",
       "    <tr>\n",
       "      <th>variable</th>\n",
       "      <td>176</td>\n",
       "    </tr>\n",
       "    <tr>\n",
       "      <th>domain</th>\n",
       "      <td>1</td>\n",
       "    </tr>\n",
       "    <tr>\n",
       "      <th>host_GCM</th>\n",
       "      <td>1</td>\n",
       "    </tr>\n",
       "    <tr>\n",
       "      <th>run_type</th>\n",
       "      <td>1</td>\n",
       "    </tr>\n",
       "    <tr>\n",
       "      <th>host_ensemble</th>\n",
       "      <td>1</td>\n",
       "    </tr>\n",
       "    <tr>\n",
       "      <th>downscale_model</th>\n",
       "      <td>1</td>\n",
       "    </tr>\n",
       "    <tr>\n",
       "      <th>downscale_version</th>\n",
       "      <td>1</td>\n",
       "    </tr>\n",
       "    <tr>\n",
       "      <th>period</th>\n",
       "      <td>4</td>\n",
       "    </tr>\n",
       "    <tr>\n",
       "      <th>time_period</th>\n",
       "      <td>4</td>\n",
       "    </tr>\n",
       "    <tr>\n",
       "      <th>path</th>\n",
       "      <td>32960</td>\n",
       "    </tr>\n",
       "    <tr>\n",
       "      <th>derived_variable</th>\n",
       "      <td>0</td>\n",
       "    </tr>\n",
       "  </tbody>\n",
       "</table>\n",
       "</div>"
      ],
      "text/plain": [
       "<IPython.core.display.HTML object>"
      ]
     },
     "metadata": {},
     "output_type": "display_data"
    }
   ],
   "source": [
    "data_catalog_hist = intake.open_esm_datastore('/g/data/v14/tm4888/code/ACS/data-catalogue/catalogues/nested_test/ccam_noresm2-mm_historical_aus-10i_12km/ccam_noresm2-mm_historical_aus-10i_12km.json')\n",
    "data_catalog_hist"
   ]
  },
  {
   "cell_type": "code",
   "execution_count": 5,
   "id": "ba382754-637b-4c2c-88a4-ce722436350d",
   "metadata": {
    "tags": []
   },
   "outputs": [
    {
     "data": {
      "text/html": [
       "<p><strong>ccam_noresm2-mm_ssp126_aus-10i_12km catalog with 4 dataset(s) from 43757 asset(s)</strong>:</p> <div>\n",
       "<style scoped>\n",
       "    .dataframe tbody tr th:only-of-type {\n",
       "        vertical-align: middle;\n",
       "    }\n",
       "\n",
       "    .dataframe tbody tr th {\n",
       "        vertical-align: top;\n",
       "    }\n",
       "\n",
       "    .dataframe thead th {\n",
       "        text-align: right;\n",
       "    }\n",
       "</style>\n",
       "<table border=\"1\" class=\"dataframe\">\n",
       "  <thead>\n",
       "    <tr style=\"text-align: right;\">\n",
       "      <th></th>\n",
       "      <th>unique</th>\n",
       "    </tr>\n",
       "  </thead>\n",
       "  <tbody>\n",
       "    <tr>\n",
       "      <th>variable</th>\n",
       "      <td>176</td>\n",
       "    </tr>\n",
       "    <tr>\n",
       "      <th>domain</th>\n",
       "      <td>1</td>\n",
       "    </tr>\n",
       "    <tr>\n",
       "      <th>host_GCM</th>\n",
       "      <td>1</td>\n",
       "    </tr>\n",
       "    <tr>\n",
       "      <th>run_type</th>\n",
       "      <td>1</td>\n",
       "    </tr>\n",
       "    <tr>\n",
       "      <th>host_ensemble</th>\n",
       "      <td>1</td>\n",
       "    </tr>\n",
       "    <tr>\n",
       "      <th>downscale_model</th>\n",
       "      <td>1</td>\n",
       "    </tr>\n",
       "    <tr>\n",
       "      <th>downscale_version</th>\n",
       "      <td>1</td>\n",
       "    </tr>\n",
       "    <tr>\n",
       "      <th>period</th>\n",
       "      <td>4</td>\n",
       "    </tr>\n",
       "    <tr>\n",
       "      <th>time_period</th>\n",
       "      <td>4</td>\n",
       "    </tr>\n",
       "    <tr>\n",
       "      <th>path</th>\n",
       "      <td>43757</td>\n",
       "    </tr>\n",
       "    <tr>\n",
       "      <th>derived_variable</th>\n",
       "      <td>0</td>\n",
       "    </tr>\n",
       "  </tbody>\n",
       "</table>\n",
       "</div>"
      ],
      "text/plain": [
       "<IPython.core.display.HTML object>"
      ]
     },
     "metadata": {},
     "output_type": "display_data"
    }
   ],
   "source": [
    "data_catalog_ssp126 = intake.open_esm_datastore('/g/data/v14/tm4888/code/ACS/data-catalogue/catalogues/nested_test/ccam_noresm2-mm_ssp126_aus-10i_12km/ccam_noresm2-mm_ssp126_aus-10i_12km.json')\n",
    "data_catalog_ssp126"
   ]
  },
  {
   "cell_type": "markdown",
   "id": "c3ac585b-2b88-476b-9a15-299880138c34",
   "metadata": {},
   "source": [
    "# initialise df_cat"
   ]
  },
  {
   "cell_type": "code",
   "execution_count": 6,
   "id": "914ebfb7-a609-49ff-abc7-1f9ff6831ea0",
   "metadata": {
    "tags": []
   },
   "outputs": [],
   "source": [
    "df_cat = intake.open_df_catalog(path=\"/g/data/v14/tm4888/code/ACS/data-catalogue/catalogues/root_df_catalog.csv\", mode=\"w\")"
   ]
  },
  {
   "cell_type": "markdown",
   "id": "573f14fa-d607-46fe-be93-25d3330d6b58",
   "metadata": {},
   "source": [
    "# add sources to df_cat"
   ]
  },
  {
   "cell_type": "code",
   "execution_count": 7,
   "id": "31c34371-bb8e-4b17-adfe-1155ca848da4",
   "metadata": {
    "tags": []
   },
   "outputs": [
    {
     "data": {
      "text/html": [
       "<p><strong>Intake dataframe catalog with 1 source(s) across 1 rows</strong>:</p> <div>\n",
       "<style scoped>\n",
       "    .dataframe tbody tr th:only-of-type {\n",
       "        vertical-align: middle;\n",
       "    }\n",
       "\n",
       "    .dataframe tbody tr th {\n",
       "        vertical-align: top;\n",
       "    }\n",
       "\n",
       "    .dataframe thead th {\n",
       "        text-align: right;\n",
       "    }\n",
       "</style>\n",
       "<table border=\"1\" class=\"dataframe\">\n",
       "  <thead>\n",
       "    <tr style=\"text-align: right;\">\n",
       "      <th></th>\n",
       "      <th>model</th>\n",
       "      <th>variable</th>\n",
       "    </tr>\n",
       "    <tr>\n",
       "      <th>name</th>\n",
       "      <th></th>\n",
       "      <th></th>\n",
       "    </tr>\n",
       "  </thead>\n",
       "  <tbody>\n",
       "    <tr>\n",
       "      <th>ccam_noresm2-mm_historical_aus-10i_12km</th>\n",
       "      <td>{ccam_noresm2-mm_historical_aus-10i_12km}</td>\n",
       "      <td>{ta400, zmla, wa20, zg300, ua850, snc, va20, rsus, ta700, va500, rlds, sfcWindmax, rlutcs, clh, tauv, zg400, ua300, ua100, wsgsmax, ts, psl, rlus, rsdsdir, mrfso, hus850, zg600, va850, zg1000, va1...</td>\n",
       "    </tr>\n",
       "  </tbody>\n",
       "</table>\n",
       "</div>"
      ],
      "text/plain": [
       "<IPython.core.display.HTML object>"
      ]
     },
     "metadata": {},
     "output_type": "display_data"
    }
   ],
   "source": [
    "data_catalog_hist.name = \"ccam_noresm2-mm_historical_aus-10i_12km\"\n",
    "model = \"ccam_noresm2-mm_historical_aus-10i_12km\"\n",
    "variables = list(\n",
    "    set(\n",
    "        data_catalog_hist.df.variable.unique().astype(str)\n",
    "    )\n",
    ")\n",
    "\n",
    "df_cat.add(\n",
    "    data_catalog_hist,\n",
    "    metadata={\"model\": model, \"variable\": variables}\n",
    ")\n",
    "\n",
    "df_cat"
   ]
  },
  {
   "cell_type": "code",
   "execution_count": 8,
   "id": "b5242508-03aa-4e3f-9f29-0a17bc207bbe",
   "metadata": {
    "tags": []
   },
   "outputs": [
    {
     "data": {
      "text/html": [
       "<p><strong>Intake dataframe catalog with 2 source(s) across 2 rows</strong>:</p> <div>\n",
       "<style scoped>\n",
       "    .dataframe tbody tr th:only-of-type {\n",
       "        vertical-align: middle;\n",
       "    }\n",
       "\n",
       "    .dataframe tbody tr th {\n",
       "        vertical-align: top;\n",
       "    }\n",
       "\n",
       "    .dataframe thead th {\n",
       "        text-align: right;\n",
       "    }\n",
       "</style>\n",
       "<table border=\"1\" class=\"dataframe\">\n",
       "  <thead>\n",
       "    <tr style=\"text-align: right;\">\n",
       "      <th></th>\n",
       "      <th>model</th>\n",
       "      <th>variable</th>\n",
       "    </tr>\n",
       "    <tr>\n",
       "      <th>name</th>\n",
       "      <th></th>\n",
       "      <th></th>\n",
       "    </tr>\n",
       "  </thead>\n",
       "  <tbody>\n",
       "    <tr>\n",
       "      <th>ccam_noresm2-mm_historical_aus-10i_12km</th>\n",
       "      <td>{ccam_noresm2-mm_historical_aus-10i_12km}</td>\n",
       "      <td>{ta400, zmla, wa20, zg300, ua850, snc, va20, rsus, ta700, va500, rlds, sfcWindmax, rlutcs, clh, tauv, zg400, ua300, ua100, wsgsmax, ts, psl, rlus, rsdsdir, mrfso, hus850, zg600, va850, zg1000, va1...</td>\n",
       "    </tr>\n",
       "    <tr>\n",
       "      <th>ccam_noresm2-mm_ssp126_aus-10i_12km</th>\n",
       "      <td>{ccam_noresm2-mm_ssp126_aus-10i_12km}</td>\n",
       "      <td>{ta400, zmla, wa20, zg300, ua850, snc, va20, rsus, ta700, va500, rlds, sfcWindmax, rlutcs, clh, tauv, zg400, ua300, ua100, wsgsmax, ts, psl, rlus, rsdsdir, mrfso, hus850, zg600, va850, zg1000, va1...</td>\n",
       "    </tr>\n",
       "  </tbody>\n",
       "</table>\n",
       "</div>"
      ],
      "text/plain": [
       "<IPython.core.display.HTML object>"
      ]
     },
     "metadata": {},
     "output_type": "display_data"
    }
   ],
   "source": [
    "data_catalog_ssp126.name = \"ccam_noresm2-mm_ssp126_aus-10i_12km\"\n",
    "model = \"ccam_noresm2-mm_ssp126_aus-10i_12km\"\n",
    "variables = list(\n",
    "    set(\n",
    "        data_catalog_hist.df.variable.unique().astype(str)\n",
    "    )\n",
    ")\n",
    "\n",
    "df_cat.add(\n",
    "    data_catalog_ssp126,\n",
    "    metadata={\"model\": model, \"variable\": variables}\n",
    ")\n",
    "\n",
    "df_cat"
   ]
  },
  {
   "cell_type": "markdown",
   "id": "65443344-ad3f-4d37-acfa-c8b9bc292225",
   "metadata": {},
   "source": [
    "# save the df_cat"
   ]
  },
  {
   "cell_type": "code",
   "execution_count": 9,
   "id": "8fac3694-81ff-4122-b667-dcf38a624af7",
   "metadata": {
    "tags": []
   },
   "outputs": [],
   "source": [
    "df_cat.save()"
   ]
  },
  {
   "cell_type": "markdown",
   "id": "3a48e176-db1f-464b-bf2f-f610cc7b5b14",
   "metadata": {},
   "source": [
    "# can we now make use of this df_cat?"
   ]
  },
  {
   "cell_type": "code",
   "execution_count": 10,
   "id": "9e01838a-9168-4e9f-8c15-b77e719b7832",
   "metadata": {
    "tags": []
   },
   "outputs": [],
   "source": [
    "df_cat = intake.open_df_catalog(\n",
    "    path=\"/g/data/v14/tm4888/code/ACS/data-catalogue/catalogues/root_df_catalog.csv\",\n",
    "    columns_with_iterables=[\"variable\"],\n",
    ")"
   ]
  },
  {
   "cell_type": "code",
   "execution_count": 11,
   "id": "d43543a9-cfab-4611-8c3c-f0907207c4c9",
   "metadata": {
    "tags": []
   },
   "outputs": [
    {
     "data": {
      "text/html": [
       "<p><strong>Intake dataframe catalog with 2 source(s) across 2 rows</strong>:</p> <div>\n",
       "<style scoped>\n",
       "    .dataframe tbody tr th:only-of-type {\n",
       "        vertical-align: middle;\n",
       "    }\n",
       "\n",
       "    .dataframe tbody tr th {\n",
       "        vertical-align: top;\n",
       "    }\n",
       "\n",
       "    .dataframe thead th {\n",
       "        text-align: right;\n",
       "    }\n",
       "</style>\n",
       "<table border=\"1\" class=\"dataframe\">\n",
       "  <thead>\n",
       "    <tr style=\"text-align: right;\">\n",
       "      <th></th>\n",
       "      <th>model</th>\n",
       "      <th>variable</th>\n",
       "    </tr>\n",
       "    <tr>\n",
       "      <th>name</th>\n",
       "      <th></th>\n",
       "      <th></th>\n",
       "    </tr>\n",
       "  </thead>\n",
       "  <tbody>\n",
       "    <tr>\n",
       "      <th>ccam_noresm2-mm_historical_aus-10i_12km</th>\n",
       "      <td>{ccam_noresm2-mm_historical_aus-10i_12km}</td>\n",
       "      <td>{ta400, zmla, wa20, zg300, ua850, snc, va20, rsus, ta700, va500, rlds, sfcWindmax, rlutcs, clh, tauv, zg400, ua300, ua100, wsgsmax, ts, psl, rlus, rsdsdir, mrfso, hus850, zg600, va850, zg1000, va1...</td>\n",
       "    </tr>\n",
       "    <tr>\n",
       "      <th>ccam_noresm2-mm_ssp126_aus-10i_12km</th>\n",
       "      <td>{ccam_noresm2-mm_ssp126_aus-10i_12km}</td>\n",
       "      <td>{ta400, zmla, wa20, zg300, ua850, snc, va20, rsus, ta700, va500, rlds, sfcWindmax, rlutcs, clh, tauv, zg400, ua300, ua100, wsgsmax, ts, psl, rlus, rsdsdir, mrfso, hus850, zg600, va850, zg1000, va1...</td>\n",
       "    </tr>\n",
       "  </tbody>\n",
       "</table>\n",
       "</div>"
      ],
      "text/plain": [
       "<IPython.core.display.HTML object>"
      ]
     },
     "metadata": {},
     "output_type": "display_data"
    }
   ],
   "source": [
    "df_cat"
   ]
  },
  {
   "cell_type": "code",
   "execution_count": 12,
   "id": "6c407e0b-0a61-4078-b717-acf604b2ac97",
   "metadata": {
    "tags": []
   },
   "outputs": [
    {
     "data": {
      "text/plain": [
       "{'ccam_noresm2-mm_historical_aus-10i_12km': <ccam_noresm2-mm_historical_aus-10i_12km.csv catalog with 4 dataset(s) from 32960 asset(s)>,\n",
       " 'ccam_noresm2-mm_ssp126_aus-10i_12km': <ccam_noresm2-mm_ssp126_aus-10i_12km catalog with 4 dataset(s) from 43757 asset(s)>}"
      ]
     },
     "execution_count": 12,
     "metadata": {},
     "output_type": "execute_result"
    }
   ],
   "source": [
    "source_dict = df_cat.to_source_dict()\n",
    "\n",
    "source_dict"
   ]
  },
  {
   "cell_type": "markdown",
   "id": "42dc9053-bdd1-48dc-9ea5-dd3c86cfb7d5",
   "metadata": {},
   "source": [
    "# find all variables with \"tas\" via `regex`"
   ]
  },
  {
   "cell_type": "code",
   "execution_count": 13,
   "id": "60074be0-d16b-43a9-9719-34504cdd0882",
   "metadata": {
    "tags": []
   },
   "outputs": [
    {
     "data": {
      "text/html": [
       "<p><strong>Intake dataframe catalog with 2 source(s) across 2 rows</strong>:</p> <div>\n",
       "<style scoped>\n",
       "    .dataframe tbody tr th:only-of-type {\n",
       "        vertical-align: middle;\n",
       "    }\n",
       "\n",
       "    .dataframe tbody tr th {\n",
       "        vertical-align: top;\n",
       "    }\n",
       "\n",
       "    .dataframe thead th {\n",
       "        text-align: right;\n",
       "    }\n",
       "</style>\n",
       "<table border=\"1\" class=\"dataframe\">\n",
       "  <thead>\n",
       "    <tr style=\"text-align: right;\">\n",
       "      <th></th>\n",
       "      <th>model</th>\n",
       "      <th>variable</th>\n",
       "    </tr>\n",
       "    <tr>\n",
       "      <th>name</th>\n",
       "      <th></th>\n",
       "      <th></th>\n",
       "    </tr>\n",
       "  </thead>\n",
       "  <tbody>\n",
       "    <tr>\n",
       "      <th>ccam_noresm2-mm_historical_aus-10i_12km</th>\n",
       "      <td>{ccam_noresm2-mm_historical_aus-10i_12km}</td>\n",
       "      <td>{tasmin, tas, tasmax}</td>\n",
       "    </tr>\n",
       "    <tr>\n",
       "      <th>ccam_noresm2-mm_ssp126_aus-10i_12km</th>\n",
       "      <td>{ccam_noresm2-mm_ssp126_aus-10i_12km}</td>\n",
       "      <td>{tasmin, tas, tasmax}</td>\n",
       "    </tr>\n",
       "  </tbody>\n",
       "</table>\n",
       "</div>"
      ],
      "text/plain": [
       "<IPython.core.display.HTML object>"
      ]
     },
     "metadata": {},
     "output_type": "display_data"
    }
   ],
   "source": [
    "tas_cat = df_cat.search(variable=\".*tas.*\")\n",
    "tas_cat"
   ]
  },
  {
   "cell_type": "code",
   "execution_count": 14,
   "id": "0e3c4b52-a537-46cd-ac50-3bd6226da683",
   "metadata": {
    "tags": []
   },
   "outputs": [
    {
     "data": {
      "text/html": [
       "<p><strong>Intake dataframe catalog with 1 source(s) across 1 rows</strong>:</p> <div>\n",
       "<style scoped>\n",
       "    .dataframe tbody tr th:only-of-type {\n",
       "        vertical-align: middle;\n",
       "    }\n",
       "\n",
       "    .dataframe tbody tr th {\n",
       "        vertical-align: top;\n",
       "    }\n",
       "\n",
       "    .dataframe thead th {\n",
       "        text-align: right;\n",
       "    }\n",
       "</style>\n",
       "<table border=\"1\" class=\"dataframe\">\n",
       "  <thead>\n",
       "    <tr style=\"text-align: right;\">\n",
       "      <th></th>\n",
       "      <th>model</th>\n",
       "      <th>variable</th>\n",
       "    </tr>\n",
       "    <tr>\n",
       "      <th>name</th>\n",
       "      <th></th>\n",
       "      <th></th>\n",
       "    </tr>\n",
       "  </thead>\n",
       "  <tbody>\n",
       "    <tr>\n",
       "      <th>ccam_noresm2-mm_historical_aus-10i_12km</th>\n",
       "      <td>{ccam_noresm2-mm_historical_aus-10i_12km}</td>\n",
       "      <td>{tasmax}</td>\n",
       "    </tr>\n",
       "  </tbody>\n",
       "</table>\n",
       "</div>"
      ],
      "text/plain": [
       "<IPython.core.display.HTML object>"
      ]
     },
     "metadata": {},
     "output_type": "display_data"
    }
   ],
   "source": [
    "tas_hist_cat = df_cat.search(variable=\"tasmax\",model=\"ccam_noresm2-mm_historical_aus-10i_12km\")\n",
    "tas_hist_cat"
   ]
  },
  {
   "cell_type": "code",
   "execution_count": 15,
   "id": "8ba3cfa8-580e-4dbc-b452-8e5a8051f20c",
   "metadata": {
    "tags": []
   },
   "outputs": [
    {
     "data": {
      "text/html": [
       "<div>\n",
       "<style scoped>\n",
       "    .dataframe tbody tr th:only-of-type {\n",
       "        vertical-align: middle;\n",
       "    }\n",
       "\n",
       "    .dataframe tbody tr th {\n",
       "        vertical-align: top;\n",
       "    }\n",
       "\n",
       "    .dataframe thead th {\n",
       "        text-align: right;\n",
       "    }\n",
       "</style>\n",
       "<table border=\"1\" class=\"dataframe\">\n",
       "  <thead>\n",
       "    <tr style=\"text-align: right;\">\n",
       "      <th></th>\n",
       "      <th>model</th>\n",
       "      <th>variable</th>\n",
       "      <th>name</th>\n",
       "      <th>yaml</th>\n",
       "    </tr>\n",
       "  </thead>\n",
       "  <tbody>\n",
       "    <tr>\n",
       "      <th>0</th>\n",
       "      <td>ccam_noresm2-mm_historical_aus-10i_12km</td>\n",
       "      <td>[tasmax]</td>\n",
       "      <td>ccam_noresm2-mm_historical_aus-10i_12km</td>\n",
       "      <td>sources:\\n  ccam_noresm2-mm_historical_aus-10i_12km:\\n    args:\\n      obj: /g/data/v14/tm4888/code/ACS/data-catalogue/catalogues/nested_test/ccam_noresm2-mm_historical_aus-10i_12km/ccam_noresm2-m...</td>\n",
       "    </tr>\n",
       "  </tbody>\n",
       "</table>\n",
       "</div>"
      ],
      "text/plain": [
       "                                     model  variable  \\\n",
       "0  ccam_noresm2-mm_historical_aus-10i_12km  [tasmax]   \n",
       "\n",
       "                                      name  \\\n",
       "0  ccam_noresm2-mm_historical_aus-10i_12km   \n",
       "\n",
       "                                                                                                                                                                                                      yaml  \n",
       "0  sources:\\n  ccam_noresm2-mm_historical_aus-10i_12km:\\n    args:\\n      obj: /g/data/v14/tm4888/code/ACS/data-catalogue/catalogues/nested_test/ccam_noresm2-mm_historical_aus-10i_12km/ccam_noresm2-m...  "
      ]
     },
     "execution_count": 15,
     "metadata": {},
     "output_type": "execute_result"
    }
   ],
   "source": [
    "tas_hist_cat.df"
   ]
  },
  {
   "cell_type": "code",
   "execution_count": 16,
   "id": "90f851ad-b0a6-4246-ba0d-3a2000cce6ee",
   "metadata": {
    "tags": []
   },
   "outputs": [
    {
     "data": {
      "text/html": [
       "<p><strong>ccam_noresm2-mm_historical_aus-10i_12km.csv catalog with 4 dataset(s) from 32960 asset(s)</strong>:</p> <div>\n",
       "<style scoped>\n",
       "    .dataframe tbody tr th:only-of-type {\n",
       "        vertical-align: middle;\n",
       "    }\n",
       "\n",
       "    .dataframe tbody tr th {\n",
       "        vertical-align: top;\n",
       "    }\n",
       "\n",
       "    .dataframe thead th {\n",
       "        text-align: right;\n",
       "    }\n",
       "</style>\n",
       "<table border=\"1\" class=\"dataframe\">\n",
       "  <thead>\n",
       "    <tr style=\"text-align: right;\">\n",
       "      <th></th>\n",
       "      <th>unique</th>\n",
       "    </tr>\n",
       "  </thead>\n",
       "  <tbody>\n",
       "    <tr>\n",
       "      <th>variable</th>\n",
       "      <td>176</td>\n",
       "    </tr>\n",
       "    <tr>\n",
       "      <th>domain</th>\n",
       "      <td>1</td>\n",
       "    </tr>\n",
       "    <tr>\n",
       "      <th>host_GCM</th>\n",
       "      <td>1</td>\n",
       "    </tr>\n",
       "    <tr>\n",
       "      <th>run_type</th>\n",
       "      <td>1</td>\n",
       "    </tr>\n",
       "    <tr>\n",
       "      <th>...</th>\n",
       "      <td>...</td>\n",
       "    </tr>\n",
       "    <tr>\n",
       "      <th>period</th>\n",
       "      <td>4</td>\n",
       "    </tr>\n",
       "    <tr>\n",
       "      <th>time_period</th>\n",
       "      <td>4</td>\n",
       "    </tr>\n",
       "    <tr>\n",
       "      <th>path</th>\n",
       "      <td>32960</td>\n",
       "    </tr>\n",
       "    <tr>\n",
       "      <th>derived_variable</th>\n",
       "      <td>0</td>\n",
       "    </tr>\n",
       "  </tbody>\n",
       "</table>\n",
       "<p>11 rows × 1 columns</p>\n",
       "</div>"
      ],
      "text/plain": [
       "<IPython.core.display.HTML object>"
      ]
     },
     "metadata": {},
     "output_type": "display_data"
    }
   ],
   "source": [
    "tas_hist_cat.to_source()"
   ]
  },
  {
   "cell_type": "code",
   "execution_count": 17,
   "id": "1a53d8fc-0d27-4694-8789-c8ef001567e8",
   "metadata": {
    "tags": []
   },
   "outputs": [
    {
     "name": "stdout",
     "output_type": "stream",
     "text": [
      "\n",
      "--> The keys in the returned dictionary of datasets are constructed as follows:\n",
      "\t'domain.host_GCM.run_type.host_ensemble.downscale_model.downscale_version.period'\n"
     ]
    },
    {
     "data": {
      "text/html": [
       "\n",
       "<style>\n",
       "    /* Turns off some styling */\n",
       "    progress {\n",
       "        /* gets rid of default border in Firefox and Opera. */\n",
       "        border: none;\n",
       "        /* Needs to be in here for Safari polyfill so background images work as expected. */\n",
       "        background-size: auto;\n",
       "    }\n",
       "    progress:not([value]), progress:not([value])::-webkit-progress-bar {\n",
       "        background: repeating-linear-gradient(45deg, #7e7e7e, #7e7e7e 10px, #5c5c5c 10px, #5c5c5c 20px);\n",
       "    }\n",
       "    .progress-bar-interrupted, .progress-bar-interrupted::-webkit-progress-bar {\n",
       "        background: #F44336;\n",
       "    }\n",
       "</style>\n"
      ],
      "text/plain": [
       "<IPython.core.display.HTML object>"
      ]
     },
     "metadata": {},
     "output_type": "display_data"
    },
    {
     "data": {
      "text/html": [
       "\n",
       "    <div>\n",
       "      <progress value='0' class='' max='4' style='width:300px; height:20px; vertical-align: middle;'></progress>\n",
       "      0.00% [0/4 00:00&lt;?]\n",
       "    </div>\n",
       "    "
      ],
      "text/plain": [
       "<IPython.core.display.HTML object>"
      ]
     },
     "metadata": {},
     "output_type": "display_data"
    },
    {
     "name": "stderr",
     "output_type": "stream",
     "text": [
      "Process Dask Worker process (from Nanny):\n",
      "Process Dask Worker process (from Nanny):\n",
      "Process Dask Worker process (from Nanny):\n",
      "Process Dask Worker process (from Nanny):\n",
      "2023-05-15 14:56:08,396 - distributed.nanny - ERROR - Worker process died unexpectedly\n",
      "Traceback (most recent call last):\n",
      "  File \"/g/data/v14/tm4888/miniconda3/envs/intake-stable-ecgtools/lib/python3.10/site-packages/distributed/nanny.py\", line 986, in _run\n",
      "    asyncio.run(run())\n",
      "  File \"/g/data/v14/tm4888/miniconda3/envs/intake-stable-ecgtools/lib/python3.10/asyncio/runners.py\", line 44, in run\n",
      "    return loop.run_until_complete(main)\n",
      "  File \"/g/data/v14/tm4888/miniconda3/envs/intake-stable-ecgtools/lib/python3.10/asyncio/base_events.py\", line 636, in run_until_complete\n",
      "    self.run_forever()\n",
      "  File \"/g/data/v14/tm4888/miniconda3/envs/intake-stable-ecgtools/lib/python3.10/asyncio/base_events.py\", line 603, in run_forever\n",
      "    self._run_once()\n",
      "  File \"/g/data/v14/tm4888/miniconda3/envs/intake-stable-ecgtools/lib/python3.10/asyncio/base_events.py\", line 1868, in _run_once\n",
      "    event_list = self._selector.select(timeout)\n",
      "  File \"/g/data/v14/tm4888/miniconda3/envs/intake-stable-ecgtools/lib/python3.10/selectors.py\", line 469, in select\n",
      "    fd_event_list = self._selector.poll(timeout, max_ev)\n",
      "KeyboardInterrupt\n",
      "\n",
      "During handling of the above exception, another exception occurred:\n",
      "\n",
      "Traceback (most recent call last):\n",
      "  File \"/g/data/v14/tm4888/miniconda3/envs/intake-stable-ecgtools/lib/python3.10/multiprocessing/process.py\", line 314, in _bootstrap\n",
      "    self.run()\n",
      "  File \"/g/data/v14/tm4888/miniconda3/envs/intake-stable-ecgtools/lib/python3.10/multiprocessing/process.py\", line 108, in run\n",
      "    self._target(*self._args, **self._kwargs)\n",
      "  File \"/g/data/v14/tm4888/miniconda3/envs/intake-stable-ecgtools/lib/python3.10/site-packages/distributed/process.py\", line 190, in _run\n",
      "    target(*args, **kwargs)\n",
      "  File \"/g/data/v14/tm4888/miniconda3/envs/intake-stable-ecgtools/lib/python3.10/site-packages/distributed/nanny.py\", line 960, in _run\n",
      "    with contextlib.ExitStack() as stack:\n",
      "  File \"/g/data/v14/tm4888/miniconda3/envs/intake-stable-ecgtools/lib/python3.10/contextlib.py\", line 576, in __exit__\n",
      "    raise exc_details[1]\n",
      "  File \"/g/data/v14/tm4888/miniconda3/envs/intake-stable-ecgtools/lib/python3.10/contextlib.py\", line 561, in __exit__\n",
      "    if cb(*exc_details):\n",
      "  File \"/g/data/v14/tm4888/miniconda3/envs/intake-stable-ecgtools/lib/python3.10/contextlib.py\", line 449, in _exit_wrapper\n",
      "    callback(*args, **kwds)\n",
      "  File \"/g/data/v14/tm4888/miniconda3/envs/intake-stable-ecgtools/lib/python3.10/threading.py\", line 1100, in join\n",
      "    self._wait_for_tstate_lock(timeout=max(timeout, 0))\n",
      "  File \"/g/data/v14/tm4888/miniconda3/envs/intake-stable-ecgtools/lib/python3.10/threading.py\", line 1116, in _wait_for_tstate_lock\n",
      "    if lock.acquire(block, timeout):\n",
      "KeyboardInterrupt\n",
      "Traceback (most recent call last):\n",
      "  File \"/g/data/v14/tm4888/miniconda3/envs/intake-stable-ecgtools/lib/python3.10/site-packages/distributed/nanny.py\", line 986, in _run\n",
      "    asyncio.run(run())\n",
      "  File \"/g/data/v14/tm4888/miniconda3/envs/intake-stable-ecgtools/lib/python3.10/asyncio/runners.py\", line 44, in run\n",
      "    return loop.run_until_complete(main)\n",
      "  File \"/g/data/v14/tm4888/miniconda3/envs/intake-stable-ecgtools/lib/python3.10/asyncio/base_events.py\", line 636, in run_until_complete\n",
      "    self.run_forever()\n",
      "  File \"/g/data/v14/tm4888/miniconda3/envs/intake-stable-ecgtools/lib/python3.10/asyncio/base_events.py\", line 603, in run_forever\n",
      "    self._run_once()\n",
      "  File \"/g/data/v14/tm4888/miniconda3/envs/intake-stable-ecgtools/lib/python3.10/asyncio/base_events.py\", line 1868, in _run_once\n",
      "    event_list = self._selector.select(timeout)\n",
      "  File \"/g/data/v14/tm4888/miniconda3/envs/intake-stable-ecgtools/lib/python3.10/selectors.py\", line 469, in select\n",
      "    fd_event_list = self._selector.poll(timeout, max_ev)\n",
      "KeyboardInterrupt\n",
      "\n",
      "During handling of the above exception, another exception occurred:\n",
      "\n",
      "Traceback (most recent call last):\n",
      "  File \"/g/data/v14/tm4888/miniconda3/envs/intake-stable-ecgtools/lib/python3.10/multiprocessing/process.py\", line 314, in _bootstrap\n",
      "    self.run()\n",
      "  File \"/g/data/v14/tm4888/miniconda3/envs/intake-stable-ecgtools/lib/python3.10/multiprocessing/process.py\", line 108, in run\n",
      "    self._target(*self._args, **self._kwargs)\n",
      "  File \"/g/data/v14/tm4888/miniconda3/envs/intake-stable-ecgtools/lib/python3.10/site-packages/distributed/process.py\", line 190, in _run\n",
      "    target(*args, **kwargs)\n",
      "  File \"/g/data/v14/tm4888/miniconda3/envs/intake-stable-ecgtools/lib/python3.10/site-packages/distributed/nanny.py\", line 960, in _run\n",
      "    with contextlib.ExitStack() as stack:\n",
      "  File \"/g/data/v14/tm4888/miniconda3/envs/intake-stable-ecgtools/lib/python3.10/contextlib.py\", line 576, in __exit__\n",
      "    raise exc_details[1]\n",
      "  File \"/g/data/v14/tm4888/miniconda3/envs/intake-stable-ecgtools/lib/python3.10/contextlib.py\", line 561, in __exit__\n",
      "    if cb(*exc_details):\n",
      "  File \"/g/data/v14/tm4888/miniconda3/envs/intake-stable-ecgtools/lib/python3.10/contextlib.py\", line 449, in _exit_wrapper\n",
      "    callback(*args, **kwds)\n",
      "  File \"/g/data/v14/tm4888/miniconda3/envs/intake-stable-ecgtools/lib/python3.10/threading.py\", line 1100, in join\n",
      "    self._wait_for_tstate_lock(timeout=max(timeout, 0))\n",
      "  File \"/g/data/v14/tm4888/miniconda3/envs/intake-stable-ecgtools/lib/python3.10/threading.py\", line 1116, in _wait_for_tstate_lock\n",
      "    if lock.acquire(block, timeout):\n",
      "KeyboardInterrupt\n",
      "Traceback (most recent call last):\n",
      "  File \"/g/data/v14/tm4888/miniconda3/envs/intake-stable-ecgtools/lib/python3.10/site-packages/distributed/nanny.py\", line 986, in _run\n",
      "    asyncio.run(run())\n",
      "  File \"/g/data/v14/tm4888/miniconda3/envs/intake-stable-ecgtools/lib/python3.10/asyncio/runners.py\", line 44, in run\n",
      "    return loop.run_until_complete(main)\n",
      "  File \"/g/data/v14/tm4888/miniconda3/envs/intake-stable-ecgtools/lib/python3.10/asyncio/base_events.py\", line 636, in run_until_complete\n",
      "    self.run_forever()\n",
      "  File \"/g/data/v14/tm4888/miniconda3/envs/intake-stable-ecgtools/lib/python3.10/asyncio/base_events.py\", line 603, in run_forever\n",
      "    self._run_once()\n",
      "  File \"/g/data/v14/tm4888/miniconda3/envs/intake-stable-ecgtools/lib/python3.10/asyncio/base_events.py\", line 1868, in _run_once\n",
      "    event_list = self._selector.select(timeout)\n",
      "  File \"/g/data/v14/tm4888/miniconda3/envs/intake-stable-ecgtools/lib/python3.10/selectors.py\", line 469, in select\n",
      "    fd_event_list = self._selector.poll(timeout, max_ev)\n",
      "KeyboardInterrupt\n",
      "\n",
      "During handling of the above exception, another exception occurred:\n",
      "\n",
      "Traceback (most recent call last):\n",
      "  File \"/g/data/v14/tm4888/miniconda3/envs/intake-stable-ecgtools/lib/python3.10/multiprocessing/process.py\", line 314, in _bootstrap\n",
      "    self.run()\n",
      "  File \"/g/data/v14/tm4888/miniconda3/envs/intake-stable-ecgtools/lib/python3.10/multiprocessing/process.py\", line 108, in run\n",
      "    self._target(*self._args, **self._kwargs)\n",
      "  File \"/g/data/v14/tm4888/miniconda3/envs/intake-stable-ecgtools/lib/python3.10/site-packages/distributed/process.py\", line 190, in _run\n",
      "    target(*args, **kwargs)\n",
      "  File \"/g/data/v14/tm4888/miniconda3/envs/intake-stable-ecgtools/lib/python3.10/site-packages/distributed/nanny.py\", line 960, in _run\n",
      "    with contextlib.ExitStack() as stack:\n",
      "  File \"/g/data/v14/tm4888/miniconda3/envs/intake-stable-ecgtools/lib/python3.10/contextlib.py\", line 576, in __exit__\n",
      "    raise exc_details[1]\n",
      "  File \"/g/data/v14/tm4888/miniconda3/envs/intake-stable-ecgtools/lib/python3.10/contextlib.py\", line 561, in __exit__\n",
      "    if cb(*exc_details):\n",
      "  File \"/g/data/v14/tm4888/miniconda3/envs/intake-stable-ecgtools/lib/python3.10/contextlib.py\", line 449, in _exit_wrapper\n",
      "    callback(*args, **kwds)\n",
      "  File \"/g/data/v14/tm4888/miniconda3/envs/intake-stable-ecgtools/lib/python3.10/threading.py\", line 1100, in join\n",
      "    self._wait_for_tstate_lock(timeout=max(timeout, 0))\n",
      "  File \"/g/data/v14/tm4888/miniconda3/envs/intake-stable-ecgtools/lib/python3.10/threading.py\", line 1116, in _wait_for_tstate_lock\n",
      "    if lock.acquire(block, timeout):\n",
      "KeyboardInterrupt\n",
      "Traceback (most recent call last):\n",
      "  File \"/g/data/v14/tm4888/miniconda3/envs/intake-stable-ecgtools/lib/python3.10/site-packages/distributed/nanny.py\", line 986, in _run\n",
      "    asyncio.run(run())\n",
      "  File \"/g/data/v14/tm4888/miniconda3/envs/intake-stable-ecgtools/lib/python3.10/asyncio/runners.py\", line 44, in run\n",
      "    return loop.run_until_complete(main)\n",
      "  File \"/g/data/v14/tm4888/miniconda3/envs/intake-stable-ecgtools/lib/python3.10/asyncio/base_events.py\", line 636, in run_until_complete\n",
      "    self.run_forever()\n",
      "  File \"/g/data/v14/tm4888/miniconda3/envs/intake-stable-ecgtools/lib/python3.10/asyncio/base_events.py\", line 603, in run_forever\n",
      "    self._run_once()\n",
      "  File \"/g/data/v14/tm4888/miniconda3/envs/intake-stable-ecgtools/lib/python3.10/asyncio/base_events.py\", line 1868, in _run_once\n",
      "    event_list = self._selector.select(timeout)\n",
      "  File \"/g/data/v14/tm4888/miniconda3/envs/intake-stable-ecgtools/lib/python3.10/selectors.py\", line 469, in select\n",
      "    fd_event_list = self._selector.poll(timeout, max_ev)\n",
      "KeyboardInterrupt\n",
      "\n",
      "During handling of the above exception, another exception occurred:\n",
      "\n",
      "Traceback (most recent call last):\n",
      "  File \"/g/data/v14/tm4888/miniconda3/envs/intake-stable-ecgtools/lib/python3.10/multiprocessing/process.py\", line 314, in _bootstrap\n",
      "    self.run()\n",
      "  File \"/g/data/v14/tm4888/miniconda3/envs/intake-stable-ecgtools/lib/python3.10/multiprocessing/process.py\", line 108, in run\n",
      "    self._target(*self._args, **self._kwargs)\n",
      "  File \"/g/data/v14/tm4888/miniconda3/envs/intake-stable-ecgtools/lib/python3.10/site-packages/distributed/process.py\", line 190, in _run\n",
      "    target(*args, **kwargs)\n",
      "  File \"/g/data/v14/tm4888/miniconda3/envs/intake-stable-ecgtools/lib/python3.10/site-packages/distributed/nanny.py\", line 960, in _run\n",
      "    with contextlib.ExitStack() as stack:\n",
      "  File \"/g/data/v14/tm4888/miniconda3/envs/intake-stable-ecgtools/lib/python3.10/contextlib.py\", line 576, in __exit__\n",
      "    raise exc_details[1]\n",
      "  File \"/g/data/v14/tm4888/miniconda3/envs/intake-stable-ecgtools/lib/python3.10/contextlib.py\", line 561, in __exit__\n",
      "    if cb(*exc_details):\n",
      "  File \"/g/data/v14/tm4888/miniconda3/envs/intake-stable-ecgtools/lib/python3.10/contextlib.py\", line 449, in _exit_wrapper\n",
      "    callback(*args, **kwds)\n",
      "  File \"/g/data/v14/tm4888/miniconda3/envs/intake-stable-ecgtools/lib/python3.10/threading.py\", line 1100, in join\n",
      "    self._wait_for_tstate_lock(timeout=max(timeout, 0))\n",
      "  File \"/g/data/v14/tm4888/miniconda3/envs/intake-stable-ecgtools/lib/python3.10/threading.py\", line 1116, in _wait_for_tstate_lock\n",
      "    if lock.acquire(block, timeout):\n",
      "KeyboardInterrupt\n",
      "\n",
      "KeyboardInterrupt\n",
      "\n"
     ]
    }
   ],
   "source": [
    "%%time\n",
    "DS_dict = tas_hist_cat.to_source().to_dataset_dict()\n",
    "DS_dict"
   ]
  },
  {
   "cell_type": "code",
   "execution_count": null,
   "id": "b2360528-153e-4f82-a93f-1c75e598a0b6",
   "metadata": {},
   "outputs": [],
   "source": []
  },
  {
   "cell_type": "code",
   "execution_count": null,
   "id": "3910ac01-b1ea-47c3-8fe9-45bb6246dcac",
   "metadata": {
    "tags": []
   },
   "outputs": [],
   "source": [
    "tas_cat_source_dict = tas_cat.to_source_dict()\n",
    "tas_cat_source_dict"
   ]
  },
  {
   "cell_type": "code",
   "execution_count": null,
   "id": "b31a3752-bf84-4a06-92bb-ee3a8ba81831",
   "metadata": {
    "tags": []
   },
   "outputs": [],
   "source": [
    "tas_cat_source_dict['ccam_noresm2-mm_historical_aus-10i_12km'].to_dataset_dict()"
   ]
  },
  {
   "cell_type": "code",
   "execution_count": null,
   "id": "470e992f-ce0c-48e3-8551-773332be1b15",
   "metadata": {},
   "outputs": [],
   "source": []
  },
  {
   "cell_type": "code",
   "execution_count": null,
   "id": "5ddec788-10e6-4deb-bd5f-90027fa9866f",
   "metadata": {},
   "outputs": [],
   "source": []
  },
  {
   "cell_type": "code",
   "execution_count": null,
   "id": "d536c08d-6cc0-442e-9324-7fc5d82832f6",
   "metadata": {},
   "outputs": [],
   "source": []
  },
  {
   "cell_type": "markdown",
   "id": "2ade5c55-3df7-4f83-8646-2e1ffd7c9c86",
   "metadata": {},
   "source": [
    "# load monthly surface air temperature for both historical and ssp126"
   ]
  },
  {
   "cell_type": "code",
   "execution_count": null,
   "id": "42b5852a-8396-45a8-a36e-18a8155d6045",
   "metadata": {
    "tags": []
   },
   "outputs": [],
   "source": [
    "TAS_month_hist = data_catalog_hist.search(variable=['tas'],period='mon')\n",
    "TAS_month_ssp126 = data_catalog_ssp126.search(variable=['tas'],period='mon')"
   ]
  },
  {
   "cell_type": "code",
   "execution_count": null,
   "id": "b5c9fe53-d0c2-4121-a9ae-c1871e63f754",
   "metadata": {
    "tags": []
   },
   "outputs": [],
   "source": [
    "DS_dict_hist = TAS_month_hist.to_dataset_dict()"
   ]
  },
  {
   "cell_type": "code",
   "execution_count": null,
   "id": "d990b417-53d6-4bf3-888e-21156a21ea7e",
   "metadata": {
    "tags": []
   },
   "outputs": [],
   "source": [
    "DS_dict_ssp126 = TAS_month_ssp126.to_dataset_dict()"
   ]
  },
  {
   "cell_type": "code",
   "execution_count": null,
   "id": "4b8c2e58-9a77-431e-9808-2e3c88e6e50d",
   "metadata": {
    "tags": []
   },
   "outputs": [],
   "source": [
    "ssp126_keys = list(DS_dict_ssp126.keys())\n",
    "hist_keys = list(DS_dict_hist.keys())"
   ]
  },
  {
   "cell_type": "code",
   "execution_count": null,
   "id": "f133fb06-279d-4544-9c70-51eef4a02ab0",
   "metadata": {
    "tags": []
   },
   "outputs": [],
   "source": [
    "ssp126_keys"
   ]
  },
  {
   "cell_type": "code",
   "execution_count": null,
   "id": "228b671b-fcec-4b3d-b2bc-3dec3e9953f7",
   "metadata": {
    "tags": []
   },
   "outputs": [],
   "source": [
    "DS_ssp126 = DS_dict_ssp126[ssp126_keys[0]]\n",
    "DS_hist = DS_dict_hist[hist_keys[0]]"
   ]
  },
  {
   "cell_type": "code",
   "execution_count": null,
   "id": "e51fe5d4-a1d9-4aab-a224-d7e1ac5af878",
   "metadata": {
    "tags": []
   },
   "outputs": [],
   "source": [
    "DS_hist"
   ]
  },
  {
   "cell_type": "code",
   "execution_count": null,
   "id": "4d9bc9ed-5561-495a-b8d4-95b581f2dc27",
   "metadata": {},
   "outputs": [],
   "source": []
  },
  {
   "cell_type": "markdown",
   "id": "803427e4-784e-470d-8ee5-ece7cee592fe",
   "metadata": {},
   "source": [
    "# do some basic comparisons"
   ]
  },
  {
   "cell_type": "markdown",
   "id": "8f50bdf1-501f-4afa-bf49-f1e4ba7ecab9",
   "metadata": {},
   "source": [
    "### Time mean TAS SSP126 - Historical"
   ]
  },
  {
   "cell_type": "code",
   "execution_count": null,
   "id": "b8897339-c48a-4745-b5dc-d3c6462e120d",
   "metadata": {
    "tags": []
   },
   "outputs": [],
   "source": [
    "hist_tas_mean = DS_hist.tas.mean('time')\n",
    "ssp126_tas_mean = DS_ssp126.tas.mean('time')                         "
   ]
  },
  {
   "cell_type": "code",
   "execution_count": null,
   "id": "e8737e99-71b1-4d5a-a86a-0d24e6cc580c",
   "metadata": {
    "tags": []
   },
   "outputs": [],
   "source": [
    "diff_tas_mean = ssp126_tas_mean - hist_tas_mean\n",
    "diff_tas_mean = diff_tas_mean.compute()"
   ]
  },
  {
   "cell_type": "code",
   "execution_count": null,
   "id": "7b6203e8-852e-4e10-b1ca-e03e850ef4af",
   "metadata": {
    "tags": []
   },
   "outputs": [],
   "source": [
    "diff_tas_mean.plot()\n",
    "plt.title('Time mean TAS SSP126 - Historical')\n"
   ]
  },
  {
   "cell_type": "markdown",
   "id": "d5028401-b968-49b4-811e-fa09e1e18c6d",
   "metadata": {},
   "source": [
    "### climatology"
   ]
  },
  {
   "cell_type": "code",
   "execution_count": null,
   "id": "a7996afd-e959-4c66-9aaf-643fe049af16",
   "metadata": {
    "tags": []
   },
   "outputs": [],
   "source": [
    "%%time\n",
    "hist_season = DS_hist.tas.groupby('time.season').mean('time').compute()\n",
    "ssp126_season = DS_ssp126.tas.groupby('time.season').mean('time').compute()"
   ]
  },
  {
   "cell_type": "code",
   "execution_count": null,
   "id": "6aafd8e1-4389-4f49-8cb5-f4730c3967b3",
   "metadata": {
    "tags": []
   },
   "outputs": [],
   "source": [
    "DJF_diff = ssp126_season.sel(season='DJF') - hist_season.sel(season='DJF')\n",
    "DJF_diff = DJF_diff.compute()"
   ]
  },
  {
   "cell_type": "code",
   "execution_count": null,
   "id": "7c866f38-1647-4dfa-8d21-70bec7d65c5f",
   "metadata": {
    "tags": []
   },
   "outputs": [],
   "source": [
    "DJF_diff.plot()\n",
    "plt.title('DJF season : SSP126 - Historical')"
   ]
  },
  {
   "cell_type": "markdown",
   "id": "694b33fb-f877-40ab-8acd-e931f5b8ae9a",
   "metadata": {},
   "source": [
    "# can we load from the single nested catalogue?"
   ]
  },
  {
   "cell_type": "code",
   "execution_count": null,
   "id": "0330452b-c93e-42ee-9cf8-f0ee4bdb5fcf",
   "metadata": {},
   "outputs": [],
   "source": [
    "root_cat= intake.open_catalog('/g/data/v14/tm4888/code/ACS/data-catalogue/catalogues/nested_test/ACS_root_catalogue.yaml')"
   ]
  },
  {
   "cell_type": "code",
   "execution_count": null,
   "id": "0b506e95-5b72-4390-bfc9-9d006de52dd5",
   "metadata": {},
   "outputs": [],
   "source": [
    "root_cat"
   ]
  },
  {
   "cell_type": "code",
   "execution_count": null,
   "id": "19d4ab9f-d9ac-450c-9966-6c70deee4778",
   "metadata": {
    "tags": []
   },
   "outputs": [],
   "source": [
    "list(root_cat)"
   ]
  },
  {
   "cell_type": "code",
   "execution_count": null,
   "id": "2d87b128-5004-4735-884d-f86789d49812",
   "metadata": {
    "tags": []
   },
   "outputs": [],
   "source": [
    "print(dir(root_cat))"
   ]
  },
  {
   "cell_type": "code",
   "execution_count": null,
   "id": "45ba6cf6-b4d4-4911-8653-74dd19989a37",
   "metadata": {},
   "outputs": [],
   "source": [
    "TAS_month_hist = root_cat.ccam_noresm2_mm_historical_aus_10i_12km.search(variable=['tas'],period='mon')\n",
    "TAS_month_ssp126 = root_cat.ccam_noresm2_mm_ssp126_aus_10i_12km.search(variable=['tas'],period='mon')"
   ]
  },
  {
   "cell_type": "code",
   "execution_count": null,
   "id": "39a540b6-2cc5-464e-9fc2-677322d99dd3",
   "metadata": {
    "tags": []
   },
   "outputs": [],
   "source": [
    "DS_dict_hist = TAS_month_hist.to_dataset_dict()\n",
    "DS_dict_ssp126 = TAS_month_ssp126.to_dataset_dict()\n",
    "ssp126_keys = list(DS_dict_ssp126.keys())\n",
    "hist_keys = list(DS_dict_hist.keys())\n",
    "DS_ssp126 = DS_dict_ssp126[ssp126_keys[0]]\n",
    "DS_hist = DS_dict_hist[hist_keys[0]]"
   ]
  },
  {
   "cell_type": "code",
   "execution_count": null,
   "id": "6558bc27-20f1-4045-aa50-c30947d52dfa",
   "metadata": {},
   "outputs": [],
   "source": [
    "hist_keys"
   ]
  },
  {
   "cell_type": "code",
   "execution_count": null,
   "id": "969dd6ea-75e2-45f2-99d3-bc7cad4ec84f",
   "metadata": {
    "tags": []
   },
   "outputs": [],
   "source": [
    "TAS_month_ssp126.df"
   ]
  },
  {
   "cell_type": "code",
   "execution_count": null,
   "id": "b2e1f0bb-93c7-44f3-a3ff-0807b7555e42",
   "metadata": {
    "tags": []
   },
   "outputs": [],
   "source": [
    "TAS_month_ssp126.df.variable.unique()"
   ]
  },
  {
   "cell_type": "code",
   "execution_count": null,
   "id": "7192e266-4f6c-41e7-b9d2-a83716bac72f",
   "metadata": {
    "tags": []
   },
   "outputs": [],
   "source": [
    "TAS_month_ssp126.df.period.unique()"
   ]
  },
  {
   "cell_type": "code",
   "execution_count": null,
   "id": "5cc6d8df-266d-43d4-9314-02f67c032c4b",
   "metadata": {
    "tags": []
   },
   "outputs": [],
   "source": [
    "mean_tas = DS_hist.tas.mean(dim='time')\n",
    "mean_tas"
   ]
  },
  {
   "cell_type": "code",
   "execution_count": null,
   "id": "75a8cb1e-4668-4a8c-9264-e2c978eb0fbd",
   "metadata": {
    "tags": []
   },
   "outputs": [],
   "source": [
    "%%time\n",
    "mean_tas = mean_tas.compute()"
   ]
  },
  {
   "cell_type": "code",
   "execution_count": null,
   "id": "092dc321-b358-4020-a73b-0321930e057f",
   "metadata": {
    "tags": []
   },
   "outputs": [],
   "source": [
    "mean_temp = mean_tas - 273.15"
   ]
  },
  {
   "cell_type": "code",
   "execution_count": null,
   "id": "da320570-7613-4187-b2c1-d51e0f4887d9",
   "metadata": {
    "tags": []
   },
   "outputs": [],
   "source": [
    "mean_temp.plot(robust=True)\n",
    "plt.title('Mean Near-Surface Air Temperature in degrees C for \\n AUS-10i.NCC-NorESM2-MM.historical.r1i1p1f1.CSIRO-CCAM-2203.v1.mon')"
   ]
  },
  {
   "cell_type": "markdown",
   "id": "7c45e4e0-1bdb-4ff7-b2c1-ab1ce976f392",
   "metadata": {},
   "source": [
    "# seasonal climatology"
   ]
  },
  {
   "cell_type": "code",
   "execution_count": null,
   "id": "23ca1ead-0d4d-4b9e-b945-b8848c916a2e",
   "metadata": {
    "tags": []
   },
   "outputs": [],
   "source": [
    "tas_season_mean = DS_hist.tas.groupby('time.season').mean('time')"
   ]
  },
  {
   "cell_type": "code",
   "execution_count": null,
   "id": "b97154ab-ce46-48ae-94bc-96d8a861ff5d",
   "metadata": {
    "tags": []
   },
   "outputs": [],
   "source": [
    "tas_season_mean"
   ]
  },
  {
   "cell_type": "code",
   "execution_count": null,
   "id": "d64eb5d0-d57c-4657-a272-55f92bff6a5c",
   "metadata": {
    "tags": []
   },
   "outputs": [],
   "source": [
    "temp_season_mean = tas_season_mean-273.15"
   ]
  },
  {
   "cell_type": "code",
   "execution_count": null,
   "id": "5ca3a6a1-9741-4050-b059-44e4b86f0289",
   "metadata": {
    "tags": []
   },
   "outputs": [],
   "source": [
    "temp_season_mean"
   ]
  },
  {
   "cell_type": "code",
   "execution_count": null,
   "id": "76d228e7-6f0c-49c2-8602-30f4a1b4074a",
   "metadata": {
    "tags": []
   },
   "outputs": [],
   "source": [
    "temp_season_mean.sel(season='JJA').plot(robust=True)\n",
    "plt.title('Winter(JJA) Near-Surface Air Temperature in degrees C for \\n AUS-10i.NCC-NorESM2-MM.historical.r1i1p1f1.CSIRO-CCAM-2203.v1.mon')"
   ]
  },
  {
   "cell_type": "markdown",
   "id": "91c4e76e-79f0-451d-8889-bbfe58f6e4a4",
   "metadata": {},
   "source": [
    "# how can we more elegantly pull data out of cats?"
   ]
  },
  {
   "cell_type": "markdown",
   "id": "e16606da-62a3-4500-806b-111e5716ec34",
   "metadata": {
    "tags": []
   },
   "source": [
    "### seems like we can't search across all data sources at once?"
   ]
  },
  {
   "cell_type": "code",
   "execution_count": null,
   "id": "2555960a-38d3-4bb8-922b-dfd5af258449",
   "metadata": {
    "tags": []
   },
   "outputs": [],
   "source": [
    "root_cat.search(variable=['tas'])"
   ]
  },
  {
   "cell_type": "markdown",
   "id": "52583c64-f0bd-43fa-8c78-4b6513b07c91",
   "metadata": {},
   "source": [
    "### show user all data sources"
   ]
  },
  {
   "cell_type": "code",
   "execution_count": null,
   "id": "84fd739d-9d5b-48b9-a557-5cfd314bae2a",
   "metadata": {
    "tags": []
   },
   "outputs": [],
   "source": [
    "def list_data_sources(root_cat=root_cat):\n",
    "    data_sources_list = list(root_cat)\n",
    "    print('all data source keys are:')\n",
    "    print(data_sources_list)\n",
    "    return data_sources_list"
   ]
  },
  {
   "cell_type": "code",
   "execution_count": null,
   "id": "6381a6a8-5725-4f24-994f-54d819c3166a",
   "metadata": {
    "tags": []
   },
   "outputs": [],
   "source": [
    "data_sources_list = list_data_sources()"
   ]
  },
  {
   "cell_type": "markdown",
   "id": "361b3d96-e4a4-41cc-b424-7fdb36952205",
   "metadata": {},
   "source": [
    "### we want to load datasets with data from a single source per search"
   ]
  },
  {
   "cell_type": "markdown",
   "id": "c52b5fbe-863c-41fd-a141-0c00f87fd262",
   "metadata": {},
   "source": [
    "#### How to search across key string? \"find all noresm2 based runs\""
   ]
  },
  {
   "cell_type": "code",
   "execution_count": null,
   "id": "74f18276-5760-4fd6-846f-08b70fe6e872",
   "metadata": {
    "tags": []
   },
   "outputs": [],
   "source": [
    "search_string = 'noresm2'\n",
    "indicies = [i for i, s in enumerate(data_sources_list) if search_string in s]\n",
    "print(indicies)"
   ]
  },
  {
   "cell_type": "code",
   "execution_count": null,
   "id": "e8b23025-8571-4bb8-8557-00230e621862",
   "metadata": {
    "tags": []
   },
   "outputs": [],
   "source": [
    "def search_data_source_by_string(search_string,root_cat=root_cat):\n",
    "    print('search string is:'+ search_string +'\\n')\n",
    "    data_sources_list = list_data_sources(root_cat)\n",
    "    indicies = [i for i, s in enumerate(data_sources_list) if search_string in s]\n",
    "    print('\\n matching indicies are:')\n",
    "    for item in [str(i) for i in indicies]:\n",
    "        print(item)\n",
    "    matching_keys = [data_sources_list[i] for i in indicies]\n",
    "    print('\\n matching keys are:')\n",
    "    for item in matching_keys:\n",
    "        print(item)\n",
    "    return indicies, matching_keys"
   ]
  },
  {
   "cell_type": "code",
   "execution_count": null,
   "id": "bb379a8e-cb8a-4af5-b94e-cdb2176e8f1b",
   "metadata": {
    "tags": []
   },
   "outputs": [],
   "source": [
    "indicies, matching_keys = search_data_source_by_string('noresm2')"
   ]
  },
  {
   "cell_type": "markdown",
   "id": "93164bf2-4cc1-4603-9484-31edac3474cb",
   "metadata": {},
   "source": [
    "## pull out the DF's for a data source"
   ]
  },
  {
   "cell_type": "code",
   "execution_count": null,
   "id": "0d3a5151-fabd-4a82-ac84-ea28b102b06e",
   "metadata": {},
   "outputs": [],
   "source": [
    "DF = root_cat[matching_keys[0]].df\n",
    "DF"
   ]
  },
  {
   "cell_type": "markdown",
   "id": "71e452b5-67b2-4c85-8c96-a56952d151df",
   "metadata": {},
   "source": [
    "## setup searches"
   ]
  },
  {
   "cell_type": "code",
   "execution_count": null,
   "id": "8b84edf4-5015-47e3-9a93-3d853289da00",
   "metadata": {
    "tags": []
   },
   "outputs": [],
   "source": [
    "search_dict = {}\n",
    "i = 1\n",
    "for key in matching_keys:\n",
    "    var_name = \"search\" + str(i)\n",
    "    search_dict[var_name] = root_cat[key].search(variable=['tas','CAPE','zmla'],time_period=['monthly','daily'])\n",
    "    i +=1"
   ]
  },
  {
   "cell_type": "code",
   "execution_count": null,
   "id": "7c295980-deed-41c5-a1d5-2921ceb30054",
   "metadata": {
    "tags": []
   },
   "outputs": [],
   "source": [
    "search_dict"
   ]
  },
  {
   "cell_type": "code",
   "execution_count": null,
   "id": "2d9a3b3d-81b5-4ee2-ba33-70b154e1610b",
   "metadata": {
    "tags": []
   },
   "outputs": [],
   "source": [
    "search_dict['search1'].unique()"
   ]
  },
  {
   "cell_type": "code",
   "execution_count": null,
   "id": "78630e2a-9a98-44a2-8bab-f74fa69f98b5",
   "metadata": {
    "tags": []
   },
   "outputs": [],
   "source": [
    "def search_for(root_cat=root_cat,\n",
    "               variables=['tas'],\n",
    "               product='ccam_noresm2_mm_historical_aus_10i_12km',\n",
    "               domains=['AUS-10i'],\n",
    "               host_GCMs=['NCC-NorESM2-MM'],\n",
    "               run_types=['historical'],\n",
    "               host_ensembles=['r1i1p1f1'],\n",
    "               downscale_models = ['CSIRO-CCAM-2203'],\n",
    "               downscale_versions = ['v1'],\n",
    "               time_periods=['monthly']):\n",
    "    search_result = root_cat[product].search(variable=variables,time_period=time_periods)\n",
    "    return search_result"
   ]
  },
  {
   "cell_type": "code",
   "execution_count": null,
   "id": "5cad59f9-2d8b-4d07-b682-9139200739e1",
   "metadata": {
    "tags": []
   },
   "outputs": [],
   "source": [
    "variables = ['tas','CAPE','zmla']"
   ]
  },
  {
   "cell_type": "code",
   "execution_count": null,
   "id": "c902a37b-76f0-4d48-9714-1e93e8178f87",
   "metadata": {
    "tags": []
   },
   "outputs": [],
   "source": [
    "search_result = search_for(variables=variables)"
   ]
  },
  {
   "cell_type": "code",
   "execution_count": null,
   "id": "2b76a750-d23a-4473-8561-4a5a05c3ed42",
   "metadata": {
    "tags": []
   },
   "outputs": [],
   "source": [
    "DS_dict = search_result.to_dataset_dict()"
   ]
  },
  {
   "cell_type": "code",
   "execution_count": null,
   "id": "2bd2197b-934c-4dd7-b5ff-43784a820ede",
   "metadata": {
    "tags": []
   },
   "outputs": [],
   "source": [
    "DS_dict['AUS-10i.NCC-NorESM2-MM.historical.r1i1p1f1.CSIRO-CCAM-2203.v1.mon']"
   ]
  },
  {
   "cell_type": "code",
   "execution_count": null,
   "id": "880d6a45-2c17-472d-b014-0c87479940e0",
   "metadata": {
    "tags": []
   },
   "outputs": [],
   "source": [
    "DS = search_result.to_dask()"
   ]
  },
  {
   "cell_type": "code",
   "execution_count": null,
   "id": "8cac8279-ae31-473b-9abf-bbefff961641",
   "metadata": {
    "tags": []
   },
   "outputs": [],
   "source": [
    "DS.nbytes/1e9"
   ]
  },
  {
   "cell_type": "code",
   "execution_count": null,
   "id": "e9803632-c679-4e39-aa8c-25d7788bf4d6",
   "metadata": {},
   "outputs": [],
   "source": [
    "DS"
   ]
  },
  {
   "cell_type": "code",
   "execution_count": null,
   "id": "b6d013fb-f919-4bab-9589-6e81c4f95267",
   "metadata": {},
   "outputs": [],
   "source": []
  },
  {
   "cell_type": "code",
   "execution_count": null,
   "id": "7e82a2c4-3a7a-410e-b31c-a3b52d88abfe",
   "metadata": {},
   "outputs": [],
   "source": []
  },
  {
   "cell_type": "code",
   "execution_count": null,
   "id": "d441c7e2-a826-4027-9c82-b38146f95f17",
   "metadata": {},
   "outputs": [],
   "source": [
    "product='ccam_noresm2_mm_historical_aus_10i_12km'\n",
    "domains=['AUS-10i']\n",
    "host_GCMs=['NCC-NorESM2-MM']\n",
    "run_types=['historical']\n",
    "host_ensembles=['r1i1p1f1']\n",
    "downscale_models = ['CSIRO-CCAM-2203']\n",
    "downscale_versions = ['v1']\n",
    "time_periods=['monthly']"
   ]
  },
  {
   "cell_type": "code",
   "execution_count": null,
   "id": "6751fa79-6b0b-40ee-bc04-c6890b5f1c9a",
   "metadata": {
    "tags": []
   },
   "outputs": [],
   "source": [
    "product"
   ]
  },
  {
   "cell_type": "code",
   "execution_count": null,
   "id": "873c630b-56e2-4b1c-8d76-b750adddba46",
   "metadata": {
    "tags": []
   },
   "outputs": [],
   "source": [
    "root_cat[product]"
   ]
  },
  {
   "cell_type": "code",
   "execution_count": null,
   "id": "f9e4149f-b316-431b-baa0-e07df6e3ad2f",
   "metadata": {
    "tags": []
   },
   "outputs": [],
   "source": [
    "root_cat.ccam_noresm2_mm_historical_aus_10i_12km"
   ]
  },
  {
   "cell_type": "code",
   "execution_count": null,
   "id": "9269ceb0-6806-4182-ae78-2927751b2d39",
   "metadata": {
    "tags": []
   },
   "outputs": [],
   "source": [
    "root_cat.ccam_noresm2_mm_historical_aus_10i_12km.df"
   ]
  },
  {
   "cell_type": "code",
   "execution_count": null,
   "id": "0bcc3369-475f-49fc-a52e-118655a43bb4",
   "metadata": {},
   "outputs": [],
   "source": []
  },
  {
   "cell_type": "code",
   "execution_count": null,
   "id": "49f83ac7-ee71-43f7-ab31-a0e0544c83db",
   "metadata": {},
   "outputs": [],
   "source": []
  },
  {
   "cell_type": "code",
   "execution_count": null,
   "id": "24b58f6a-6c89-42a9-9b80-2f5b7aa52dc7",
   "metadata": {},
   "outputs": [],
   "source": []
  },
  {
   "cell_type": "code",
   "execution_count": null,
   "id": "ba3c25cf-5dcb-4186-86ee-0f73a2d2aee4",
   "metadata": {},
   "outputs": [],
   "source": []
  },
  {
   "cell_type": "code",
   "execution_count": null,
   "id": "ab350d5e-17c2-4cb3-a038-349eb65ba4c1",
   "metadata": {},
   "outputs": [],
   "source": []
  },
  {
   "cell_type": "code",
   "execution_count": null,
   "id": "b54f64eb-8234-47f2-8e51-6fa0b77c4fb0",
   "metadata": {},
   "outputs": [],
   "source": []
  },
  {
   "cell_type": "code",
   "execution_count": null,
   "id": "a6d1b22d-65dd-4383-86af-8e5ab66218d2",
   "metadata": {},
   "outputs": [],
   "source": []
  },
  {
   "cell_type": "code",
   "execution_count": null,
   "id": "0ab72915-d379-4516-9d3c-d881b9d86035",
   "metadata": {},
   "outputs": [],
   "source": []
  },
  {
   "cell_type": "code",
   "execution_count": null,
   "id": "d00b1dc7-5240-4748-9b47-1c2bc762eb74",
   "metadata": {},
   "outputs": [],
   "source": [
    "client.restart()"
   ]
  },
  {
   "cell_type": "code",
   "execution_count": null,
   "id": "8cf1a004-6d38-4123-b0ce-3bf980ad5bd8",
   "metadata": {},
   "outputs": [],
   "source": [
    "client.close()"
   ]
  }
 ],
 "metadata": {
  "kernelspec": {
   "display_name": "Python 3 (ipykernel)",
   "language": "python",
   "name": "python3"
  },
  "language_info": {
   "codemirror_mode": {
    "name": "ipython",
    "version": 3
   },
   "file_extension": ".py",
   "mimetype": "text/x-python",
   "name": "python",
   "nbconvert_exporter": "python",
   "pygments_lexer": "ipython3",
   "version": "3.10.9"
  }
 },
 "nbformat": 4,
 "nbformat_minor": 5
}
